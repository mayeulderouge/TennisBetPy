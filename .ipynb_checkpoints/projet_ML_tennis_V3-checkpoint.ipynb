{
 "cells": [
  {
   "cell_type": "markdown",
   "metadata": {
    "id": "WYVH4cgSXrVu"
   },
   "source": [
    "<center><h1><b>Rapport de projet : </b></h1></center>\n",
    "\n",
    "<hr style=\"border-width:2px;border-color:#75DFC1\">\n",
    "<center><h2>Beat the Bookmaker</h2></center>\n",
    "<hr style=\"border-width:2px;border-color:#75DFC1\">\n",
    "<center><p>Mayeul de Rougé</p><p>Nordine Remili</p></center>\n",
    "<i>Mentor :\n",
    "Dan</i><i><br>\n",
    "Session :\n",
    "mai22_bootcamp_ds</i><br>\n",
    "<i>Date : juin 2022</i>"
   ]
  },
  {
   "cell_type": "code",
   "execution_count": 1,
   "metadata": {
    "cellView": "form",
    "colab": {
     "base_uri": "https://localhost:8080/",
     "height": 321
    },
    "executionInfo": {
     "elapsed": 376,
     "status": "ok",
     "timestamp": 1657186696398,
     "user": {
      "displayName": "Mayeul de Rougé",
      "userId": "12836380890528998156"
     },
     "user_tz": -120
    },
    "id": "JWsUrocFF_1N",
    "outputId": "de26da68-fcde-4e64-9f84-c0e71d8e88dc"
   },
   "outputs": [
    {
     "data": {
      "text/html": [
       "<img src=\"https://www.tactennis.fr/wp-content/uploads/sites/1934/2017/07/922901-terre-battue-1000x558.jpg\" width=\"600\" height=\"300\"/>"
      ],
      "text/plain": [
       "<IPython.core.display.Image object>"
      ]
     },
     "execution_count": 1,
     "metadata": {},
     "output_type": "execute_result"
    }
   ],
   "source": [
    "#@title\n",
    "from IPython.display import Image\n",
    "Image(url='https://www.tactennis.fr/wp-content/uploads/sites/1934/2017/07/922901-terre-battue-1000x558.jpg', width = 600, height = 300)"
   ]
  },
  {
   "cell_type": "markdown",
   "metadata": {
    "id": "AdrofxRacWiY"
   },
   "source": [
    "Nous vous présentons dans ce rapport l’étude qui nous a été proposée de réaliser pendant notre formation. Il s’agit du projet “Beat the Bookmaker”. Le sujet nous laissait le choix entre deux univers sportifs : le football ou le tennis. Nordine et moi-même ayant une préférence pour le tennis, et devant prendre une décision pendant Rolland Garros, notre choix s’est donc facilement porté sur le Tennis.\n",
    "\n",
    "Présenté simplement, l’objectif de notre étude est de “battre” les bookmakers.\n",
    "On peut voir plusieurs axes de recherche pour obtenir de meilleurs résultats que les bookmakers : \n",
    "prédire avec un meilleur taux de prédiction que le bookmaker, le joueur qui remporte la rencontre. Il va s’agir pour cela de déterminer un modèle de machine learning capable de surpasser les performances des bookmakers concernant le gagnant de chaque match\n",
    "déterminer la côte optimale de chaque match pour avoir la plus grande rentabilité en terme de gain.\n",
    "\n",
    "Par manque de temps et afin de rendre un travail de qualité, nous avons fait le choix de concentrer notre étude sur le premier axe : créer et optimiser un modèle de machine learning capable de prédire l’issue d’un match. Pour cela, il est nécessaire de commencer par l’exploration de notre jeux de données.\n"
   ]
  },
  {
   "cell_type": "markdown",
   "metadata": {
    "id": "Nl7Ul1uqF_1P"
   },
   "source": [
    "---\n",
    "## Exploration du jeux de données\n",
    "---"
   ]
  },
  {
   "cell_type": "markdown",
   "metadata": {
    "id": "o6fmwQqkF_1Q"
   },
   "source": [
    "Pour notre projet nous nous appuyons sur le dataset disponible sur Kaggle : https://www.kaggle.com/code/edouardthomas/beat-the-bookmakers-with-machine-learning-tennis/data?select=atp_data.csv\n",
    "Ce dataset est tiré des données du site tennis.co.uk , listant tous les matchs ayant eu lieu entre les années 2000 et 2018.\n",
    "\n",
    "Afin d’exploiter celui-ci, importons pandas ainsi que les autres bibliothèques nécessaires pour bien démarrer notre exploration de données :\n"
   ]
  },
  {
   "cell_type": "code",
   "execution_count": 2,
   "metadata": {
    "executionInfo": {
     "elapsed": 687,
     "status": "ok",
     "timestamp": 1657186697494,
     "user": {
      "displayName": "Mayeul de Rougé",
      "userId": "12836380890528998156"
     },
     "user_tz": -120
    },
    "id": "eHm2541FF_1Q"
   },
   "outputs": [],
   "source": [
    "%matplotlib inline\n",
    "import pandas as pd\n",
    "import numpy as np\n",
    "import matplotlib.pyplot as plt\n",
    "import seaborn as sns\n",
    "sns.set();"
   ]
  },
  {
   "cell_type": "markdown",
   "metadata": {
    "id": "X7NrKFwXF_1R"
   },
   "source": [
    "Affichons les premières lignes de notre dataset :"
   ]
  },
  {
   "cell_type": "code",
   "execution_count": 3,
   "metadata": {
    "colab": {
     "base_uri": "https://localhost:8080/",
     "height": 421
    },
    "executionInfo": {
     "elapsed": 529,
     "status": "ok",
     "timestamp": 1657186697805,
     "user": {
      "displayName": "Mayeul de Rougé",
      "userId": "12836380890528998156"
     },
     "user_tz": -120
    },
    "id": "wv_ZespHF_1R",
    "outputId": "2620ac45-5878-4a0f-e7e0-906f709dd3fb"
   },
   "outputs": [
    {
     "data": {
      "text/html": [
       "<div>\n",
       "<style scoped>\n",
       "    .dataframe tbody tr th:only-of-type {\n",
       "        vertical-align: middle;\n",
       "    }\n",
       "\n",
       "    .dataframe tbody tr th {\n",
       "        vertical-align: top;\n",
       "    }\n",
       "\n",
       "    .dataframe thead th {\n",
       "        text-align: right;\n",
       "    }\n",
       "</style>\n",
       "<table border=\"1\" class=\"dataframe\">\n",
       "  <thead>\n",
       "    <tr style=\"text-align: right;\">\n",
       "      <th></th>\n",
       "      <th>ATP</th>\n",
       "      <th>Location</th>\n",
       "      <th>Tournament</th>\n",
       "      <th>Date</th>\n",
       "      <th>Series</th>\n",
       "      <th>Court</th>\n",
       "      <th>Surface</th>\n",
       "      <th>Round</th>\n",
       "      <th>Best of</th>\n",
       "      <th>Winner</th>\n",
       "      <th>...</th>\n",
       "      <th>Wsets</th>\n",
       "      <th>Lsets</th>\n",
       "      <th>Comment</th>\n",
       "      <th>PSW</th>\n",
       "      <th>PSL</th>\n",
       "      <th>B365W</th>\n",
       "      <th>B365L</th>\n",
       "      <th>elo_winner</th>\n",
       "      <th>elo_loser</th>\n",
       "      <th>proba_elo</th>\n",
       "    </tr>\n",
       "  </thead>\n",
       "  <tbody>\n",
       "    <tr>\n",
       "      <th>0</th>\n",
       "      <td>1</td>\n",
       "      <td>Adelaide</td>\n",
       "      <td>Australian Hardcourt Championships</td>\n",
       "      <td>2000-01-03</td>\n",
       "      <td>International</td>\n",
       "      <td>Outdoor</td>\n",
       "      <td>Hard</td>\n",
       "      <td>1st Round</td>\n",
       "      <td>3</td>\n",
       "      <td>Dosedel S.</td>\n",
       "      <td>...</td>\n",
       "      <td>2.0</td>\n",
       "      <td>0.0</td>\n",
       "      <td>Completed</td>\n",
       "      <td>NaN</td>\n",
       "      <td>NaN</td>\n",
       "      <td>NaN</td>\n",
       "      <td>NaN</td>\n",
       "      <td>1500.0</td>\n",
       "      <td>1500.0</td>\n",
       "      <td>0.5</td>\n",
       "    </tr>\n",
       "    <tr>\n",
       "      <th>1</th>\n",
       "      <td>3</td>\n",
       "      <td>Doha</td>\n",
       "      <td>Qatar Open</td>\n",
       "      <td>2000-01-03</td>\n",
       "      <td>International</td>\n",
       "      <td>Outdoor</td>\n",
       "      <td>Hard</td>\n",
       "      <td>1st Round</td>\n",
       "      <td>3</td>\n",
       "      <td>Kiefer N.</td>\n",
       "      <td>...</td>\n",
       "      <td>2.0</td>\n",
       "      <td>0.0</td>\n",
       "      <td>Completed</td>\n",
       "      <td>NaN</td>\n",
       "      <td>NaN</td>\n",
       "      <td>NaN</td>\n",
       "      <td>NaN</td>\n",
       "      <td>1500.0</td>\n",
       "      <td>1500.0</td>\n",
       "      <td>0.5</td>\n",
       "    </tr>\n",
       "    <tr>\n",
       "      <th>2</th>\n",
       "      <td>3</td>\n",
       "      <td>Doha</td>\n",
       "      <td>Qatar Open</td>\n",
       "      <td>2000-01-03</td>\n",
       "      <td>International</td>\n",
       "      <td>Outdoor</td>\n",
       "      <td>Hard</td>\n",
       "      <td>1st Round</td>\n",
       "      <td>3</td>\n",
       "      <td>Gaudio G.</td>\n",
       "      <td>...</td>\n",
       "      <td>2.0</td>\n",
       "      <td>1.0</td>\n",
       "      <td>Completed</td>\n",
       "      <td>NaN</td>\n",
       "      <td>NaN</td>\n",
       "      <td>NaN</td>\n",
       "      <td>NaN</td>\n",
       "      <td>1500.0</td>\n",
       "      <td>1500.0</td>\n",
       "      <td>0.5</td>\n",
       "    </tr>\n",
       "    <tr>\n",
       "      <th>3</th>\n",
       "      <td>3</td>\n",
       "      <td>Doha</td>\n",
       "      <td>Qatar Open</td>\n",
       "      <td>2000-01-03</td>\n",
       "      <td>International</td>\n",
       "      <td>Outdoor</td>\n",
       "      <td>Hard</td>\n",
       "      <td>1st Round</td>\n",
       "      <td>3</td>\n",
       "      <td>El Aynaoui Y.</td>\n",
       "      <td>...</td>\n",
       "      <td>2.0</td>\n",
       "      <td>1.0</td>\n",
       "      <td>Completed</td>\n",
       "      <td>NaN</td>\n",
       "      <td>NaN</td>\n",
       "      <td>NaN</td>\n",
       "      <td>NaN</td>\n",
       "      <td>1500.0</td>\n",
       "      <td>1500.0</td>\n",
       "      <td>0.5</td>\n",
       "    </tr>\n",
       "    <tr>\n",
       "      <th>4</th>\n",
       "      <td>3</td>\n",
       "      <td>Doha</td>\n",
       "      <td>Qatar Open</td>\n",
       "      <td>2000-01-03</td>\n",
       "      <td>International</td>\n",
       "      <td>Outdoor</td>\n",
       "      <td>Hard</td>\n",
       "      <td>1st Round</td>\n",
       "      <td>3</td>\n",
       "      <td>Cherkasov A.</td>\n",
       "      <td>...</td>\n",
       "      <td>2.0</td>\n",
       "      <td>0.0</td>\n",
       "      <td>Completed</td>\n",
       "      <td>NaN</td>\n",
       "      <td>NaN</td>\n",
       "      <td>NaN</td>\n",
       "      <td>NaN</td>\n",
       "      <td>1500.0</td>\n",
       "      <td>1500.0</td>\n",
       "      <td>0.5</td>\n",
       "    </tr>\n",
       "  </tbody>\n",
       "</table>\n",
       "<p>5 rows × 23 columns</p>\n",
       "</div>"
      ],
      "text/plain": [
       "   ATP  Location                          Tournament        Date  \\\n",
       "0    1  Adelaide  Australian Hardcourt Championships  2000-01-03   \n",
       "1    3      Doha                          Qatar Open  2000-01-03   \n",
       "2    3      Doha                          Qatar Open  2000-01-03   \n",
       "3    3      Doha                          Qatar Open  2000-01-03   \n",
       "4    3      Doha                          Qatar Open  2000-01-03   \n",
       "\n",
       "          Series    Court Surface      Round  Best of         Winner  ...  \\\n",
       "0  International  Outdoor    Hard  1st Round        3     Dosedel S.  ...   \n",
       "1  International  Outdoor    Hard  1st Round        3      Kiefer N.  ...   \n",
       "2  International  Outdoor    Hard  1st Round        3      Gaudio G.  ...   \n",
       "3  International  Outdoor    Hard  1st Round        3  El Aynaoui Y.  ...   \n",
       "4  International  Outdoor    Hard  1st Round        3   Cherkasov A.  ...   \n",
       "\n",
       "  Wsets  Lsets    Comment  PSW  PSL B365W  B365L  elo_winner  elo_loser  \\\n",
       "0   2.0    0.0  Completed  NaN  NaN   NaN    NaN      1500.0     1500.0   \n",
       "1   2.0    0.0  Completed  NaN  NaN   NaN    NaN      1500.0     1500.0   \n",
       "2   2.0    1.0  Completed  NaN  NaN   NaN    NaN      1500.0     1500.0   \n",
       "3   2.0    1.0  Completed  NaN  NaN   NaN    NaN      1500.0     1500.0   \n",
       "4   2.0    0.0  Completed  NaN  NaN   NaN    NaN      1500.0     1500.0   \n",
       "\n",
       "   proba_elo  \n",
       "0        0.5  \n",
       "1        0.5  \n",
       "2        0.5  \n",
       "3        0.5  \n",
       "4        0.5  \n",
       "\n",
       "[5 rows x 23 columns]"
      ]
     },
     "execution_count": 3,
     "metadata": {},
     "output_type": "execute_result"
    }
   ],
   "source": [
    "df = pd.read_csv(\"atp_data.csv\",low_memory=False)\n",
    "df.head()"
   ]
  },
  {
   "cell_type": "markdown",
   "metadata": {
    "id": "-wNaYiFdF_1S"
   },
   "source": [
    "#### Composition du dataset"
   ]
  },
  {
   "cell_type": "markdown",
   "metadata": {
    "id": "0EsPVK9dF_1T"
   },
   "source": [
    "Il est indispensable avant tout d’étudier notre dataset ; chaque ligne représente un match entre deux joueurs faisant partie du classement ATP."
   ]
  },
  {
   "cell_type": "code",
   "execution_count": 4,
   "metadata": {
    "colab": {
     "base_uri": "https://localhost:8080/"
    },
    "executionInfo": {
     "elapsed": 15,
     "status": "ok",
     "timestamp": 1657186697806,
     "user": {
      "displayName": "Mayeul de Rougé",
      "userId": "12836380890528998156"
     },
     "user_tz": -120
    },
    "id": "425OBrYyF_1T",
    "outputId": "9c18ffd0-c1c7-448b-b623-33113ee2cafd"
   },
   "outputs": [
    {
     "name": "stdout",
     "output_type": "stream",
     "text": [
      "<class 'pandas.core.frame.DataFrame'>\n",
      "RangeIndex: 44708 entries, 0 to 44707\n",
      "Data columns (total 23 columns):\n",
      " #   Column      Non-Null Count  Dtype  \n",
      "---  ------      --------------  -----  \n",
      " 0   ATP         44708 non-null  int64  \n",
      " 1   Location    44708 non-null  object \n",
      " 2   Tournament  44708 non-null  object \n",
      " 3   Date        44708 non-null  object \n",
      " 4   Series      44708 non-null  object \n",
      " 5   Court       44708 non-null  object \n",
      " 6   Surface     44708 non-null  object \n",
      " 7   Round       44708 non-null  object \n",
      " 8   Best of     44708 non-null  int64  \n",
      " 9   Winner      44708 non-null  object \n",
      " 10  Loser       44708 non-null  object \n",
      " 11  WRank       44708 non-null  int64  \n",
      " 12  LRank       44708 non-null  int64  \n",
      " 13  Wsets       44521 non-null  float64\n",
      " 14  Lsets       44521 non-null  float64\n",
      " 15  Comment     44708 non-null  object \n",
      " 16  PSW         32743 non-null  float64\n",
      " 17  PSL         32743 non-null  float64\n",
      " 18  B365W       39037 non-null  float64\n",
      " 19  B365L       39057 non-null  float64\n",
      " 20  elo_winner  44708 non-null  float64\n",
      " 21  elo_loser   44708 non-null  float64\n",
      " 22  proba_elo   44708 non-null  float64\n",
      "dtypes: float64(9), int64(4), object(10)\n",
      "memory usage: 7.8+ MB\n"
     ]
    }
   ],
   "source": [
    "df.info()"
   ]
  },
  {
   "cell_type": "markdown",
   "metadata": {
    "id": "PO7HKe4pF_1U"
   },
   "source": [
    "#### Définition des colonnes"
   ]
  },
  {
   "cell_type": "markdown",
   "metadata": {
    "id": "9w05E6gMF_1U"
   },
   "source": [
    "La description des colonnes est disponible sur Kaggle : https://www.kaggle.com/code/edouardthomas/beat-the-bookmakers-with-machine-learning-tennis/data?select=atp_data.csv"
   ]
  },
  {
   "cell_type": "markdown",
   "metadata": {
    "id": "NQ2xROyhF_1V"
   },
   "source": [
    "---\n",
    "## Nettoyage des données\n",
    "---"
   ]
  },
  {
   "cell_type": "markdown",
   "metadata": {
    "id": "dsVPhRQvF_1V"
   },
   "source": [
    "#### Gestion des valeurs manquantes , NA et doublons"
   ]
  },
  {
   "cell_type": "markdown",
   "metadata": {
    "id": "3PJ4FW7QF_1V"
   },
   "source": [
    "Nous voulons nous assurer dans un premier temps que notre datasets est ‘propre’.\n",
    "Regardons quelle est la proportion de valeurs manquantes par colonne :"
   ]
  },
  {
   "cell_type": "code",
   "execution_count": 5,
   "metadata": {
    "colab": {
     "base_uri": "https://localhost:8080/"
    },
    "executionInfo": {
     "elapsed": 11,
     "status": "ok",
     "timestamp": 1657186697806,
     "user": {
      "displayName": "Mayeul de Rougé",
      "userId": "12836380890528998156"
     },
     "user_tz": -120
    },
    "id": "oUtSau0WF_1W",
    "outputId": "1be85a9f-ac77-4d5c-ac9d-1ff3a40a8f9b"
   },
   "outputs": [
    {
     "data": {
      "text/plain": [
       "ATP               0\n",
       "Location          0\n",
       "Tournament        0\n",
       "Date              0\n",
       "Series            0\n",
       "Court             0\n",
       "Surface           0\n",
       "Round             0\n",
       "Best of           0\n",
       "Winner            0\n",
       "Loser             0\n",
       "WRank             0\n",
       "LRank             0\n",
       "Wsets           187\n",
       "Lsets           187\n",
       "Comment           0\n",
       "PSW           11965\n",
       "PSL           11965\n",
       "B365W          5671\n",
       "B365L          5651\n",
       "elo_winner        0\n",
       "elo_loser         0\n",
       "proba_elo         0\n",
       "dtype: int64"
      ]
     },
     "execution_count": 5,
     "metadata": {},
     "output_type": "execute_result"
    }
   ],
   "source": [
    "df.isna().sum()"
   ]
  },
  {
   "cell_type": "markdown",
   "metadata": {
    "id": "TJY8B8FKF_1W"
   },
   "source": [
    "Nous pouvons supprimer certaines colonnes qui ne sont pas pertinentes pour le modèle de machine learning que nous voulons définir. Les colonnes PSW, PSL, B365W et B365L correspondent aux côtes établies par les bookmakers. Nous n’en avons pas besoin. De même, nous enlevons les colonnes proba_elo, elo_winner et elo_loser qui sont des colonnes calculées. La colonne proba_elo est une probabilité définie par le créateur du dataset, assez difficile à interpréter que nous ne détaillerons pas dans ce document. Si vous souhaitez avoir plus d’information sur la formule utilisée, je vous invite à visiter la page : https://github.com/edouardthom/ATPBetting/blob/master/Python/elo_features.py\n",
    "Les colonnes Wsets et Lsets doivent être retirées également car elles correspondent à des informations d’après-match. \n"
   ]
  },
  {
   "cell_type": "code",
   "execution_count": 6,
   "metadata": {
    "executionInfo": {
     "elapsed": 8,
     "status": "ok",
     "timestamp": 1657186697807,
     "user": {
      "displayName": "Mayeul de Rougé",
      "userId": "12836380890528998156"
     },
     "user_tz": -120
    },
    "id": "4IKrp_oWF_1W"
   },
   "outputs": [],
   "source": [
    "df = df.drop(['PSW', 'PSL', 'B365W', 'B365L', 'proba_elo', 'elo_winner', 'elo_loser', 'Wsets', 'Lsets'], axis=1)"
   ]
  },
  {
   "cell_type": "markdown",
   "metadata": {
    "id": "6JRoCy-1F_1X"
   },
   "source": [
    "Il n’y a donc plus de valeur manquante dans notre jeux de données.\n",
    "Vérifions qu’il n’existe pas de lignes en doublons :"
   ]
  },
  {
   "cell_type": "code",
   "execution_count": 7,
   "metadata": {
    "colab": {
     "base_uri": "https://localhost:8080/"
    },
    "executionInfo": {
     "elapsed": 215,
     "status": "ok",
     "timestamp": 1657186698015,
     "user": {
      "displayName": "Mayeul de Rougé",
      "userId": "12836380890528998156"
     },
     "user_tz": -120
    },
    "id": "ugC7WxDJF_1X",
    "outputId": "0a20c64a-2b4c-4c6d-9fe2-a78f1830cd1a"
   },
   "outputs": [
    {
     "name": "stdout",
     "output_type": "stream",
     "text": [
      "0\n"
     ]
    }
   ],
   "source": [
    "print(df.duplicated().sum())"
   ]
  },
  {
   "cell_type": "markdown",
   "metadata": {
    "id": "0claRmp5F_1X"
   },
   "source": [
    "Notre jeux de données ne comporte désormais plus de valeurs manquantes, ni de doublons. Nous pouvons à présent créer des visualisations pour “faire parler” celui-ci."
   ]
  },
  {
   "cell_type": "code",
   "execution_count": 11,
   "metadata": {},
   "outputs": [],
   "source": [
    "df_visualisation_dataset = df.to_csv('df_visualisation_dataset.csv', sep=\";\")"
   ]
  },
  {
   "cell_type": "markdown",
   "metadata": {
    "id": "lafSaC40F_1Y"
   },
   "source": [
    "---\n",
    "## Visualisation du dataset\n",
    "---"
   ]
  },
  {
   "cell_type": "markdown",
   "metadata": {
    "id": "NZpmzQviF_1Y"
   },
   "source": [
    "Affichons le nombre de matchs joués par les 10 joueurs ayant gagné le plus de matchs :"
   ]
  },
  {
   "cell_type": "code",
   "execution_count": 8,
   "metadata": {
    "colab": {
     "base_uri": "https://localhost:8080/",
     "height": 284
    },
    "executionInfo": {
     "elapsed": 325,
     "status": "ok",
     "timestamp": 1657186698338,
     "user": {
      "displayName": "Mayeul de Rougé",
      "userId": "12836380890528998156"
     },
     "user_tz": -120
    },
    "id": "XKv3nshhF_1Y",
    "outputId": "5e05dd15-c8de-42a2-b45a-1fc803fad351"
   },
   "outputs": [
    {
     "data": {
      "image/png": "[encoded data removed]",
      "text/plain": [
       "<Figure size 432x288 with 1 Axes>"
      ]
     },
     "metadata": {},
     "output_type": "display_data"
    }
   ],
   "source": [
    "#Top 10 des joueurs ayant gagnés le plus de matchs\n",
    "top_winner = df[\"Winner\"].value_counts().head(10)\n",
    "sns.barplot(x = top_winner.values, y=top_winner.index).set(title='Top 10 des joueurs ayant gagnés le plus de matchs');\n",
    "\n"
   ]
  },
  {
   "cell_type": "markdown",
   "metadata": {
    "id": "u7zYjwbRF_1Y"
   },
   "source": [
    "On retrouve les noms des joueurs bien connus du circuit.\n",
    "\n",
    "Attention, ce top 10 ne représente pas le top 10 du classement 2018. Nous pourrions vouloir afficher le top 10 des meilleurs joueurs du classement ; cela n’aurait pas de sens dans la mesure où le classement n’est pas figé. Il évolue à chaque match et est présent dans la colonne WRank. En effet, on peut voir par exemple que Federer a été classé 65e dans les années 2000 : \n"
   ]
  },
  {
   "cell_type": "code",
   "execution_count": 9,
   "metadata": {
    "colab": {
     "base_uri": "https://localhost:8080/",
     "height": 424
    },
    "executionInfo": {
     "elapsed": 562,
     "status": "ok",
     "timestamp": 1657186698896,
     "user": {
      "displayName": "Mayeul de Rougé",
      "userId": "12836380890528998156"
     },
     "user_tz": -120
    },
    "id": "tnZN-YJaF_1Z",
    "outputId": "5344fe01-37e9-400d-b86b-2339b0beb587"
   },
   "outputs": [
    {
     "data": {
      "text/html": [
       "\n",
       "  <div id=\"df-33a36dd5-4686-4b53-bf14-c3f240bdb3d8\">\n",
       "    <div class=\"colab-df-container\">\n",
       "      <div>\n",
       "<style scoped>\n",
       "    .dataframe tbody tr th:only-of-type {\n",
       "        vertical-align: middle;\n",
       "    }\n",
       "\n",
       "    .dataframe tbody tr th {\n",
       "        vertical-align: top;\n",
       "    }\n",
       "\n",
       "    .dataframe thead th {\n",
       "        text-align: right;\n",
       "    }\n",
       "</style>\n",
       "<table border=\"1\" class=\"dataframe\">\n",
       "  <thead>\n",
       "    <tr style=\"text-align: right;\">\n",
       "      <th></th>\n",
       "      <th>WRank</th>\n",
       "      <th>Date</th>\n",
       "    </tr>\n",
       "  </thead>\n",
       "  <tbody>\n",
       "    <tr>\n",
       "      <th>65</th>\n",
       "      <td>65</td>\n",
       "      <td>2000-01-03</td>\n",
       "    </tr>\n",
       "    <tr>\n",
       "      <th>169</th>\n",
       "      <td>62</td>\n",
       "      <td>2000-01-17</td>\n",
       "    </tr>\n",
       "    <tr>\n",
       "      <th>248</th>\n",
       "      <td>62</td>\n",
       "      <td>2000-01-17</td>\n",
       "    </tr>\n",
       "    <tr>\n",
       "      <th>283</th>\n",
       "      <td>67</td>\n",
       "      <td>2000-02-07</td>\n",
       "    </tr>\n",
       "    <tr>\n",
       "      <th>294</th>\n",
       "      <td>67</td>\n",
       "      <td>2000-02-07</td>\n",
       "    </tr>\n",
       "    <tr>\n",
       "      <th>...</th>\n",
       "      <td>...</td>\n",
       "      <td>...</td>\n",
       "    </tr>\n",
       "    <tr>\n",
       "      <th>44481</th>\n",
       "      <td>2</td>\n",
       "      <td>2018-02-14</td>\n",
       "    </tr>\n",
       "    <tr>\n",
       "      <th>44505</th>\n",
       "      <td>2</td>\n",
       "      <td>2018-02-15</td>\n",
       "    </tr>\n",
       "    <tr>\n",
       "      <th>44514</th>\n",
       "      <td>2</td>\n",
       "      <td>2018-02-16</td>\n",
       "    </tr>\n",
       "    <tr>\n",
       "      <th>44519</th>\n",
       "      <td>2</td>\n",
       "      <td>2018-02-17</td>\n",
       "    </tr>\n",
       "    <tr>\n",
       "      <th>44527</th>\n",
       "      <td>2</td>\n",
       "      <td>2018-02-18</td>\n",
       "    </tr>\n",
       "  </tbody>\n",
       "</table>\n",
       "<p>970 rows × 2 columns</p>\n",
       "</div>\n",
       "      <button class=\"colab-df-convert\" onclick=\"convertToInteractive('df-33a36dd5-4686-4b53-bf14-c3f240bdb3d8')\"\n",
       "              title=\"Convert this dataframe to an interactive table.\"\n",
       "              style=\"display:none;\">\n",
       "        \n",
       "  <svg xmlns=\"http://www.w3.org/2000/svg\" height=\"24px\"viewBox=\"0 0 24 24\"\n",
       "       width=\"24px\">\n",
       "    <path d=\"M0 0h24v24H0V0z\" fill=\"none\"/>\n",
       "    <path d=\"M18.56 5.44l.94 2.06.94-2.06 2.06-.94-2.06-.94-.94-2.06-.94 2.06-2.06.94zm-11 1L8.5 8.5l.94-2.06 2.06-.94-2.06-.94L8.5 2.5l-.94 2.06-2.06.94zm10 10l.94 2.06.94-2.06 2.06-.94-2.06-.94-.94-2.06-.94 2.06-2.06.94z\"/><path d=\"M17.41 7.96l-1.37-1.37c-.4-.4-.92-.59-1.43-.59-.52 0-1.04.2-1.43.59L10.3 9.45l-7.72 7.72c-.78.78-.78 2.05 0 2.83L4 21.41c.39.39.9.59 1.41.59.51 0 1.02-.2 1.41-.59l7.78-7.78 2.81-2.81c.8-.78.8-2.07 0-2.86zM5.41 20L4 18.59l7.72-7.72 1.47 1.35L5.41 20z\"/>\n",
       "  </svg>\n",
       "      </button>\n",
       "      \n",
       "  <style>\n",
       "    .colab-df-container {\n",
       "      display:flex;\n",
       "      flex-wrap:wrap;\n",
       "      gap: 12px;\n",
       "    }\n",
       "\n",
       "    .colab-df-convert {\n",
       "      background-color: #E8F0FE;\n",
       "      border: none;\n",
       "      border-radius: 50%;\n",
       "      cursor: pointer;\n",
       "      display: none;\n",
       "      fill: #1967D2;\n",
       "      height: 32px;\n",
       "      padding: 0 0 0 0;\n",
       "      width: 32px;\n",
       "    }\n",
       "\n",
       "    .colab-df-convert:hover {\n",
       "      background-color: #E2EBFA;\n",
       "      box-shadow: 0px 1px 2px rgba(60, 64, 67, 0.3), 0px 1px 3px 1px rgba(60, 64, 67, 0.15);\n",
       "      fill: #174EA6;\n",
       "    }\n",
       "\n",
       "    [theme=dark] .colab-df-convert {\n",
       "      background-color: #3B4455;\n",
       "      fill: #D2E3FC;\n",
       "    }\n",
       "\n",
       "    [theme=dark] .colab-df-convert:hover {\n",
       "      background-color: #434B5C;\n",
       "      box-shadow: 0px 1px 3px 1px rgba(0, 0, 0, 0.15);\n",
       "      filter: drop-shadow(0px 1px 2px rgba(0, 0, 0, 0.3));\n",
       "      fill: #FFFFFF;\n",
       "    }\n",
       "  </style>\n",
       "\n",
       "      <script>\n",
       "        const buttonEl =\n",
       "          document.querySelector('#df-33a36dd5-4686-4b53-bf14-c3f240bdb3d8 button.colab-df-convert');\n",
       "        buttonEl.style.display =\n",
       "          google.colab.kernel.accessAllowed ? 'block' : 'none';\n",
       "\n",
       "        async function convertToInteractive(key) {\n",
       "          const element = document.querySelector('#df-33a36dd5-4686-4b53-bf14-c3f240bdb3d8');\n",
       "          const dataTable =\n",
       "            await google.colab.kernel.invokeFunction('convertToInteractive',\n",
       "                                                     [key], {});\n",
       "          if (!dataTable) return;\n",
       "\n",
       "          const docLinkHtml = 'Like what you see? Visit the ' +\n",
       "            '<a target=\"_blank\" href=https://colab.research.google.com/notebooks/data_table.ipynb>data table notebook</a>'\n",
       "            + ' to learn more about interactive tables.';\n",
       "          element.innerHTML = '';\n",
       "          dataTable['output_type'] = 'display_data';\n",
       "          await google.colab.output.renderOutput(dataTable, element);\n",
       "          const docLink = document.createElement('div');\n",
       "          docLink.innerHTML = docLinkHtml;\n",
       "          element.appendChild(docLink);\n",
       "        }\n",
       "      </script>\n",
       "    </div>\n",
       "  </div>\n",
       "  "
      ],
      "text/plain": [
       "       WRank        Date\n",
       "65        65  2000-01-03\n",
       "169       62  2000-01-17\n",
       "248       62  2000-01-17\n",
       "283       67  2000-02-07\n",
       "294       67  2000-02-07\n",
       "...      ...         ...\n",
       "44481      2  2018-02-14\n",
       "44505      2  2018-02-15\n",
       "44514      2  2018-02-16\n",
       "44519      2  2018-02-17\n",
       "44527      2  2018-02-18\n",
       "\n",
       "[970 rows x 2 columns]"
      ]
     },
     "execution_count": 9,
     "metadata": {},
     "output_type": "execute_result"
    }
   ],
   "source": [
    "df[df['Winner'] == 'Federer R.'][['WRank','Date']]"
   ]
  },
  {
   "cell_type": "code",
   "execution_count": 10,
   "metadata": {
    "colab": {
     "base_uri": "https://localhost:8080/",
     "height": 284
    },
    "executionInfo": {
     "elapsed": 864,
     "status": "ok",
     "timestamp": 1657186699198,
     "user": {
      "displayName": "Mayeul de Rougé",
      "userId": "12836380890528998156"
     },
     "user_tz": -120
    },
    "id": "9ydrcvYGF_1Z",
    "outputId": "96d9c498-ec5b-44d8-de06-28146eda894d"
   },
   "outputs": [
    {
     "data": {
      "image/png": "[encoded data removed]",
      "text/plain": [
       "<Figure size 432x288 with 1 Axes>"
      ]
     },
     "metadata": {},
     "output_type": "display_data"
    }
   ],
   "source": [
    "#Graphique nombre de match par joueur ayant PERDU le plus de match:\n",
    "top_looser = df[\"Loser\"].value_counts().head(10)\n",
    "sns.barplot(x = top_looser.values, y=top_looser.index).set(title='Nombre de matchs perdu par joueur du Bottom 10');"
   ]
  },
  {
   "cell_type": "markdown",
   "metadata": {
    "id": "BAuSHdlEF_1Z"
   },
   "source": [
    "Le graphique ci-dessus présente, au contraire, le top 10 des joueurs cumulant le plus de défaites sur le circuit à cette période (2000 - 2018). Nous retrouvons ici aussi des joueurs connus.\n",
    "Au global, 1402 joueurs sont représentés dans le jeux de données :"
   ]
  },
  {
   "cell_type": "code",
   "execution_count": 11,
   "metadata": {
    "colab": {
     "base_uri": "https://localhost:8080/"
    },
    "executionInfo": {
     "elapsed": 26,
     "status": "ok",
     "timestamp": 1657186699199,
     "user": {
      "displayName": "Mayeul de Rougé",
      "userId": "12836380890528998156"
     },
     "user_tz": -120
    },
    "id": "TW4LB4apF_1Z",
    "outputId": "17d31b6b-ab0e-49e0-965d-1519a51baf73"
   },
   "outputs": [
    {
     "data": {
      "text/plain": [
       "0                Dosedel S.\n",
       "1                 Kiefer N.\n",
       "2                 Gaudio G.\n",
       "3             El Aynaoui Y.\n",
       "4              Cherkasov A.\n",
       "                ...        \n",
       "44377            Andreev A.\n",
       "44462              Korda S.\n",
       "44469    Auger-Aliassime F.\n",
       "44546             Gaston H.\n",
       "44630       Seyboth Wild T.\n",
       "Length: 1402, dtype: object"
      ]
     },
     "execution_count": 11,
     "metadata": {},
     "output_type": "execute_result"
    }
   ],
   "source": [
    "dfC = pd.concat([df['Winner'], df['Loser']], axis = 0).drop_duplicates()\n",
    "dfC"
   ]
  },
  {
   "cell_type": "code",
   "execution_count": 12,
   "metadata": {
    "colab": {
     "base_uri": "https://localhost:8080/",
     "height": 398
    },
    "executionInfo": {
     "elapsed": 2392,
     "status": "ok",
     "timestamp": 1657186701569,
     "user": {
      "displayName": "Mayeul de Rougé",
      "userId": "12836380890528998156"
     },
     "user_tz": -120
    },
    "id": "pRV_nJ6HF_1a",
    "outputId": "4d9c0aa6-2db1-42d0-8383-9d3448886bd2"
   },
   "outputs": [
    {
     "data": {
      "text/plain": [
       "(0.0, 500.0)"
      ]
     },
     "execution_count": 12,
     "metadata": {},
     "output_type": "execute_result"
    },
    {
     "data": {
      "image/png": "[encoded data removed]",
      "text/plain": [
       "<Figure size 360x360 with 1 Axes>"
      ]
     },
     "metadata": {},
     "output_type": "display_data"
    }
   ],
   "source": [
    "sns.displot(x=\"WRank\", data=df, kde=True).set(title='Concentration du nombre de match gagnés par classement');\n",
    "plt.xlim(0, 500)"
   ]
  },
  {
   "cell_type": "markdown",
   "metadata": {
    "id": "619g1SvvJ8f0"
   },
   "source": [
    "Les 200 premiers joueurs du classement se partagent quasiment tous les matchs gagnés."
   ]
  },
  {
   "cell_type": "markdown",
   "metadata": {
    "id": "TQo7wqzeKHzB"
   },
   "source": [
    "Un autre graphique de type countplot nous renseigne sur le nombre de matchs par type de surface. Pour les non-initiés  :\n",
    "\n",
    "*   <font color='blue'>Hard</font> : surface dure\n",
    "*   <font color='orange'>Clay</font> : terre battue\n",
    "*   <font color='green'>Grass</font> : gazon\n",
    "*   <font color='purple'>Carpet</font> : moquette\n"
   ]
  },
  {
   "cell_type": "code",
   "execution_count": 13,
   "metadata": {
    "colab": {
     "base_uri": "https://localhost:8080/",
     "height": 301
    },
    "executionInfo": {
     "elapsed": 514,
     "status": "ok",
     "timestamp": 1657186702078,
     "user": {
      "displayName": "Mayeul de Rougé",
      "userId": "12836380890528998156"
     },
     "user_tz": -120
    },
    "id": "xQCbr3DqKF5g",
    "outputId": "89898fef-41ec-458a-c4aa-b611140aeeb2"
   },
   "outputs": [
    {
     "data": {
      "image/png": "[encoded data removed]",
      "text/plain": [
       "<Figure size 432x288 with 1 Axes>"
      ]
     },
     "metadata": {},
     "output_type": "display_data"
    }
   ],
   "source": [
    "ax = sns.countplot(x=\"Surface\", data=df).set(title='Nombre de match par type de surface');"
   ]
  },
  {
   "cell_type": "markdown",
   "metadata": {
    "id": "K0CwNi1BNO-6"
   },
   "source": [
    "> *Les couleurs du graphe s'accordent parfaitement à la réalité !*"
   ]
  },
  {
   "cell_type": "markdown",
   "metadata": {
    "id": "TKhf4FgxLqUE"
   },
   "source": [
    "---\n",
    "## Data Processing\n",
    "---"
   ]
  },
  {
   "cell_type": "markdown",
   "metadata": {
    "id": "wdCED_b9OWal"
   },
   "source": [
    "Voici notre dataframe actuel :"
   ]
  },
  {
   "cell_type": "code",
   "execution_count": 14,
   "metadata": {
    "colab": {
     "base_uri": "https://localhost:8080/",
     "height": 696
    },
    "executionInfo": {
     "elapsed": 20,
     "status": "ok",
     "timestamp": 1657186702079,
     "user": {
      "displayName": "Mayeul de Rougé",
      "userId": "12836380890528998156"
     },
     "user_tz": -120
    },
    "id": "qIgbJ3qlObD-",
    "outputId": "cc5bbd85-b1d0-4c81-9ee5-d8fdf83589d4"
   },
   "outputs": [
    {
     "data": {
      "text/html": [
       "\n",
       "  <div id=\"df-67f33a23-350c-4b17-b229-4141d4eb15fe\">\n",
       "    <div class=\"colab-df-container\">\n",
       "      <div>\n",
       "<style scoped>\n",
       "    .dataframe tbody tr th:only-of-type {\n",
       "        vertical-align: middle;\n",
       "    }\n",
       "\n",
       "    .dataframe tbody tr th {\n",
       "        vertical-align: top;\n",
       "    }\n",
       "\n",
       "    .dataframe thead th {\n",
       "        text-align: right;\n",
       "    }\n",
       "</style>\n",
       "<table border=\"1\" class=\"dataframe\">\n",
       "  <thead>\n",
       "    <tr style=\"text-align: right;\">\n",
       "      <th></th>\n",
       "      <th>ATP</th>\n",
       "      <th>Location</th>\n",
       "      <th>Tournament</th>\n",
       "      <th>Date</th>\n",
       "      <th>Series</th>\n",
       "      <th>Court</th>\n",
       "      <th>Surface</th>\n",
       "      <th>Round</th>\n",
       "      <th>Best of</th>\n",
       "      <th>Winner</th>\n",
       "      <th>Loser</th>\n",
       "      <th>WRank</th>\n",
       "      <th>LRank</th>\n",
       "      <th>Comment</th>\n",
       "    </tr>\n",
       "  </thead>\n",
       "  <tbody>\n",
       "    <tr>\n",
       "      <th>0</th>\n",
       "      <td>1</td>\n",
       "      <td>Adelaide</td>\n",
       "      <td>Australian Hardcourt Championships</td>\n",
       "      <td>2000-01-03</td>\n",
       "      <td>International</td>\n",
       "      <td>Outdoor</td>\n",
       "      <td>Hard</td>\n",
       "      <td>1st Round</td>\n",
       "      <td>3</td>\n",
       "      <td>Dosedel S.</td>\n",
       "      <td>Ljubicic I.</td>\n",
       "      <td>63</td>\n",
       "      <td>77</td>\n",
       "      <td>Completed</td>\n",
       "    </tr>\n",
       "    <tr>\n",
       "      <th>1</th>\n",
       "      <td>3</td>\n",
       "      <td>Doha</td>\n",
       "      <td>Qatar Open</td>\n",
       "      <td>2000-01-03</td>\n",
       "      <td>International</td>\n",
       "      <td>Outdoor</td>\n",
       "      <td>Hard</td>\n",
       "      <td>1st Round</td>\n",
       "      <td>3</td>\n",
       "      <td>Kiefer N.</td>\n",
       "      <td>Tarango J.</td>\n",
       "      <td>6</td>\n",
       "      <td>59</td>\n",
       "      <td>Completed</td>\n",
       "    </tr>\n",
       "    <tr>\n",
       "      <th>2</th>\n",
       "      <td>3</td>\n",
       "      <td>Doha</td>\n",
       "      <td>Qatar Open</td>\n",
       "      <td>2000-01-03</td>\n",
       "      <td>International</td>\n",
       "      <td>Outdoor</td>\n",
       "      <td>Hard</td>\n",
       "      <td>1st Round</td>\n",
       "      <td>3</td>\n",
       "      <td>Gaudio G.</td>\n",
       "      <td>Luxa P.</td>\n",
       "      <td>73</td>\n",
       "      <td>174</td>\n",
       "      <td>Completed</td>\n",
       "    </tr>\n",
       "    <tr>\n",
       "      <th>3</th>\n",
       "      <td>3</td>\n",
       "      <td>Doha</td>\n",
       "      <td>Qatar Open</td>\n",
       "      <td>2000-01-03</td>\n",
       "      <td>International</td>\n",
       "      <td>Outdoor</td>\n",
       "      <td>Hard</td>\n",
       "      <td>1st Round</td>\n",
       "      <td>3</td>\n",
       "      <td>El Aynaoui Y.</td>\n",
       "      <td>Dupuis A.</td>\n",
       "      <td>33</td>\n",
       "      <td>78</td>\n",
       "      <td>Completed</td>\n",
       "    </tr>\n",
       "    <tr>\n",
       "      <th>4</th>\n",
       "      <td>3</td>\n",
       "      <td>Doha</td>\n",
       "      <td>Qatar Open</td>\n",
       "      <td>2000-01-03</td>\n",
       "      <td>International</td>\n",
       "      <td>Outdoor</td>\n",
       "      <td>Hard</td>\n",
       "      <td>1st Round</td>\n",
       "      <td>3</td>\n",
       "      <td>Cherkasov A.</td>\n",
       "      <td>Arazi H.</td>\n",
       "      <td>206</td>\n",
       "      <td>35</td>\n",
       "      <td>Completed</td>\n",
       "    </tr>\n",
       "    <tr>\n",
       "      <th>...</th>\n",
       "      <td>...</td>\n",
       "      <td>...</td>\n",
       "      <td>...</td>\n",
       "      <td>...</td>\n",
       "      <td>...</td>\n",
       "      <td>...</td>\n",
       "      <td>...</td>\n",
       "      <td>...</td>\n",
       "      <td>...</td>\n",
       "      <td>...</td>\n",
       "      <td>...</td>\n",
       "      <td>...</td>\n",
       "      <td>...</td>\n",
       "      <td>...</td>\n",
       "    </tr>\n",
       "    <tr>\n",
       "      <th>44703</th>\n",
       "      <td>17</td>\n",
       "      <td>Dubai</td>\n",
       "      <td>Dubai Tennis Championships</td>\n",
       "      <td>2018-03-03</td>\n",
       "      <td>ATP500</td>\n",
       "      <td>Outdoor</td>\n",
       "      <td>Hard</td>\n",
       "      <td>The Final</td>\n",
       "      <td>3</td>\n",
       "      <td>Bautista Agut R.</td>\n",
       "      <td>Pouille L.</td>\n",
       "      <td>23</td>\n",
       "      <td>15</td>\n",
       "      <td>Completed</td>\n",
       "    </tr>\n",
       "    <tr>\n",
       "      <th>44704</th>\n",
       "      <td>16</td>\n",
       "      <td>Acapulco</td>\n",
       "      <td>Abierto Mexicano</td>\n",
       "      <td>2018-03-03</td>\n",
       "      <td>ATP500</td>\n",
       "      <td>Outdoor</td>\n",
       "      <td>Hard</td>\n",
       "      <td>Semifinals</td>\n",
       "      <td>3</td>\n",
       "      <td>Anderson K.</td>\n",
       "      <td>Donaldson J.</td>\n",
       "      <td>8</td>\n",
       "      <td>59</td>\n",
       "      <td>Completed</td>\n",
       "    </tr>\n",
       "    <tr>\n",
       "      <th>44705</th>\n",
       "      <td>18</td>\n",
       "      <td>Sao Paulo</td>\n",
       "      <td>Brasil Open</td>\n",
       "      <td>2018-03-03</td>\n",
       "      <td>ATP250</td>\n",
       "      <td>Indoor</td>\n",
       "      <td>Clay</td>\n",
       "      <td>Semifinals</td>\n",
       "      <td>3</td>\n",
       "      <td>Jarry N.</td>\n",
       "      <td>Zeballos H.</td>\n",
       "      <td>73</td>\n",
       "      <td>69</td>\n",
       "      <td>Completed</td>\n",
       "    </tr>\n",
       "    <tr>\n",
       "      <th>44706</th>\n",
       "      <td>16</td>\n",
       "      <td>Acapulco</td>\n",
       "      <td>Abierto Mexicano</td>\n",
       "      <td>2018-03-04</td>\n",
       "      <td>ATP500</td>\n",
       "      <td>Outdoor</td>\n",
       "      <td>Hard</td>\n",
       "      <td>The Final</td>\n",
       "      <td>3</td>\n",
       "      <td>Del Potro J.M.</td>\n",
       "      <td>Anderson K.</td>\n",
       "      <td>9</td>\n",
       "      <td>8</td>\n",
       "      <td>Completed</td>\n",
       "    </tr>\n",
       "    <tr>\n",
       "      <th>44707</th>\n",
       "      <td>18</td>\n",
       "      <td>Sao Paulo</td>\n",
       "      <td>Brasil Open</td>\n",
       "      <td>2018-03-04</td>\n",
       "      <td>ATP250</td>\n",
       "      <td>Indoor</td>\n",
       "      <td>Clay</td>\n",
       "      <td>The Final</td>\n",
       "      <td>3</td>\n",
       "      <td>Fognini F.</td>\n",
       "      <td>Jarry N.</td>\n",
       "      <td>20</td>\n",
       "      <td>73</td>\n",
       "      <td>Completed</td>\n",
       "    </tr>\n",
       "  </tbody>\n",
       "</table>\n",
       "<p>44708 rows × 14 columns</p>\n",
       "</div>\n",
       "      <button class=\"colab-df-convert\" onclick=\"convertToInteractive('df-67f33a23-350c-4b17-b229-4141d4eb15fe')\"\n",
       "              title=\"Convert this dataframe to an interactive table.\"\n",
       "              style=\"display:none;\">\n",
       "        \n",
       "  <svg xmlns=\"http://www.w3.org/2000/svg\" height=\"24px\"viewBox=\"0 0 24 24\"\n",
       "       width=\"24px\">\n",
       "    <path d=\"M0 0h24v24H0V0z\" fill=\"none\"/>\n",
       "    <path d=\"M18.56 5.44l.94 2.06.94-2.06 2.06-.94-2.06-.94-.94-2.06-.94 2.06-2.06.94zm-11 1L8.5 8.5l.94-2.06 2.06-.94-2.06-.94L8.5 2.5l-.94 2.06-2.06.94zm10 10l.94 2.06.94-2.06 2.06-.94-2.06-.94-.94-2.06-.94 2.06-2.06.94z\"/><path d=\"M17.41 7.96l-1.37-1.37c-.4-.4-.92-.59-1.43-.59-.52 0-1.04.2-1.43.59L10.3 9.45l-7.72 7.72c-.78.78-.78 2.05 0 2.83L4 21.41c.39.39.9.59 1.41.59.51 0 1.02-.2 1.41-.59l7.78-7.78 2.81-2.81c.8-.78.8-2.07 0-2.86zM5.41 20L4 18.59l7.72-7.72 1.47 1.35L5.41 20z\"/>\n",
       "  </svg>\n",
       "      </button>\n",
       "      \n",
       "  <style>\n",
       "    .colab-df-container {\n",
       "      display:flex;\n",
       "      flex-wrap:wrap;\n",
       "      gap: 12px;\n",
       "    }\n",
       "\n",
       "    .colab-df-convert {\n",
       "      background-color: #E8F0FE;\n",
       "      border: none;\n",
       "      border-radius: 50%;\n",
       "      cursor: pointer;\n",
       "      display: none;\n",
       "      fill: #1967D2;\n",
       "      height: 32px;\n",
       "      padding: 0 0 0 0;\n",
       "      width: 32px;\n",
       "    }\n",
       "\n",
       "    .colab-df-convert:hover {\n",
       "      background-color: #E2EBFA;\n",
       "      box-shadow: 0px 1px 2px rgba(60, 64, 67, 0.3), 0px 1px 3px 1px rgba(60, 64, 67, 0.15);\n",
       "      fill: #174EA6;\n",
       "    }\n",
       "\n",
       "    [theme=dark] .colab-df-convert {\n",
       "      background-color: #3B4455;\n",
       "      fill: #D2E3FC;\n",
       "    }\n",
       "\n",
       "    [theme=dark] .colab-df-convert:hover {\n",
       "      background-color: #434B5C;\n",
       "      box-shadow: 0px 1px 3px 1px rgba(0, 0, 0, 0.15);\n",
       "      filter: drop-shadow(0px 1px 2px rgba(0, 0, 0, 0.3));\n",
       "      fill: #FFFFFF;\n",
       "    }\n",
       "  </style>\n",
       "\n",
       "      <script>\n",
       "        const buttonEl =\n",
       "          document.querySelector('#df-67f33a23-350c-4b17-b229-4141d4eb15fe button.colab-df-convert');\n",
       "        buttonEl.style.display =\n",
       "          google.colab.kernel.accessAllowed ? 'block' : 'none';\n",
       "\n",
       "        async function convertToInteractive(key) {\n",
       "          const element = document.querySelector('#df-67f33a23-350c-4b17-b229-4141d4eb15fe');\n",
       "          const dataTable =\n",
       "            await google.colab.kernel.invokeFunction('convertToInteractive',\n",
       "                                                     [key], {});\n",
       "          if (!dataTable) return;\n",
       "\n",
       "          const docLinkHtml = 'Like what you see? Visit the ' +\n",
       "            '<a target=\"_blank\" href=https://colab.research.google.com/notebooks/data_table.ipynb>data table notebook</a>'\n",
       "            + ' to learn more about interactive tables.';\n",
       "          element.innerHTML = '';\n",
       "          dataTable['output_type'] = 'display_data';\n",
       "          await google.colab.output.renderOutput(dataTable, element);\n",
       "          const docLink = document.createElement('div');\n",
       "          docLink.innerHTML = docLinkHtml;\n",
       "          element.appendChild(docLink);\n",
       "        }\n",
       "      </script>\n",
       "    </div>\n",
       "  </div>\n",
       "  "
      ],
      "text/plain": [
       "       ATP   Location                          Tournament        Date  \\\n",
       "0        1   Adelaide  Australian Hardcourt Championships  2000-01-03   \n",
       "1        3       Doha                          Qatar Open  2000-01-03   \n",
       "2        3       Doha                          Qatar Open  2000-01-03   \n",
       "3        3       Doha                          Qatar Open  2000-01-03   \n",
       "4        3       Doha                          Qatar Open  2000-01-03   \n",
       "...    ...        ...                                 ...         ...   \n",
       "44703   17     Dubai           Dubai Tennis Championships  2018-03-03   \n",
       "44704   16   Acapulco                    Abierto Mexicano  2018-03-03   \n",
       "44705   18  Sao Paulo                         Brasil Open  2018-03-03   \n",
       "44706   16   Acapulco                    Abierto Mexicano  2018-03-04   \n",
       "44707   18  Sao Paulo                         Brasil Open  2018-03-04   \n",
       "\n",
       "              Series    Court Surface       Round  Best of            Winner  \\\n",
       "0      International  Outdoor    Hard   1st Round        3        Dosedel S.   \n",
       "1      International  Outdoor    Hard   1st Round        3         Kiefer N.   \n",
       "2      International  Outdoor    Hard   1st Round        3         Gaudio G.   \n",
       "3      International  Outdoor    Hard   1st Round        3     El Aynaoui Y.   \n",
       "4      International  Outdoor    Hard   1st Round        3      Cherkasov A.   \n",
       "...              ...      ...     ...         ...      ...               ...   \n",
       "44703         ATP500  Outdoor    Hard   The Final        3  Bautista Agut R.   \n",
       "44704         ATP500  Outdoor    Hard  Semifinals        3       Anderson K.   \n",
       "44705         ATP250   Indoor    Clay  Semifinals        3          Jarry N.   \n",
       "44706         ATP500  Outdoor    Hard   The Final        3    Del Potro J.M.   \n",
       "44707         ATP250   Indoor    Clay   The Final        3        Fognini F.   \n",
       "\n",
       "              Loser  WRank  LRank    Comment  \n",
       "0       Ljubicic I.     63     77  Completed  \n",
       "1        Tarango J.      6     59  Completed  \n",
       "2           Luxa P.     73    174  Completed  \n",
       "3         Dupuis A.     33     78  Completed  \n",
       "4          Arazi H.    206     35  Completed  \n",
       "...             ...    ...    ...        ...  \n",
       "44703    Pouille L.     23     15  Completed  \n",
       "44704  Donaldson J.      8     59  Completed  \n",
       "44705   Zeballos H.     73     69  Completed  \n",
       "44706   Anderson K.      9      8  Completed  \n",
       "44707      Jarry N.     20     73  Completed  \n",
       "\n",
       "[44708 rows x 14 columns]"
      ]
     },
     "execution_count": 14,
     "metadata": {},
     "output_type": "execute_result"
    }
   ],
   "source": [
    "df"
   ]
  },
  {
   "cell_type": "markdown",
   "metadata": {
    "id": "tMAHU--SL78k"
   },
   "source": [
    "Optimisons notre dataset avant d’implémenter des algorithmes de machine learning.\n",
    "Maintenant que nous avons fait ressortir quelques graphiques pertinents, nous pouvons supprimer les colonnes Tournament, Series, Court, Surface, qui sont résumées dans la colonne ATP. Mais avant, gardons ces informations dans un dataframe à part pour pouvoir interpréter par la suite les résultats. Appelons ce dataframe df_ATP."
   ]
  },
  {
   "cell_type": "code",
   "execution_count": 15,
   "metadata": {
    "colab": {
     "base_uri": "https://localhost:8080/",
     "height": 424
    },
    "executionInfo": {
     "elapsed": 19,
     "status": "ok",
     "timestamp": 1657186702080,
     "user": {
      "displayName": "Mayeul de Rougé",
      "userId": "12836380890528998156"
     },
     "user_tz": -120
    },
    "id": "JNC_auNNF_1b",
    "outputId": "0b0d546c-a418-49a2-8d1f-491094ac5c22"
   },
   "outputs": [
    {
     "data": {
      "text/html": [
       "\n",
       "  <div id=\"df-b19513c7-a5c4-49fa-b984-700186e8221e\">\n",
       "    <div class=\"colab-df-container\">\n",
       "      <div>\n",
       "<style scoped>\n",
       "    .dataframe tbody tr th:only-of-type {\n",
       "        vertical-align: middle;\n",
       "    }\n",
       "\n",
       "    .dataframe tbody tr th {\n",
       "        vertical-align: top;\n",
       "    }\n",
       "\n",
       "    .dataframe thead th {\n",
       "        text-align: right;\n",
       "    }\n",
       "</style>\n",
       "<table border=\"1\" class=\"dataframe\">\n",
       "  <thead>\n",
       "    <tr style=\"text-align: right;\">\n",
       "      <th></th>\n",
       "      <th>Location</th>\n",
       "      <th>Tournament</th>\n",
       "      <th>Court</th>\n",
       "      <th>Surface</th>\n",
       "      <th>Series</th>\n",
       "      <th>Best of</th>\n",
       "    </tr>\n",
       "  </thead>\n",
       "  <tbody>\n",
       "    <tr>\n",
       "      <th>0</th>\n",
       "      <td>Adelaide</td>\n",
       "      <td>Australian Hardcourt Championships</td>\n",
       "      <td>Outdoor</td>\n",
       "      <td>Hard</td>\n",
       "      <td>International</td>\n",
       "      <td>3</td>\n",
       "    </tr>\n",
       "    <tr>\n",
       "      <th>1</th>\n",
       "      <td>Doha</td>\n",
       "      <td>Qatar Open</td>\n",
       "      <td>Outdoor</td>\n",
       "      <td>Hard</td>\n",
       "      <td>International</td>\n",
       "      <td>3</td>\n",
       "    </tr>\n",
       "    <tr>\n",
       "      <th>8</th>\n",
       "      <td>Chennai</td>\n",
       "      <td>Gold Flake Open</td>\n",
       "      <td>Outdoor</td>\n",
       "      <td>Hard</td>\n",
       "      <td>International</td>\n",
       "      <td>3</td>\n",
       "    </tr>\n",
       "    <tr>\n",
       "      <th>93</th>\n",
       "      <td>Sydney</td>\n",
       "      <td>Sydney International</td>\n",
       "      <td>Outdoor</td>\n",
       "      <td>Hard</td>\n",
       "      <td>International</td>\n",
       "      <td>3</td>\n",
       "    </tr>\n",
       "    <tr>\n",
       "      <th>124</th>\n",
       "      <td>Auckland</td>\n",
       "      <td>Heineken Open</td>\n",
       "      <td>Outdoor</td>\n",
       "      <td>Hard</td>\n",
       "      <td>International</td>\n",
       "      <td>3</td>\n",
       "    </tr>\n",
       "    <tr>\n",
       "      <th>...</th>\n",
       "      <td>...</td>\n",
       "      <td>...</td>\n",
       "      <td>...</td>\n",
       "      <td>...</td>\n",
       "      <td>...</td>\n",
       "      <td>...</td>\n",
       "    </tr>\n",
       "    <tr>\n",
       "      <th>42935</th>\n",
       "      <td>Antalya</td>\n",
       "      <td>Antalya Open</td>\n",
       "      <td>Outdoor</td>\n",
       "      <td>Grass</td>\n",
       "      <td>ATP250</td>\n",
       "      <td>3</td>\n",
       "    </tr>\n",
       "    <tr>\n",
       "      <th>43117</th>\n",
       "      <td>Umag</td>\n",
       "      <td>Croatia Open</td>\n",
       "      <td>Outdoor</td>\n",
       "      <td>Clay</td>\n",
       "      <td>ATP250</td>\n",
       "      <td>3</td>\n",
       "    </tr>\n",
       "    <tr>\n",
       "      <th>44100</th>\n",
       "      <td>Pune</td>\n",
       "      <td>Tata Open</td>\n",
       "      <td>Outdoor</td>\n",
       "      <td>Hard</td>\n",
       "      <td>ATP250</td>\n",
       "      <td>3</td>\n",
       "    </tr>\n",
       "    <tr>\n",
       "      <th>44182</th>\n",
       "      <td>Sydney</td>\n",
       "      <td>Sydney International</td>\n",
       "      <td>Outdoor</td>\n",
       "      <td>Hard</td>\n",
       "      <td>ATP250</td>\n",
       "      <td>3</td>\n",
       "    </tr>\n",
       "    <tr>\n",
       "      <th>44445</th>\n",
       "      <td>New York</td>\n",
       "      <td>New York Open</td>\n",
       "      <td>Indoor</td>\n",
       "      <td>Hard</td>\n",
       "      <td>ATP250</td>\n",
       "      <td>3</td>\n",
       "    </tr>\n",
       "  </tbody>\n",
       "</table>\n",
       "<p>313 rows × 6 columns</p>\n",
       "</div>\n",
       "      <button class=\"colab-df-convert\" onclick=\"convertToInteractive('df-b19513c7-a5c4-49fa-b984-700186e8221e')\"\n",
       "              title=\"Convert this dataframe to an interactive table.\"\n",
       "              style=\"display:none;\">\n",
       "        \n",
       "  <svg xmlns=\"http://www.w3.org/2000/svg\" height=\"24px\"viewBox=\"0 0 24 24\"\n",
       "       width=\"24px\">\n",
       "    <path d=\"M0 0h24v24H0V0z\" fill=\"none\"/>\n",
       "    <path d=\"M18.56 5.44l.94 2.06.94-2.06 2.06-.94-2.06-.94-.94-2.06-.94 2.06-2.06.94zm-11 1L8.5 8.5l.94-2.06 2.06-.94-2.06-.94L8.5 2.5l-.94 2.06-2.06.94zm10 10l.94 2.06.94-2.06 2.06-.94-2.06-.94-.94-2.06-.94 2.06-2.06.94z\"/><path d=\"M17.41 7.96l-1.37-1.37c-.4-.4-.92-.59-1.43-.59-.52 0-1.04.2-1.43.59L10.3 9.45l-7.72 7.72c-.78.78-.78 2.05 0 2.83L4 21.41c.39.39.9.59 1.41.59.51 0 1.02-.2 1.41-.59l7.78-7.78 2.81-2.81c.8-.78.8-2.07 0-2.86zM5.41 20L4 18.59l7.72-7.72 1.47 1.35L5.41 20z\"/>\n",
       "  </svg>\n",
       "      </button>\n",
       "      \n",
       "  <style>\n",
       "    .colab-df-container {\n",
       "      display:flex;\n",
       "      flex-wrap:wrap;\n",
       "      gap: 12px;\n",
       "    }\n",
       "\n",
       "    .colab-df-convert {\n",
       "      background-color: #E8F0FE;\n",
       "      border: none;\n",
       "      border-radius: 50%;\n",
       "      cursor: pointer;\n",
       "      display: none;\n",
       "      fill: #1967D2;\n",
       "      height: 32px;\n",
       "      padding: 0 0 0 0;\n",
       "      width: 32px;\n",
       "    }\n",
       "\n",
       "    .colab-df-convert:hover {\n",
       "      background-color: #E2EBFA;\n",
       "      box-shadow: 0px 1px 2px rgba(60, 64, 67, 0.3), 0px 1px 3px 1px rgba(60, 64, 67, 0.15);\n",
       "      fill: #174EA6;\n",
       "    }\n",
       "\n",
       "    [theme=dark] .colab-df-convert {\n",
       "      background-color: #3B4455;\n",
       "      fill: #D2E3FC;\n",
       "    }\n",
       "\n",
       "    [theme=dark] .colab-df-convert:hover {\n",
       "      background-color: #434B5C;\n",
       "      box-shadow: 0px 1px 3px 1px rgba(0, 0, 0, 0.15);\n",
       "      filter: drop-shadow(0px 1px 2px rgba(0, 0, 0, 0.3));\n",
       "      fill: #FFFFFF;\n",
       "    }\n",
       "  </style>\n",
       "\n",
       "      <script>\n",
       "        const buttonEl =\n",
       "          document.querySelector('#df-b19513c7-a5c4-49fa-b984-700186e8221e button.colab-df-convert');\n",
       "        buttonEl.style.display =\n",
       "          google.colab.kernel.accessAllowed ? 'block' : 'none';\n",
       "\n",
       "        async function convertToInteractive(key) {\n",
       "          const element = document.querySelector('#df-b19513c7-a5c4-49fa-b984-700186e8221e');\n",
       "          const dataTable =\n",
       "            await google.colab.kernel.invokeFunction('convertToInteractive',\n",
       "                                                     [key], {});\n",
       "          if (!dataTable) return;\n",
       "\n",
       "          const docLinkHtml = 'Like what you see? Visit the ' +\n",
       "            '<a target=\"_blank\" href=https://colab.research.google.com/notebooks/data_table.ipynb>data table notebook</a>'\n",
       "            + ' to learn more about interactive tables.';\n",
       "          element.innerHTML = '';\n",
       "          dataTable['output_type'] = 'display_data';\n",
       "          await google.colab.output.renderOutput(dataTable, element);\n",
       "          const docLink = document.createElement('div');\n",
       "          docLink.innerHTML = docLinkHtml;\n",
       "          element.appendChild(docLink);\n",
       "        }\n",
       "      </script>\n",
       "    </div>\n",
       "  </div>\n",
       "  "
      ],
      "text/plain": [
       "       Location                          Tournament    Court Surface  \\\n",
       "0      Adelaide  Australian Hardcourt Championships  Outdoor    Hard   \n",
       "1          Doha                          Qatar Open  Outdoor    Hard   \n",
       "8       Chennai                     Gold Flake Open  Outdoor    Hard   \n",
       "93       Sydney                Sydney International  Outdoor    Hard   \n",
       "124    Auckland                       Heineken Open  Outdoor    Hard   \n",
       "...         ...                                 ...      ...     ...   \n",
       "42935   Antalya                        Antalya Open  Outdoor   Grass   \n",
       "43117      Umag                        Croatia Open  Outdoor    Clay   \n",
       "44100      Pune                           Tata Open  Outdoor    Hard   \n",
       "44182    Sydney                Sydney International  Outdoor    Hard   \n",
       "44445  New York                       New York Open   Indoor    Hard   \n",
       "\n",
       "              Series  Best of  \n",
       "0      International        3  \n",
       "1      International        3  \n",
       "8      International        3  \n",
       "93     International        3  \n",
       "124    International        3  \n",
       "...              ...      ...  \n",
       "42935         ATP250        3  \n",
       "43117         ATP250        3  \n",
       "44100         ATP250        3  \n",
       "44182         ATP250        3  \n",
       "44445         ATP250        3  \n",
       "\n",
       "[313 rows x 6 columns]"
      ]
     },
     "execution_count": 15,
     "metadata": {},
     "output_type": "execute_result"
    }
   ],
   "source": [
    "# On garde dans un df à part les informations ATP : \n",
    "df_ATP = df[['Location', 'Tournament','Court','Surface','Series','Best of']]\n",
    "df_ATP.drop_duplicates()"
   ]
  },
  {
   "cell_type": "code",
   "execution_count": 16,
   "metadata": {
    "executionInfo": {
     "elapsed": 20,
     "status": "ok",
     "timestamp": 1657186702081,
     "user": {
      "displayName": "Mayeul de Rougé",
      "userId": "12836380890528998156"
     },
     "user_tz": -120
    },
    "id": "JJmXJ8YeF_1b"
   },
   "outputs": [],
   "source": [
    "df = df.drop(['Location', 'Tournament','Court','Surface','Series','Best of'], axis=1)"
   ]
  },
  {
   "cell_type": "markdown",
   "metadata": {
    "id": "3yujbhDwAvAu"
   },
   "source": [
    "NB : La matrice de corrélation suivante (qui a été réalisée en amont) montre aisément le lien entre la colonne ATP et les colonnes Location, Tournament, Court, Surface, Series, Best of."
   ]
  },
  {
   "cell_type": "markdown",
   "metadata": {
    "id": "IBOfKBGK_90x"
   },
   "source": [
    "![matrice_corr.png](data:image/png;base64,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)"
   ]
  },
  {
   "cell_type": "markdown",
   "metadata": {
    "id": "7UYmWDcetJzg"
   },
   "source": [
    "L'année semble être la variable la plus corrélée au reste de nos variables explicatives."
   ]
  },
  {
   "cell_type": "markdown",
   "metadata": {
    "id": "nH7mpvU8PTqL"
   },
   "source": [
    "On s'assure qu'il n'y a pas de nouveau de doublons, après la suppressions de colonnes."
   ]
  },
  {
   "cell_type": "code",
   "execution_count": 17,
   "metadata": {
    "colab": {
     "base_uri": "https://localhost:8080/"
    },
    "executionInfo": {
     "elapsed": 20,
     "status": "ok",
     "timestamp": 1657186702082,
     "user": {
      "displayName": "Mayeul de Rougé",
      "userId": "12836380890528998156"
     },
     "user_tz": -120
    },
    "id": "pRHhUUE8F_1b",
    "outputId": "14f32a62-7bb4-4eb0-9560-8422ce001d02"
   },
   "outputs": [
    {
     "name": "stdout",
     "output_type": "stream",
     "text": [
      "0\n"
     ]
    }
   ],
   "source": [
    "print(df.duplicated().sum())"
   ]
  },
  {
   "cell_type": "markdown",
   "metadata": {
    "id": "bWdaKmQ0MRCv"
   },
   "source": [
    "La colonne 'Comment' renseigne de l’issue du match :"
   ]
  },
  {
   "cell_type": "code",
   "execution_count": 18,
   "metadata": {
    "colab": {
     "base_uri": "https://localhost:8080/"
    },
    "executionInfo": {
     "elapsed": 16,
     "status": "ok",
     "timestamp": 1657186702082,
     "user": {
      "displayName": "Mayeul de Rougé",
      "userId": "12836380890528998156"
     },
     "user_tz": -120
    },
    "id": "4KLjwu2bF_1c",
    "outputId": "d4ee5624-a40d-4e71-f612-1e3bb235bdd9"
   },
   "outputs": [
    {
     "data": {
      "text/plain": [
       "array(['Completed', 'Retired', 'Walkover', 'Disqualified'], dtype=object)"
      ]
     },
     "execution_count": 18,
     "metadata": {},
     "output_type": "execute_result"
    }
   ],
   "source": [
    "df['Comment'].unique()"
   ]
  },
  {
   "cell_type": "markdown",
   "metadata": {
    "id": "BPLXQIevN9TH"
   },
   "source": [
    "Pour notre modèle de machine learning, nous ne garderons que les matchs ayant aboutis (Completed)."
   ]
  },
  {
   "cell_type": "code",
   "execution_count": 19,
   "metadata": {
    "colab": {
     "base_uri": "https://localhost:8080/",
     "height": 424
    },
    "executionInfo": {
     "elapsed": 14,
     "status": "ok",
     "timestamp": 1657186702083,
     "user": {
      "displayName": "Mayeul de Rougé",
      "userId": "12836380890528998156"
     },
     "user_tz": -120
    },
    "id": "RJxcrfvaF_1c",
    "outputId": "9a41f0f0-80cc-4af7-e762-b3a619e8c2c6"
   },
   "outputs": [
    {
     "data": {
      "text/html": [
       "\n",
       "  <div id=\"df-d1cb9b0e-155b-4482-aa96-128fad6c8934\">\n",
       "    <div class=\"colab-df-container\">\n",
       "      <div>\n",
       "<style scoped>\n",
       "    .dataframe tbody tr th:only-of-type {\n",
       "        vertical-align: middle;\n",
       "    }\n",
       "\n",
       "    .dataframe tbody tr th {\n",
       "        vertical-align: top;\n",
       "    }\n",
       "\n",
       "    .dataframe thead th {\n",
       "        text-align: right;\n",
       "    }\n",
       "</style>\n",
       "<table border=\"1\" class=\"dataframe\">\n",
       "  <thead>\n",
       "    <tr style=\"text-align: right;\">\n",
       "      <th></th>\n",
       "      <th>ATP</th>\n",
       "      <th>Date</th>\n",
       "      <th>Round</th>\n",
       "      <th>Winner</th>\n",
       "      <th>Loser</th>\n",
       "      <th>WRank</th>\n",
       "      <th>LRank</th>\n",
       "    </tr>\n",
       "  </thead>\n",
       "  <tbody>\n",
       "    <tr>\n",
       "      <th>0</th>\n",
       "      <td>1</td>\n",
       "      <td>2000-01-03</td>\n",
       "      <td>1st Round</td>\n",
       "      <td>Dosedel S.</td>\n",
       "      <td>Ljubicic I.</td>\n",
       "      <td>63</td>\n",
       "      <td>77</td>\n",
       "    </tr>\n",
       "    <tr>\n",
       "      <th>1</th>\n",
       "      <td>3</td>\n",
       "      <td>2000-01-03</td>\n",
       "      <td>1st Round</td>\n",
       "      <td>Kiefer N.</td>\n",
       "      <td>Tarango J.</td>\n",
       "      <td>6</td>\n",
       "      <td>59</td>\n",
       "    </tr>\n",
       "    <tr>\n",
       "      <th>2</th>\n",
       "      <td>3</td>\n",
       "      <td>2000-01-03</td>\n",
       "      <td>1st Round</td>\n",
       "      <td>Gaudio G.</td>\n",
       "      <td>Luxa P.</td>\n",
       "      <td>73</td>\n",
       "      <td>174</td>\n",
       "    </tr>\n",
       "    <tr>\n",
       "      <th>3</th>\n",
       "      <td>3</td>\n",
       "      <td>2000-01-03</td>\n",
       "      <td>1st Round</td>\n",
       "      <td>El Aynaoui Y.</td>\n",
       "      <td>Dupuis A.</td>\n",
       "      <td>33</td>\n",
       "      <td>78</td>\n",
       "    </tr>\n",
       "    <tr>\n",
       "      <th>4</th>\n",
       "      <td>3</td>\n",
       "      <td>2000-01-03</td>\n",
       "      <td>1st Round</td>\n",
       "      <td>Cherkasov A.</td>\n",
       "      <td>Arazi H.</td>\n",
       "      <td>206</td>\n",
       "      <td>35</td>\n",
       "    </tr>\n",
       "    <tr>\n",
       "      <th>...</th>\n",
       "      <td>...</td>\n",
       "      <td>...</td>\n",
       "      <td>...</td>\n",
       "      <td>...</td>\n",
       "      <td>...</td>\n",
       "      <td>...</td>\n",
       "      <td>...</td>\n",
       "    </tr>\n",
       "    <tr>\n",
       "      <th>44703</th>\n",
       "      <td>17</td>\n",
       "      <td>2018-03-03</td>\n",
       "      <td>The Final</td>\n",
       "      <td>Bautista Agut R.</td>\n",
       "      <td>Pouille L.</td>\n",
       "      <td>23</td>\n",
       "      <td>15</td>\n",
       "    </tr>\n",
       "    <tr>\n",
       "      <th>44704</th>\n",
       "      <td>16</td>\n",
       "      <td>2018-03-03</td>\n",
       "      <td>Semifinals</td>\n",
       "      <td>Anderson K.</td>\n",
       "      <td>Donaldson J.</td>\n",
       "      <td>8</td>\n",
       "      <td>59</td>\n",
       "    </tr>\n",
       "    <tr>\n",
       "      <th>44705</th>\n",
       "      <td>18</td>\n",
       "      <td>2018-03-03</td>\n",
       "      <td>Semifinals</td>\n",
       "      <td>Jarry N.</td>\n",
       "      <td>Zeballos H.</td>\n",
       "      <td>73</td>\n",
       "      <td>69</td>\n",
       "    </tr>\n",
       "    <tr>\n",
       "      <th>44706</th>\n",
       "      <td>16</td>\n",
       "      <td>2018-03-04</td>\n",
       "      <td>The Final</td>\n",
       "      <td>Del Potro J.M.</td>\n",
       "      <td>Anderson K.</td>\n",
       "      <td>9</td>\n",
       "      <td>8</td>\n",
       "    </tr>\n",
       "    <tr>\n",
       "      <th>44707</th>\n",
       "      <td>18</td>\n",
       "      <td>2018-03-04</td>\n",
       "      <td>The Final</td>\n",
       "      <td>Fognini F.</td>\n",
       "      <td>Jarry N.</td>\n",
       "      <td>20</td>\n",
       "      <td>73</td>\n",
       "    </tr>\n",
       "  </tbody>\n",
       "</table>\n",
       "<p>43015 rows × 7 columns</p>\n",
       "</div>\n",
       "      <button class=\"colab-df-convert\" onclick=\"convertToInteractive('df-d1cb9b0e-155b-4482-aa96-128fad6c8934')\"\n",
       "              title=\"Convert this dataframe to an interactive table.\"\n",
       "              style=\"display:none;\">\n",
       "        \n",
       "  <svg xmlns=\"http://www.w3.org/2000/svg\" height=\"24px\"viewBox=\"0 0 24 24\"\n",
       "       width=\"24px\">\n",
       "    <path d=\"M0 0h24v24H0V0z\" fill=\"none\"/>\n",
       "    <path d=\"M18.56 5.44l.94 2.06.94-2.06 2.06-.94-2.06-.94-.94-2.06-.94 2.06-2.06.94zm-11 1L8.5 8.5l.94-2.06 2.06-.94-2.06-.94L8.5 2.5l-.94 2.06-2.06.94zm10 10l.94 2.06.94-2.06 2.06-.94-2.06-.94-.94-2.06-.94 2.06-2.06.94z\"/><path d=\"M17.41 7.96l-1.37-1.37c-.4-.4-.92-.59-1.43-.59-.52 0-1.04.2-1.43.59L10.3 9.45l-7.72 7.72c-.78.78-.78 2.05 0 2.83L4 21.41c.39.39.9.59 1.41.59.51 0 1.02-.2 1.41-.59l7.78-7.78 2.81-2.81c.8-.78.8-2.07 0-2.86zM5.41 20L4 18.59l7.72-7.72 1.47 1.35L5.41 20z\"/>\n",
       "  </svg>\n",
       "      </button>\n",
       "      \n",
       "  <style>\n",
       "    .colab-df-container {\n",
       "      display:flex;\n",
       "      flex-wrap:wrap;\n",
       "      gap: 12px;\n",
       "    }\n",
       "\n",
       "    .colab-df-convert {\n",
       "      background-color: #E8F0FE;\n",
       "      border: none;\n",
       "      border-radius: 50%;\n",
       "      cursor: pointer;\n",
       "      display: none;\n",
       "      fill: #1967D2;\n",
       "      height: 32px;\n",
       "      padding: 0 0 0 0;\n",
       "      width: 32px;\n",
       "    }\n",
       "\n",
       "    .colab-df-convert:hover {\n",
       "      background-color: #E2EBFA;\n",
       "      box-shadow: 0px 1px 2px rgba(60, 64, 67, 0.3), 0px 1px 3px 1px rgba(60, 64, 67, 0.15);\n",
       "      fill: #174EA6;\n",
       "    }\n",
       "\n",
       "    [theme=dark] .colab-df-convert {\n",
       "      background-color: #3B4455;\n",
       "      fill: #D2E3FC;\n",
       "    }\n",
       "\n",
       "    [theme=dark] .colab-df-convert:hover {\n",
       "      background-color: #434B5C;\n",
       "      box-shadow: 0px 1px 3px 1px rgba(0, 0, 0, 0.15);\n",
       "      filter: drop-shadow(0px 1px 2px rgba(0, 0, 0, 0.3));\n",
       "      fill: #FFFFFF;\n",
       "    }\n",
       "  </style>\n",
       "\n",
       "      <script>\n",
       "        const buttonEl =\n",
       "          document.querySelector('#df-d1cb9b0e-155b-4482-aa96-128fad6c8934 button.colab-df-convert');\n",
       "        buttonEl.style.display =\n",
       "          google.colab.kernel.accessAllowed ? 'block' : 'none';\n",
       "\n",
       "        async function convertToInteractive(key) {\n",
       "          const element = document.querySelector('#df-d1cb9b0e-155b-4482-aa96-128fad6c8934');\n",
       "          const dataTable =\n",
       "            await google.colab.kernel.invokeFunction('convertToInteractive',\n",
       "                                                     [key], {});\n",
       "          if (!dataTable) return;\n",
       "\n",
       "          const docLinkHtml = 'Like what you see? Visit the ' +\n",
       "            '<a target=\"_blank\" href=https://colab.research.google.com/notebooks/data_table.ipynb>data table notebook</a>'\n",
       "            + ' to learn more about interactive tables.';\n",
       "          element.innerHTML = '';\n",
       "          dataTable['output_type'] = 'display_data';\n",
       "          await google.colab.output.renderOutput(dataTable, element);\n",
       "          const docLink = document.createElement('div');\n",
       "          docLink.innerHTML = docLinkHtml;\n",
       "          element.appendChild(docLink);\n",
       "        }\n",
       "      </script>\n",
       "    </div>\n",
       "  </div>\n",
       "  "
      ],
      "text/plain": [
       "       ATP        Date       Round            Winner         Loser  WRank  \\\n",
       "0        1  2000-01-03   1st Round        Dosedel S.   Ljubicic I.     63   \n",
       "1        3  2000-01-03   1st Round         Kiefer N.    Tarango J.      6   \n",
       "2        3  2000-01-03   1st Round         Gaudio G.       Luxa P.     73   \n",
       "3        3  2000-01-03   1st Round     El Aynaoui Y.     Dupuis A.     33   \n",
       "4        3  2000-01-03   1st Round      Cherkasov A.      Arazi H.    206   \n",
       "...    ...         ...         ...               ...           ...    ...   \n",
       "44703   17  2018-03-03   The Final  Bautista Agut R.    Pouille L.     23   \n",
       "44704   16  2018-03-03  Semifinals       Anderson K.  Donaldson J.      8   \n",
       "44705   18  2018-03-03  Semifinals          Jarry N.   Zeballos H.     73   \n",
       "44706   16  2018-03-04   The Final    Del Potro J.M.   Anderson K.      9   \n",
       "44707   18  2018-03-04   The Final        Fognini F.      Jarry N.     20   \n",
       "\n",
       "       LRank  \n",
       "0         77  \n",
       "1         59  \n",
       "2        174  \n",
       "3         78  \n",
       "4         35  \n",
       "...      ...  \n",
       "44703     15  \n",
       "44704     59  \n",
       "44705     69  \n",
       "44706      8  \n",
       "44707     73  \n",
       "\n",
       "[43015 rows x 7 columns]"
      ]
     },
     "execution_count": 19,
     "metadata": {},
     "output_type": "execute_result"
    }
   ],
   "source": [
    "#On ne garde que les matchs ayant aboutis\n",
    "df = df[df['Comment']==\"Completed\"]\n",
    "#On peut donc enlever cette colonne Comment\n",
    "df = df.drop(columns=['Comment'], axis=1)\n",
    "df"
   ]
  },
  {
   "cell_type": "markdown",
   "metadata": {
    "id": "d7qOY5gTS0DC"
   },
   "source": [
    "La colonne Date doit être modifiée pour que notre modèle avenir fonctionne convenablement : de celle-ci, créons les colonnes Day, Month et Year.\n",
    "\n",
    "Ensuite, remplaçons les valeurs de la variable catégorielle Round par des valeurs numériques."
   ]
  },
  {
   "cell_type": "code",
   "execution_count": 20,
   "metadata": {
    "colab": {
     "base_uri": "https://localhost:8080/",
     "height": 424
    },
    "executionInfo": {
     "elapsed": 21,
     "status": "ok",
     "timestamp": 1657186702410,
     "user": {
      "displayName": "Mayeul de Rougé",
      "userId": "12836380890528998156"
     },
     "user_tz": -120
    },
    "id": "vx_sD1URF_1c",
    "outputId": "5045212c-0a97-4b18-bb45-37f864af781f"
   },
   "outputs": [
    {
     "data": {
      "text/html": [
       "\n",
       "  <div id=\"df-919e28d7-c62a-46ee-86a2-e1460f4fb659\">\n",
       "    <div class=\"colab-df-container\">\n",
       "      <div>\n",
       "<style scoped>\n",
       "    .dataframe tbody tr th:only-of-type {\n",
       "        vertical-align: middle;\n",
       "    }\n",
       "\n",
       "    .dataframe tbody tr th {\n",
       "        vertical-align: top;\n",
       "    }\n",
       "\n",
       "    .dataframe thead th {\n",
       "        text-align: right;\n",
       "    }\n",
       "</style>\n",
       "<table border=\"1\" class=\"dataframe\">\n",
       "  <thead>\n",
       "    <tr style=\"text-align: right;\">\n",
       "      <th></th>\n",
       "      <th>ATP</th>\n",
       "      <th>Round</th>\n",
       "      <th>Winner</th>\n",
       "      <th>Loser</th>\n",
       "      <th>WRank</th>\n",
       "      <th>LRank</th>\n",
       "      <th>Day</th>\n",
       "      <th>Month</th>\n",
       "      <th>Year</th>\n",
       "    </tr>\n",
       "  </thead>\n",
       "  <tbody>\n",
       "    <tr>\n",
       "      <th>0</th>\n",
       "      <td>1</td>\n",
       "      <td>1st Round</td>\n",
       "      <td>Dosedel S.</td>\n",
       "      <td>Ljubicic I.</td>\n",
       "      <td>63</td>\n",
       "      <td>77</td>\n",
       "      <td>3</td>\n",
       "      <td>1</td>\n",
       "      <td>2000</td>\n",
       "    </tr>\n",
       "    <tr>\n",
       "      <th>1</th>\n",
       "      <td>3</td>\n",
       "      <td>1st Round</td>\n",
       "      <td>Kiefer N.</td>\n",
       "      <td>Tarango J.</td>\n",
       "      <td>6</td>\n",
       "      <td>59</td>\n",
       "      <td>3</td>\n",
       "      <td>1</td>\n",
       "      <td>2000</td>\n",
       "    </tr>\n",
       "    <tr>\n",
       "      <th>2</th>\n",
       "      <td>3</td>\n",
       "      <td>1st Round</td>\n",
       "      <td>Gaudio G.</td>\n",
       "      <td>Luxa P.</td>\n",
       "      <td>73</td>\n",
       "      <td>174</td>\n",
       "      <td>3</td>\n",
       "      <td>1</td>\n",
       "      <td>2000</td>\n",
       "    </tr>\n",
       "    <tr>\n",
       "      <th>3</th>\n",
       "      <td>3</td>\n",
       "      <td>1st Round</td>\n",
       "      <td>El Aynaoui Y.</td>\n",
       "      <td>Dupuis A.</td>\n",
       "      <td>33</td>\n",
       "      <td>78</td>\n",
       "      <td>3</td>\n",
       "      <td>1</td>\n",
       "      <td>2000</td>\n",
       "    </tr>\n",
       "    <tr>\n",
       "      <th>4</th>\n",
       "      <td>3</td>\n",
       "      <td>1st Round</td>\n",
       "      <td>Cherkasov A.</td>\n",
       "      <td>Arazi H.</td>\n",
       "      <td>206</td>\n",
       "      <td>35</td>\n",
       "      <td>3</td>\n",
       "      <td>1</td>\n",
       "      <td>2000</td>\n",
       "    </tr>\n",
       "    <tr>\n",
       "      <th>...</th>\n",
       "      <td>...</td>\n",
       "      <td>...</td>\n",
       "      <td>...</td>\n",
       "      <td>...</td>\n",
       "      <td>...</td>\n",
       "      <td>...</td>\n",
       "      <td>...</td>\n",
       "      <td>...</td>\n",
       "      <td>...</td>\n",
       "    </tr>\n",
       "    <tr>\n",
       "      <th>44703</th>\n",
       "      <td>17</td>\n",
       "      <td>The Final</td>\n",
       "      <td>Bautista Agut R.</td>\n",
       "      <td>Pouille L.</td>\n",
       "      <td>23</td>\n",
       "      <td>15</td>\n",
       "      <td>3</td>\n",
       "      <td>3</td>\n",
       "      <td>2018</td>\n",
       "    </tr>\n",
       "    <tr>\n",
       "      <th>44704</th>\n",
       "      <td>16</td>\n",
       "      <td>Semifinals</td>\n",
       "      <td>Anderson K.</td>\n",
       "      <td>Donaldson J.</td>\n",
       "      <td>8</td>\n",
       "      <td>59</td>\n",
       "      <td>3</td>\n",
       "      <td>3</td>\n",
       "      <td>2018</td>\n",
       "    </tr>\n",
       "    <tr>\n",
       "      <th>44705</th>\n",
       "      <td>18</td>\n",
       "      <td>Semifinals</td>\n",
       "      <td>Jarry N.</td>\n",
       "      <td>Zeballos H.</td>\n",
       "      <td>73</td>\n",
       "      <td>69</td>\n",
       "      <td>3</td>\n",
       "      <td>3</td>\n",
       "      <td>2018</td>\n",
       "    </tr>\n",
       "    <tr>\n",
       "      <th>44706</th>\n",
       "      <td>16</td>\n",
       "      <td>The Final</td>\n",
       "      <td>Del Potro J.M.</td>\n",
       "      <td>Anderson K.</td>\n",
       "      <td>9</td>\n",
       "      <td>8</td>\n",
       "      <td>4</td>\n",
       "      <td>3</td>\n",
       "      <td>2018</td>\n",
       "    </tr>\n",
       "    <tr>\n",
       "      <th>44707</th>\n",
       "      <td>18</td>\n",
       "      <td>The Final</td>\n",
       "      <td>Fognini F.</td>\n",
       "      <td>Jarry N.</td>\n",
       "      <td>20</td>\n",
       "      <td>73</td>\n",
       "      <td>4</td>\n",
       "      <td>3</td>\n",
       "      <td>2018</td>\n",
       "    </tr>\n",
       "  </tbody>\n",
       "</table>\n",
       "<p>43015 rows × 9 columns</p>\n",
       "</div>\n",
       "      <button class=\"colab-df-convert\" onclick=\"convertToInteractive('df-919e28d7-c62a-46ee-86a2-e1460f4fb659')\"\n",
       "              title=\"Convert this dataframe to an interactive table.\"\n",
       "              style=\"display:none;\">\n",
       "        \n",
       "  <svg xmlns=\"http://www.w3.org/2000/svg\" height=\"24px\"viewBox=\"0 0 24 24\"\n",
       "       width=\"24px\">\n",
       "    <path d=\"M0 0h24v24H0V0z\" fill=\"none\"/>\n",
       "    <path d=\"M18.56 5.44l.94 2.06.94-2.06 2.06-.94-2.06-.94-.94-2.06-.94 2.06-2.06.94zm-11 1L8.5 8.5l.94-2.06 2.06-.94-2.06-.94L8.5 2.5l-.94 2.06-2.06.94zm10 10l.94 2.06.94-2.06 2.06-.94-2.06-.94-.94-2.06-.94 2.06-2.06.94z\"/><path d=\"M17.41 7.96l-1.37-1.37c-.4-.4-.92-.59-1.43-.59-.52 0-1.04.2-1.43.59L10.3 9.45l-7.72 7.72c-.78.78-.78 2.05 0 2.83L4 21.41c.39.39.9.59 1.41.59.51 0 1.02-.2 1.41-.59l7.78-7.78 2.81-2.81c.8-.78.8-2.07 0-2.86zM5.41 20L4 18.59l7.72-7.72 1.47 1.35L5.41 20z\"/>\n",
       "  </svg>\n",
       "      </button>\n",
       "      \n",
       "  <style>\n",
       "    .colab-df-container {\n",
       "      display:flex;\n",
       "      flex-wrap:wrap;\n",
       "      gap: 12px;\n",
       "    }\n",
       "\n",
       "    .colab-df-convert {\n",
       "      background-color: #E8F0FE;\n",
       "      border: none;\n",
       "      border-radius: 50%;\n",
       "      cursor: pointer;\n",
       "      display: none;\n",
       "      fill: #1967D2;\n",
       "      height: 32px;\n",
       "      padding: 0 0 0 0;\n",
       "      width: 32px;\n",
       "    }\n",
       "\n",
       "    .colab-df-convert:hover {\n",
       "      background-color: #E2EBFA;\n",
       "      box-shadow: 0px 1px 2px rgba(60, 64, 67, 0.3), 0px 1px 3px 1px rgba(60, 64, 67, 0.15);\n",
       "      fill: #174EA6;\n",
       "    }\n",
       "\n",
       "    [theme=dark] .colab-df-convert {\n",
       "      background-color: #3B4455;\n",
       "      fill: #D2E3FC;\n",
       "    }\n",
       "\n",
       "    [theme=dark] .colab-df-convert:hover {\n",
       "      background-color: #434B5C;\n",
       "      box-shadow: 0px 1px 3px 1px rgba(0, 0, 0, 0.15);\n",
       "      filter: drop-shadow(0px 1px 2px rgba(0, 0, 0, 0.3));\n",
       "      fill: #FFFFFF;\n",
       "    }\n",
       "  </style>\n",
       "\n",
       "      <script>\n",
       "        const buttonEl =\n",
       "          document.querySelector('#df-919e28d7-c62a-46ee-86a2-e1460f4fb659 button.colab-df-convert');\n",
       "        buttonEl.style.display =\n",
       "          google.colab.kernel.accessAllowed ? 'block' : 'none';\n",
       "\n",
       "        async function convertToInteractive(key) {\n",
       "          const element = document.querySelector('#df-919e28d7-c62a-46ee-86a2-e1460f4fb659');\n",
       "          const dataTable =\n",
       "            await google.colab.kernel.invokeFunction('convertToInteractive',\n",
       "                                                     [key], {});\n",
       "          if (!dataTable) return;\n",
       "\n",
       "          const docLinkHtml = 'Like what you see? Visit the ' +\n",
       "            '<a target=\"_blank\" href=https://colab.research.google.com/notebooks/data_table.ipynb>data table notebook</a>'\n",
       "            + ' to learn more about interactive tables.';\n",
       "          element.innerHTML = '';\n",
       "          dataTable['output_type'] = 'display_data';\n",
       "          await google.colab.output.renderOutput(dataTable, element);\n",
       "          const docLink = document.createElement('div');\n",
       "          docLink.innerHTML = docLinkHtml;\n",
       "          element.appendChild(docLink);\n",
       "        }\n",
       "      </script>\n",
       "    </div>\n",
       "  </div>\n",
       "  "
      ],
      "text/plain": [
       "       ATP       Round            Winner         Loser  WRank  LRank  Day  \\\n",
       "0        1   1st Round        Dosedel S.   Ljubicic I.     63     77    3   \n",
       "1        3   1st Round         Kiefer N.    Tarango J.      6     59    3   \n",
       "2        3   1st Round         Gaudio G.       Luxa P.     73    174    3   \n",
       "3        3   1st Round     El Aynaoui Y.     Dupuis A.     33     78    3   \n",
       "4        3   1st Round      Cherkasov A.      Arazi H.    206     35    3   \n",
       "...    ...         ...               ...           ...    ...    ...  ...   \n",
       "44703   17   The Final  Bautista Agut R.    Pouille L.     23     15    3   \n",
       "44704   16  Semifinals       Anderson K.  Donaldson J.      8     59    3   \n",
       "44705   18  Semifinals          Jarry N.   Zeballos H.     73     69    3   \n",
       "44706   16   The Final    Del Potro J.M.   Anderson K.      9      8    4   \n",
       "44707   18   The Final        Fognini F.      Jarry N.     20     73    4   \n",
       "\n",
       "       Month  Year  \n",
       "0          1  2000  \n",
       "1          1  2000  \n",
       "2          1  2000  \n",
       "3          1  2000  \n",
       "4          1  2000  \n",
       "...      ...   ...  \n",
       "44703      3  2018  \n",
       "44704      3  2018  \n",
       "44705      3  2018  \n",
       "44706      3  2018  \n",
       "44707      3  2018  \n",
       "\n",
       "[43015 rows x 9 columns]"
      ]
     },
     "execution_count": 20,
     "metadata": {},
     "output_type": "execute_result"
    }
   ],
   "source": [
    "# On divise la colonne date en jour, mois, annee\n",
    "df['Date'] = pd.to_datetime(df['Date'])\n",
    "df['Day'] = df['Date'].dt.day\n",
    "df['Month'] = df['Date'].dt.month\n",
    "df['Year'] = df['Date'].dt.year\n",
    "df = df.drop('Date', axis=1)\n",
    "df"
   ]
  },
  {
   "cell_type": "code",
   "execution_count": 21,
   "metadata": {
    "colab": {
     "base_uri": "https://localhost:8080/",
     "height": 424
    },
    "executionInfo": {
     "elapsed": 21,
     "status": "ok",
     "timestamp": 1657186702411,
     "user": {
      "displayName": "Mayeul de Rougé",
      "userId": "12836380890528998156"
     },
     "user_tz": -120
    },
    "id": "B7eNLpB5F_1d",
    "outputId": "67430d17-7cb5-48c9-aa83-6db801961106"
   },
   "outputs": [
    {
     "data": {
      "text/html": [
       "\n",
       "  <div id=\"df-e772b525-4b19-43f1-8548-df1f43d9c1ec\">\n",
       "    <div class=\"colab-df-container\">\n",
       "      <div>\n",
       "<style scoped>\n",
       "    .dataframe tbody tr th:only-of-type {\n",
       "        vertical-align: middle;\n",
       "    }\n",
       "\n",
       "    .dataframe tbody tr th {\n",
       "        vertical-align: top;\n",
       "    }\n",
       "\n",
       "    .dataframe thead th {\n",
       "        text-align: right;\n",
       "    }\n",
       "</style>\n",
       "<table border=\"1\" class=\"dataframe\">\n",
       "  <thead>\n",
       "    <tr style=\"text-align: right;\">\n",
       "      <th></th>\n",
       "      <th>ATP</th>\n",
       "      <th>Round</th>\n",
       "      <th>Winner</th>\n",
       "      <th>Loser</th>\n",
       "      <th>WRank</th>\n",
       "      <th>LRank</th>\n",
       "      <th>Day</th>\n",
       "      <th>Month</th>\n",
       "      <th>Year</th>\n",
       "    </tr>\n",
       "  </thead>\n",
       "  <tbody>\n",
       "    <tr>\n",
       "      <th>0</th>\n",
       "      <td>1</td>\n",
       "      <td>1</td>\n",
       "      <td>Dosedel S.</td>\n",
       "      <td>Ljubicic I.</td>\n",
       "      <td>63</td>\n",
       "      <td>77</td>\n",
       "      <td>3</td>\n",
       "      <td>1</td>\n",
       "      <td>2000</td>\n",
       "    </tr>\n",
       "    <tr>\n",
       "      <th>1</th>\n",
       "      <td>3</td>\n",
       "      <td>1</td>\n",
       "      <td>Kiefer N.</td>\n",
       "      <td>Tarango J.</td>\n",
       "      <td>6</td>\n",
       "      <td>59</td>\n",
       "      <td>3</td>\n",
       "      <td>1</td>\n",
       "      <td>2000</td>\n",
       "    </tr>\n",
       "    <tr>\n",
       "      <th>2</th>\n",
       "      <td>3</td>\n",
       "      <td>1</td>\n",
       "      <td>Gaudio G.</td>\n",
       "      <td>Luxa P.</td>\n",
       "      <td>73</td>\n",
       "      <td>174</td>\n",
       "      <td>3</td>\n",
       "      <td>1</td>\n",
       "      <td>2000</td>\n",
       "    </tr>\n",
       "    <tr>\n",
       "      <th>3</th>\n",
       "      <td>3</td>\n",
       "      <td>1</td>\n",
       "      <td>El Aynaoui Y.</td>\n",
       "      <td>Dupuis A.</td>\n",
       "      <td>33</td>\n",
       "      <td>78</td>\n",
       "      <td>3</td>\n",
       "      <td>1</td>\n",
       "      <td>2000</td>\n",
       "    </tr>\n",
       "    <tr>\n",
       "      <th>4</th>\n",
       "      <td>3</td>\n",
       "      <td>1</td>\n",
       "      <td>Cherkasov A.</td>\n",
       "      <td>Arazi H.</td>\n",
       "      <td>206</td>\n",
       "      <td>35</td>\n",
       "      <td>3</td>\n",
       "      <td>1</td>\n",
       "      <td>2000</td>\n",
       "    </tr>\n",
       "    <tr>\n",
       "      <th>...</th>\n",
       "      <td>...</td>\n",
       "      <td>...</td>\n",
       "      <td>...</td>\n",
       "      <td>...</td>\n",
       "      <td>...</td>\n",
       "      <td>...</td>\n",
       "      <td>...</td>\n",
       "      <td>...</td>\n",
       "      <td>...</td>\n",
       "    </tr>\n",
       "    <tr>\n",
       "      <th>44703</th>\n",
       "      <td>17</td>\n",
       "      <td>7</td>\n",
       "      <td>Bautista Agut R.</td>\n",
       "      <td>Pouille L.</td>\n",
       "      <td>23</td>\n",
       "      <td>15</td>\n",
       "      <td>3</td>\n",
       "      <td>3</td>\n",
       "      <td>2018</td>\n",
       "    </tr>\n",
       "    <tr>\n",
       "      <th>44704</th>\n",
       "      <td>16</td>\n",
       "      <td>6</td>\n",
       "      <td>Anderson K.</td>\n",
       "      <td>Donaldson J.</td>\n",
       "      <td>8</td>\n",
       "      <td>59</td>\n",
       "      <td>3</td>\n",
       "      <td>3</td>\n",
       "      <td>2018</td>\n",
       "    </tr>\n",
       "    <tr>\n",
       "      <th>44705</th>\n",
       "      <td>18</td>\n",
       "      <td>6</td>\n",
       "      <td>Jarry N.</td>\n",
       "      <td>Zeballos H.</td>\n",
       "      <td>73</td>\n",
       "      <td>69</td>\n",
       "      <td>3</td>\n",
       "      <td>3</td>\n",
       "      <td>2018</td>\n",
       "    </tr>\n",
       "    <tr>\n",
       "      <th>44706</th>\n",
       "      <td>16</td>\n",
       "      <td>7</td>\n",
       "      <td>Del Potro J.M.</td>\n",
       "      <td>Anderson K.</td>\n",
       "      <td>9</td>\n",
       "      <td>8</td>\n",
       "      <td>4</td>\n",
       "      <td>3</td>\n",
       "      <td>2018</td>\n",
       "    </tr>\n",
       "    <tr>\n",
       "      <th>44707</th>\n",
       "      <td>18</td>\n",
       "      <td>7</td>\n",
       "      <td>Fognini F.</td>\n",
       "      <td>Jarry N.</td>\n",
       "      <td>20</td>\n",
       "      <td>73</td>\n",
       "      <td>4</td>\n",
       "      <td>3</td>\n",
       "      <td>2018</td>\n",
       "    </tr>\n",
       "  </tbody>\n",
       "</table>\n",
       "<p>43015 rows × 9 columns</p>\n",
       "</div>\n",
       "      <button class=\"colab-df-convert\" onclick=\"convertToInteractive('df-e772b525-4b19-43f1-8548-df1f43d9c1ec')\"\n",
       "              title=\"Convert this dataframe to an interactive table.\"\n",
       "              style=\"display:none;\">\n",
       "        \n",
       "  <svg xmlns=\"http://www.w3.org/2000/svg\" height=\"24px\"viewBox=\"0 0 24 24\"\n",
       "       width=\"24px\">\n",
       "    <path d=\"M0 0h24v24H0V0z\" fill=\"none\"/>\n",
       "    <path d=\"M18.56 5.44l.94 2.06.94-2.06 2.06-.94-2.06-.94-.94-2.06-.94 2.06-2.06.94zm-11 1L8.5 8.5l.94-2.06 2.06-.94-2.06-.94L8.5 2.5l-.94 2.06-2.06.94zm10 10l.94 2.06.94-2.06 2.06-.94-2.06-.94-.94-2.06-.94 2.06-2.06.94z\"/><path d=\"M17.41 7.96l-1.37-1.37c-.4-.4-.92-.59-1.43-.59-.52 0-1.04.2-1.43.59L10.3 9.45l-7.72 7.72c-.78.78-.78 2.05 0 2.83L4 21.41c.39.39.9.59 1.41.59.51 0 1.02-.2 1.41-.59l7.78-7.78 2.81-2.81c.8-.78.8-2.07 0-2.86zM5.41 20L4 18.59l7.72-7.72 1.47 1.35L5.41 20z\"/>\n",
       "  </svg>\n",
       "      </button>\n",
       "      \n",
       "  <style>\n",
       "    .colab-df-container {\n",
       "      display:flex;\n",
       "      flex-wrap:wrap;\n",
       "      gap: 12px;\n",
       "    }\n",
       "\n",
       "    .colab-df-convert {\n",
       "      background-color: #E8F0FE;\n",
       "      border: none;\n",
       "      border-radius: 50%;\n",
       "      cursor: pointer;\n",
       "      display: none;\n",
       "      fill: #1967D2;\n",
       "      height: 32px;\n",
       "      padding: 0 0 0 0;\n",
       "      width: 32px;\n",
       "    }\n",
       "\n",
       "    .colab-df-convert:hover {\n",
       "      background-color: #E2EBFA;\n",
       "      box-shadow: 0px 1px 2px rgba(60, 64, 67, 0.3), 0px 1px 3px 1px rgba(60, 64, 67, 0.15);\n",
       "      fill: #174EA6;\n",
       "    }\n",
       "\n",
       "    [theme=dark] .colab-df-convert {\n",
       "      background-color: #3B4455;\n",
       "      fill: #D2E3FC;\n",
       "    }\n",
       "\n",
       "    [theme=dark] .colab-df-convert:hover {\n",
       "      background-color: #434B5C;\n",
       "      box-shadow: 0px 1px 3px 1px rgba(0, 0, 0, 0.15);\n",
       "      filter: drop-shadow(0px 1px 2px rgba(0, 0, 0, 0.3));\n",
       "      fill: #FFFFFF;\n",
       "    }\n",
       "  </style>\n",
       "\n",
       "      <script>\n",
       "        const buttonEl =\n",
       "          document.querySelector('#df-e772b525-4b19-43f1-8548-df1f43d9c1ec button.colab-df-convert');\n",
       "        buttonEl.style.display =\n",
       "          google.colab.kernel.accessAllowed ? 'block' : 'none';\n",
       "\n",
       "        async function convertToInteractive(key) {\n",
       "          const element = document.querySelector('#df-e772b525-4b19-43f1-8548-df1f43d9c1ec');\n",
       "          const dataTable =\n",
       "            await google.colab.kernel.invokeFunction('convertToInteractive',\n",
       "                                                     [key], {});\n",
       "          if (!dataTable) return;\n",
       "\n",
       "          const docLinkHtml = 'Like what you see? Visit the ' +\n",
       "            '<a target=\"_blank\" href=https://colab.research.google.com/notebooks/data_table.ipynb>data table notebook</a>'\n",
       "            + ' to learn more about interactive tables.';\n",
       "          element.innerHTML = '';\n",
       "          dataTable['output_type'] = 'display_data';\n",
       "          await google.colab.output.renderOutput(dataTable, element);\n",
       "          const docLink = document.createElement('div');\n",
       "          docLink.innerHTML = docLinkHtml;\n",
       "          element.appendChild(docLink);\n",
       "        }\n",
       "      </script>\n",
       "    </div>\n",
       "  </div>\n",
       "  "
      ],
      "text/plain": [
       "       ATP  Round            Winner         Loser  WRank  LRank  Day  Month  \\\n",
       "0        1      1        Dosedel S.   Ljubicic I.     63     77    3      1   \n",
       "1        3      1         Kiefer N.    Tarango J.      6     59    3      1   \n",
       "2        3      1         Gaudio G.       Luxa P.     73    174    3      1   \n",
       "3        3      1     El Aynaoui Y.     Dupuis A.     33     78    3      1   \n",
       "4        3      1      Cherkasov A.      Arazi H.    206     35    3      1   \n",
       "...    ...    ...               ...           ...    ...    ...  ...    ...   \n",
       "44703   17      7  Bautista Agut R.    Pouille L.     23     15    3      3   \n",
       "44704   16      6       Anderson K.  Donaldson J.      8     59    3      3   \n",
       "44705   18      6          Jarry N.   Zeballos H.     73     69    3      3   \n",
       "44706   16      7    Del Potro J.M.   Anderson K.      9      8    4      3   \n",
       "44707   18      7        Fognini F.      Jarry N.     20     73    4      3   \n",
       "\n",
       "       Year  \n",
       "0      2000  \n",
       "1      2000  \n",
       "2      2000  \n",
       "3      2000  \n",
       "4      2000  \n",
       "...     ...  \n",
       "44703  2018  \n",
       "44704  2018  \n",
       "44705  2018  \n",
       "44706  2018  \n",
       "44707  2018  \n",
       "\n",
       "[43015 rows x 9 columns]"
      ]
     },
     "execution_count": 21,
     "metadata": {},
     "output_type": "execute_result"
    }
   ],
   "source": [
    "df = df.replace({'Round Robin':0,\"1st Round\" : 1,\"2nd Round\":2,'3rd Round':3,'4th Round':4,'Quarterfinals':5,'Semifinals':6,'The Final':7})\n",
    "df"
   ]
  },
  {
   "cell_type": "code",
   "execution_count": 22,
   "metadata": {
    "colab": {
     "base_uri": "https://localhost:8080/"
    },
    "executionInfo": {
     "elapsed": 21,
     "status": "ok",
     "timestamp": 1657186702412,
     "user": {
      "displayName": "Mayeul de Rougé",
      "userId": "12836380890528998156"
     },
     "user_tz": -120
    },
    "id": "Hw_jvOG4F_1d",
    "outputId": "29db70cf-b96d-44d8-cba3-fe4ec9dd5932"
   },
   "outputs": [
    {
     "name": "stdout",
     "output_type": "stream",
     "text": [
      "<class 'pandas.core.frame.DataFrame'>\n",
      "Int64Index: 43015 entries, 0 to 44707\n",
      "Data columns (total 9 columns):\n",
      " #   Column  Non-Null Count  Dtype \n",
      "---  ------  --------------  ----- \n",
      " 0   ATP     43015 non-null  int64 \n",
      " 1   Round   43015 non-null  int64 \n",
      " 2   Winner  43015 non-null  object\n",
      " 3   Loser   43015 non-null  object\n",
      " 4   WRank   43015 non-null  int64 \n",
      " 5   LRank   43015 non-null  int64 \n",
      " 6   Day     43015 non-null  int64 \n",
      " 7   Month   43015 non-null  int64 \n",
      " 8   Year    43015 non-null  int64 \n",
      "dtypes: int64(7), object(2)\n",
      "memory usage: 3.3+ MB\n"
     ]
    }
   ],
   "source": [
    "df.info()"
   ]
  },
  {
   "cell_type": "markdown",
   "metadata": {
    "id": "0BZmbvs1VIbC"
   },
   "source": [
    "Les colonnes Winner et Loser sont les deux colonnes restantes qui ne sont pas au format numérique.\n",
    "Pour rappel, l’objectif de notre modèle est de prédire le gagnant d’un match.\n",
    "Pour ce faire, nous allons dédoubler chaque ligne de notre dataset. On crée un dataframe df2 qui va contenir le double de ligne du dataframe initial. Chaque “paire” de ligne correspondra à un match.\n",
    "On crée une colonne Rank, qui va remplacer WRank et LRank.\n",
    "On “fusionne” WRank et LRank en faisant une ligne sur deux Rank=WRank , Rank=LRank.\n",
    "\n",
    "Puis une ligne sur deux, on remplace le gagnant par le perdant et on renomme cette colonne ‘Winner’ par ‘Player’. On supprime ensuite la colonne ‘Loser’. Notre dataset ressemble désormais à la figure suivante :\n"
   ]
  },
  {
   "cell_type": "code",
   "execution_count": 23,
   "metadata": {
    "colab": {
     "base_uri": "https://localhost:8080/",
     "height": 424
    },
    "executionInfo": {
     "elapsed": 16,
     "status": "ok",
     "timestamp": 1657186702412,
     "user": {
      "displayName": "Mayeul de Rougé",
      "userId": "12836380890528998156"
     },
     "user_tz": -120
    },
    "id": "0ZqJH4hKF_1d",
    "outputId": "4d425e17-50dd-4a8d-ad07-f68731a5b8d5"
   },
   "outputs": [
    {
     "data": {
      "text/html": [
       "\n",
       "  <div id=\"df-47b7fea7-2ce8-4693-ab12-e43298e7749f\">\n",
       "    <div class=\"colab-df-container\">\n",
       "      <div>\n",
       "<style scoped>\n",
       "    .dataframe tbody tr th:only-of-type {\n",
       "        vertical-align: middle;\n",
       "    }\n",
       "\n",
       "    .dataframe tbody tr th {\n",
       "        vertical-align: top;\n",
       "    }\n",
       "\n",
       "    .dataframe thead th {\n",
       "        text-align: right;\n",
       "    }\n",
       "</style>\n",
       "<table border=\"1\" class=\"dataframe\">\n",
       "  <thead>\n",
       "    <tr style=\"text-align: right;\">\n",
       "      <th></th>\n",
       "      <th>ATP</th>\n",
       "      <th>Round</th>\n",
       "      <th>Winner</th>\n",
       "      <th>Loser</th>\n",
       "      <th>WRank</th>\n",
       "      <th>LRank</th>\n",
       "      <th>Day</th>\n",
       "      <th>Month</th>\n",
       "      <th>Year</th>\n",
       "    </tr>\n",
       "  </thead>\n",
       "  <tbody>\n",
       "    <tr>\n",
       "      <th>0</th>\n",
       "      <td>1</td>\n",
       "      <td>1</td>\n",
       "      <td>Dosedel S.</td>\n",
       "      <td>Ljubicic I.</td>\n",
       "      <td>63</td>\n",
       "      <td>77</td>\n",
       "      <td>3</td>\n",
       "      <td>1</td>\n",
       "      <td>2000</td>\n",
       "    </tr>\n",
       "    <tr>\n",
       "      <th>1</th>\n",
       "      <td>1</td>\n",
       "      <td>1</td>\n",
       "      <td>Dosedel S.</td>\n",
       "      <td>Ljubicic I.</td>\n",
       "      <td>63</td>\n",
       "      <td>77</td>\n",
       "      <td>3</td>\n",
       "      <td>1</td>\n",
       "      <td>2000</td>\n",
       "    </tr>\n",
       "    <tr>\n",
       "      <th>2</th>\n",
       "      <td>3</td>\n",
       "      <td>1</td>\n",
       "      <td>Kiefer N.</td>\n",
       "      <td>Tarango J.</td>\n",
       "      <td>6</td>\n",
       "      <td>59</td>\n",
       "      <td>3</td>\n",
       "      <td>1</td>\n",
       "      <td>2000</td>\n",
       "    </tr>\n",
       "    <tr>\n",
       "      <th>3</th>\n",
       "      <td>3</td>\n",
       "      <td>1</td>\n",
       "      <td>Kiefer N.</td>\n",
       "      <td>Tarango J.</td>\n",
       "      <td>6</td>\n",
       "      <td>59</td>\n",
       "      <td>3</td>\n",
       "      <td>1</td>\n",
       "      <td>2000</td>\n",
       "    </tr>\n",
       "    <tr>\n",
       "      <th>4</th>\n",
       "      <td>3</td>\n",
       "      <td>1</td>\n",
       "      <td>Gaudio G.</td>\n",
       "      <td>Luxa P.</td>\n",
       "      <td>73</td>\n",
       "      <td>174</td>\n",
       "      <td>3</td>\n",
       "      <td>1</td>\n",
       "      <td>2000</td>\n",
       "    </tr>\n",
       "    <tr>\n",
       "      <th>...</th>\n",
       "      <td>...</td>\n",
       "      <td>...</td>\n",
       "      <td>...</td>\n",
       "      <td>...</td>\n",
       "      <td>...</td>\n",
       "      <td>...</td>\n",
       "      <td>...</td>\n",
       "      <td>...</td>\n",
       "      <td>...</td>\n",
       "    </tr>\n",
       "    <tr>\n",
       "      <th>86025</th>\n",
       "      <td>18</td>\n",
       "      <td>6</td>\n",
       "      <td>Jarry N.</td>\n",
       "      <td>Zeballos H.</td>\n",
       "      <td>73</td>\n",
       "      <td>69</td>\n",
       "      <td>3</td>\n",
       "      <td>3</td>\n",
       "      <td>2018</td>\n",
       "    </tr>\n",
       "    <tr>\n",
       "      <th>86026</th>\n",
       "      <td>16</td>\n",
       "      <td>7</td>\n",
       "      <td>Del Potro J.M.</td>\n",
       "      <td>Anderson K.</td>\n",
       "      <td>9</td>\n",
       "      <td>8</td>\n",
       "      <td>4</td>\n",
       "      <td>3</td>\n",
       "      <td>2018</td>\n",
       "    </tr>\n",
       "    <tr>\n",
       "      <th>86027</th>\n",
       "      <td>16</td>\n",
       "      <td>7</td>\n",
       "      <td>Del Potro J.M.</td>\n",
       "      <td>Anderson K.</td>\n",
       "      <td>9</td>\n",
       "      <td>8</td>\n",
       "      <td>4</td>\n",
       "      <td>3</td>\n",
       "      <td>2018</td>\n",
       "    </tr>\n",
       "    <tr>\n",
       "      <th>86028</th>\n",
       "      <td>18</td>\n",
       "      <td>7</td>\n",
       "      <td>Fognini F.</td>\n",
       "      <td>Jarry N.</td>\n",
       "      <td>20</td>\n",
       "      <td>73</td>\n",
       "      <td>4</td>\n",
       "      <td>3</td>\n",
       "      <td>2018</td>\n",
       "    </tr>\n",
       "    <tr>\n",
       "      <th>86029</th>\n",
       "      <td>18</td>\n",
       "      <td>7</td>\n",
       "      <td>Fognini F.</td>\n",
       "      <td>Jarry N.</td>\n",
       "      <td>20</td>\n",
       "      <td>73</td>\n",
       "      <td>4</td>\n",
       "      <td>3</td>\n",
       "      <td>2018</td>\n",
       "    </tr>\n",
       "  </tbody>\n",
       "</table>\n",
       "<p>86030 rows × 9 columns</p>\n",
       "</div>\n",
       "      <button class=\"colab-df-convert\" onclick=\"convertToInteractive('df-47b7fea7-2ce8-4693-ab12-e43298e7749f')\"\n",
       "              title=\"Convert this dataframe to an interactive table.\"\n",
       "              style=\"display:none;\">\n",
       "        \n",
       "  <svg xmlns=\"http://www.w3.org/2000/svg\" height=\"24px\"viewBox=\"0 0 24 24\"\n",
       "       width=\"24px\">\n",
       "    <path d=\"M0 0h24v24H0V0z\" fill=\"none\"/>\n",
       "    <path d=\"M18.56 5.44l.94 2.06.94-2.06 2.06-.94-2.06-.94-.94-2.06-.94 2.06-2.06.94zm-11 1L8.5 8.5l.94-2.06 2.06-.94-2.06-.94L8.5 2.5l-.94 2.06-2.06.94zm10 10l.94 2.06.94-2.06 2.06-.94-2.06-.94-.94-2.06-.94 2.06-2.06.94z\"/><path d=\"M17.41 7.96l-1.37-1.37c-.4-.4-.92-.59-1.43-.59-.52 0-1.04.2-1.43.59L10.3 9.45l-7.72 7.72c-.78.78-.78 2.05 0 2.83L4 21.41c.39.39.9.59 1.41.59.51 0 1.02-.2 1.41-.59l7.78-7.78 2.81-2.81c.8-.78.8-2.07 0-2.86zM5.41 20L4 18.59l7.72-7.72 1.47 1.35L5.41 20z\"/>\n",
       "  </svg>\n",
       "      </button>\n",
       "      \n",
       "  <style>\n",
       "    .colab-df-container {\n",
       "      display:flex;\n",
       "      flex-wrap:wrap;\n",
       "      gap: 12px;\n",
       "    }\n",
       "\n",
       "    .colab-df-convert {\n",
       "      background-color: #E8F0FE;\n",
       "      border: none;\n",
       "      border-radius: 50%;\n",
       "      cursor: pointer;\n",
       "      display: none;\n",
       "      fill: #1967D2;\n",
       "      height: 32px;\n",
       "      padding: 0 0 0 0;\n",
       "      width: 32px;\n",
       "    }\n",
       "\n",
       "    .colab-df-convert:hover {\n",
       "      background-color: #E2EBFA;\n",
       "      box-shadow: 0px 1px 2px rgba(60, 64, 67, 0.3), 0px 1px 3px 1px rgba(60, 64, 67, 0.15);\n",
       "      fill: #174EA6;\n",
       "    }\n",
       "\n",
       "    [theme=dark] .colab-df-convert {\n",
       "      background-color: #3B4455;\n",
       "      fill: #D2E3FC;\n",
       "    }\n",
       "\n",
       "    [theme=dark] .colab-df-convert:hover {\n",
       "      background-color: #434B5C;\n",
       "      box-shadow: 0px 1px 3px 1px rgba(0, 0, 0, 0.15);\n",
       "      filter: drop-shadow(0px 1px 2px rgba(0, 0, 0, 0.3));\n",
       "      fill: #FFFFFF;\n",
       "    }\n",
       "  </style>\n",
       "\n",
       "      <script>\n",
       "        const buttonEl =\n",
       "          document.querySelector('#df-47b7fea7-2ce8-4693-ab12-e43298e7749f button.colab-df-convert');\n",
       "        buttonEl.style.display =\n",
       "          google.colab.kernel.accessAllowed ? 'block' : 'none';\n",
       "\n",
       "        async function convertToInteractive(key) {\n",
       "          const element = document.querySelector('#df-47b7fea7-2ce8-4693-ab12-e43298e7749f');\n",
       "          const dataTable =\n",
       "            await google.colab.kernel.invokeFunction('convertToInteractive',\n",
       "                                                     [key], {});\n",
       "          if (!dataTable) return;\n",
       "\n",
       "          const docLinkHtml = 'Like what you see? Visit the ' +\n",
       "            '<a target=\"_blank\" href=https://colab.research.google.com/notebooks/data_table.ipynb>data table notebook</a>'\n",
       "            + ' to learn more about interactive tables.';\n",
       "          element.innerHTML = '';\n",
       "          dataTable['output_type'] = 'display_data';\n",
       "          await google.colab.output.renderOutput(dataTable, element);\n",
       "          const docLink = document.createElement('div');\n",
       "          docLink.innerHTML = docLinkHtml;\n",
       "          element.appendChild(docLink);\n",
       "        }\n",
       "      </script>\n",
       "    </div>\n",
       "  </div>\n",
       "  "
      ],
      "text/plain": [
       "      ATP Round          Winner        Loser WRank LRank Day Month  Year\n",
       "0       1     1      Dosedel S.  Ljubicic I.    63    77   3     1  2000\n",
       "1       1     1      Dosedel S.  Ljubicic I.    63    77   3     1  2000\n",
       "2       3     1       Kiefer N.   Tarango J.     6    59   3     1  2000\n",
       "3       3     1       Kiefer N.   Tarango J.     6    59   3     1  2000\n",
       "4       3     1       Gaudio G.      Luxa P.    73   174   3     1  2000\n",
       "...    ..   ...             ...          ...   ...   ...  ..   ...   ...\n",
       "86025  18     6        Jarry N.  Zeballos H.    73    69   3     3  2018\n",
       "86026  16     7  Del Potro J.M.  Anderson K.     9     8   4     3  2018\n",
       "86027  16     7  Del Potro J.M.  Anderson K.     9     8   4     3  2018\n",
       "86028  18     7      Fognini F.     Jarry N.    20    73   4     3  2018\n",
       "86029  18     7      Fognini F.     Jarry N.    20    73   4     3  2018\n",
       "\n",
       "[86030 rows x 9 columns]"
      ]
     },
     "execution_count": 23,
     "metadata": {},
     "output_type": "execute_result"
    }
   ],
   "source": [
    "df2 = pd.DataFrame(np.repeat(df.values, 2, axis=0))\n",
    "df2.columns = df.columns\n",
    "df2"
   ]
  },
  {
   "cell_type": "code",
   "execution_count": 24,
   "metadata": {
    "colab": {
     "base_uri": "https://localhost:8080/"
    },
    "executionInfo": {
     "elapsed": 14,
     "status": "ok",
     "timestamp": 1657186702412,
     "user": {
      "displayName": "Mayeul de Rougé",
      "userId": "12836380890528998156"
     },
     "user_tz": -120
    },
    "id": "c0qHXos7hSHq",
    "outputId": "d565a61f-8d59-47a2-b142-4b47fdd1e20b"
   },
   "outputs": [
    {
     "name": "stdout",
     "output_type": "stream",
     "text": [
      "<class 'pandas.core.frame.DataFrame'>\n",
      "RangeIndex: 86030 entries, 0 to 86029\n",
      "Data columns (total 9 columns):\n",
      " #   Column  Non-Null Count  Dtype \n",
      "---  ------  --------------  ----- \n",
      " 0   ATP     86030 non-null  object\n",
      " 1   Round   86030 non-null  object\n",
      " 2   Winner  86030 non-null  object\n",
      " 3   Loser   86030 non-null  object\n",
      " 4   WRank   86030 non-null  object\n",
      " 5   LRank   86030 non-null  object\n",
      " 6   Day     86030 non-null  object\n",
      " 7   Month   86030 non-null  object\n",
      " 8   Year    86030 non-null  object\n",
      "dtypes: object(9)\n",
      "memory usage: 5.9+ MB\n"
     ]
    }
   ],
   "source": [
    "# Avec l'opération précédante, toutes les colonnes sont devenu du type object. On les repassera en type numérique juste après\n",
    "df2.info()"
   ]
  },
  {
   "cell_type": "code",
   "execution_count": 25,
   "metadata": {
    "executionInfo": {
     "elapsed": 1011,
     "status": "ok",
     "timestamp": 1657186703413,
     "user": {
      "displayName": "Mayeul de Rougé",
      "userId": "12836380890528998156"
     },
     "user_tz": -120
    },
    "id": "vG1ZJQUwF_1d"
   },
   "outputs": [],
   "source": [
    "# On crée une colonne Rank, qui va remplacer WRank et LRank.\n",
    "# On 'fusionne' WRank et LRank en faisant une ligne sur deux Rank=WRank , Rank=LRank\n",
    "\n",
    "listRank = []\n",
    "\n",
    "for i in range(len(df2)):\n",
    "    if i%2==0:\n",
    "        listRank.append(df2['WRank'].iloc[i])\n",
    "    else:\n",
    "        listRank.append(df2['LRank'].iloc[i])\n",
    "\n",
    "df2['Rank']=listRank"
   ]
  },
  {
   "cell_type": "code",
   "execution_count": 26,
   "metadata": {
    "colab": {
     "base_uri": "https://localhost:8080/"
    },
    "executionInfo": {
     "elapsed": 70394,
     "status": "ok",
     "timestamp": 1657186773785,
     "user": {
      "displayName": "Mayeul de Rougé",
      "userId": "12836380890528998156"
     },
     "user_tz": -120
    },
    "id": "wwcmgeNqF_1e",
    "outputId": "b4a8a5f2-6bae-4dc8-f00e-95c77e61a7fe"
   },
   "outputs": [
    {
     "name": "stderr",
     "output_type": "stream",
     "text": [
      "/usr/local/lib/python3.7/dist-packages/pandas/core/indexing.py:1732: SettingWithCopyWarning: \n",
      "A value is trying to be set on a copy of a slice from a DataFrame\n",
      "\n",
      "See the caveats in the documentation: https://pandas.pydata.org/pandas-docs/stable/user_guide/indexing.html#returning-a-view-versus-a-copy\n",
      "  self._setitem_single_block(indexer, value, name)\n"
     ]
    }
   ],
   "source": [
    "# une ligne sur 2,  on remplace le winner par le loser et on renomme cette colonne 'Player'\n",
    "df2['Win'] = 0\n",
    "for i in range(len(df2)):\n",
    "    if i%2 ==0:\n",
    "        df2['Winner'].iloc[i+1] = df2['Loser'].iloc[i]\n",
    "        df2['Win'].iloc[i] = 1\n",
    "    else:\n",
    "        df2['Win'].iloc[i] = 0\n",
    "\n",
    "\n",
    "df2.rename(columns={\"Winner\": \"Player\"}, inplace=True)\n",
    "df2 = df2.drop('Loser', axis=1)"
   ]
  },
  {
   "cell_type": "code",
   "execution_count": 27,
   "metadata": {
    "colab": {
     "base_uri": "https://localhost:8080/",
     "height": 424
    },
    "executionInfo": {
     "elapsed": 19,
     "status": "ok",
     "timestamp": 1657186773786,
     "user": {
      "displayName": "Mayeul de Rougé",
      "userId": "12836380890528998156"
     },
     "user_tz": -120
    },
    "id": "G9BXzsKmF_1e",
    "outputId": "634be644-0db4-49d9-e201-413f2a4ef4be"
   },
   "outputs": [
    {
     "data": {
      "text/html": [
       "\n",
       "  <div id=\"df-ef5cf026-875a-4e1f-95aa-a6a721e2ab27\">\n",
       "    <div class=\"colab-df-container\">\n",
       "      <div>\n",
       "<style scoped>\n",
       "    .dataframe tbody tr th:only-of-type {\n",
       "        vertical-align: middle;\n",
       "    }\n",
       "\n",
       "    .dataframe tbody tr th {\n",
       "        vertical-align: top;\n",
       "    }\n",
       "\n",
       "    .dataframe thead th {\n",
       "        text-align: right;\n",
       "    }\n",
       "</style>\n",
       "<table border=\"1\" class=\"dataframe\">\n",
       "  <thead>\n",
       "    <tr style=\"text-align: right;\">\n",
       "      <th></th>\n",
       "      <th>ATP</th>\n",
       "      <th>Round</th>\n",
       "      <th>Player</th>\n",
       "      <th>WRank</th>\n",
       "      <th>LRank</th>\n",
       "      <th>Day</th>\n",
       "      <th>Month</th>\n",
       "      <th>Year</th>\n",
       "      <th>Rank</th>\n",
       "      <th>Win</th>\n",
       "    </tr>\n",
       "  </thead>\n",
       "  <tbody>\n",
       "    <tr>\n",
       "      <th>0</th>\n",
       "      <td>1</td>\n",
       "      <td>1</td>\n",
       "      <td>Dosedel S.</td>\n",
       "      <td>63</td>\n",
       "      <td>77</td>\n",
       "      <td>3</td>\n",
       "      <td>1</td>\n",
       "      <td>2000</td>\n",
       "      <td>63</td>\n",
       "      <td>1</td>\n",
       "    </tr>\n",
       "    <tr>\n",
       "      <th>1</th>\n",
       "      <td>1</td>\n",
       "      <td>1</td>\n",
       "      <td>Ljubicic I.</td>\n",
       "      <td>63</td>\n",
       "      <td>77</td>\n",
       "      <td>3</td>\n",
       "      <td>1</td>\n",
       "      <td>2000</td>\n",
       "      <td>77</td>\n",
       "      <td>0</td>\n",
       "    </tr>\n",
       "    <tr>\n",
       "      <th>2</th>\n",
       "      <td>3</td>\n",
       "      <td>1</td>\n",
       "      <td>Kiefer N.</td>\n",
       "      <td>6</td>\n",
       "      <td>59</td>\n",
       "      <td>3</td>\n",
       "      <td>1</td>\n",
       "      <td>2000</td>\n",
       "      <td>6</td>\n",
       "      <td>1</td>\n",
       "    </tr>\n",
       "    <tr>\n",
       "      <th>3</th>\n",
       "      <td>3</td>\n",
       "      <td>1</td>\n",
       "      <td>Tarango J.</td>\n",
       "      <td>6</td>\n",
       "      <td>59</td>\n",
       "      <td>3</td>\n",
       "      <td>1</td>\n",
       "      <td>2000</td>\n",
       "      <td>59</td>\n",
       "      <td>0</td>\n",
       "    </tr>\n",
       "    <tr>\n",
       "      <th>4</th>\n",
       "      <td>3</td>\n",
       "      <td>1</td>\n",
       "      <td>Gaudio G.</td>\n",
       "      <td>73</td>\n",
       "      <td>174</td>\n",
       "      <td>3</td>\n",
       "      <td>1</td>\n",
       "      <td>2000</td>\n",
       "      <td>73</td>\n",
       "      <td>1</td>\n",
       "    </tr>\n",
       "    <tr>\n",
       "      <th>...</th>\n",
       "      <td>...</td>\n",
       "      <td>...</td>\n",
       "      <td>...</td>\n",
       "      <td>...</td>\n",
       "      <td>...</td>\n",
       "      <td>...</td>\n",
       "      <td>...</td>\n",
       "      <td>...</td>\n",
       "      <td>...</td>\n",
       "      <td>...</td>\n",
       "    </tr>\n",
       "    <tr>\n",
       "      <th>86025</th>\n",
       "      <td>18</td>\n",
       "      <td>6</td>\n",
       "      <td>Zeballos H.</td>\n",
       "      <td>73</td>\n",
       "      <td>69</td>\n",
       "      <td>3</td>\n",
       "      <td>3</td>\n",
       "      <td>2018</td>\n",
       "      <td>69</td>\n",
       "      <td>0</td>\n",
       "    </tr>\n",
       "    <tr>\n",
       "      <th>86026</th>\n",
       "      <td>16</td>\n",
       "      <td>7</td>\n",
       "      <td>Del Potro J.M.</td>\n",
       "      <td>9</td>\n",
       "      <td>8</td>\n",
       "      <td>4</td>\n",
       "      <td>3</td>\n",
       "      <td>2018</td>\n",
       "      <td>9</td>\n",
       "      <td>1</td>\n",
       "    </tr>\n",
       "    <tr>\n",
       "      <th>86027</th>\n",
       "      <td>16</td>\n",
       "      <td>7</td>\n",
       "      <td>Anderson K.</td>\n",
       "      <td>9</td>\n",
       "      <td>8</td>\n",
       "      <td>4</td>\n",
       "      <td>3</td>\n",
       "      <td>2018</td>\n",
       "      <td>8</td>\n",
       "      <td>0</td>\n",
       "    </tr>\n",
       "    <tr>\n",
       "      <th>86028</th>\n",
       "      <td>18</td>\n",
       "      <td>7</td>\n",
       "      <td>Fognini F.</td>\n",
       "      <td>20</td>\n",
       "      <td>73</td>\n",
       "      <td>4</td>\n",
       "      <td>3</td>\n",
       "      <td>2018</td>\n",
       "      <td>20</td>\n",
       "      <td>1</td>\n",
       "    </tr>\n",
       "    <tr>\n",
       "      <th>86029</th>\n",
       "      <td>18</td>\n",
       "      <td>7</td>\n",
       "      <td>Jarry N.</td>\n",
       "      <td>20</td>\n",
       "      <td>73</td>\n",
       "      <td>4</td>\n",
       "      <td>3</td>\n",
       "      <td>2018</td>\n",
       "      <td>73</td>\n",
       "      <td>0</td>\n",
       "    </tr>\n",
       "  </tbody>\n",
       "</table>\n",
       "<p>86030 rows × 10 columns</p>\n",
       "</div>\n",
       "      <button class=\"colab-df-convert\" onclick=\"convertToInteractive('df-ef5cf026-875a-4e1f-95aa-a6a721e2ab27')\"\n",
       "              title=\"Convert this dataframe to an interactive table.\"\n",
       "              style=\"display:none;\">\n",
       "        \n",
       "  <svg xmlns=\"http://www.w3.org/2000/svg\" height=\"24px\"viewBox=\"0 0 24 24\"\n",
       "       width=\"24px\">\n",
       "    <path d=\"M0 0h24v24H0V0z\" fill=\"none\"/>\n",
       "    <path d=\"M18.56 5.44l.94 2.06.94-2.06 2.06-.94-2.06-.94-.94-2.06-.94 2.06-2.06.94zm-11 1L8.5 8.5l.94-2.06 2.06-.94-2.06-.94L8.5 2.5l-.94 2.06-2.06.94zm10 10l.94 2.06.94-2.06 2.06-.94-2.06-.94-.94-2.06-.94 2.06-2.06.94z\"/><path d=\"M17.41 7.96l-1.37-1.37c-.4-.4-.92-.59-1.43-.59-.52 0-1.04.2-1.43.59L10.3 9.45l-7.72 7.72c-.78.78-.78 2.05 0 2.83L4 21.41c.39.39.9.59 1.41.59.51 0 1.02-.2 1.41-.59l7.78-7.78 2.81-2.81c.8-.78.8-2.07 0-2.86zM5.41 20L4 18.59l7.72-7.72 1.47 1.35L5.41 20z\"/>\n",
       "  </svg>\n",
       "      </button>\n",
       "      \n",
       "  <style>\n",
       "    .colab-df-container {\n",
       "      display:flex;\n",
       "      flex-wrap:wrap;\n",
       "      gap: 12px;\n",
       "    }\n",
       "\n",
       "    .colab-df-convert {\n",
       "      background-color: #E8F0FE;\n",
       "      border: none;\n",
       "      border-radius: 50%;\n",
       "      cursor: pointer;\n",
       "      display: none;\n",
       "      fill: #1967D2;\n",
       "      height: 32px;\n",
       "      padding: 0 0 0 0;\n",
       "      width: 32px;\n",
       "    }\n",
       "\n",
       "    .colab-df-convert:hover {\n",
       "      background-color: #E2EBFA;\n",
       "      box-shadow: 0px 1px 2px rgba(60, 64, 67, 0.3), 0px 1px 3px 1px rgba(60, 64, 67, 0.15);\n",
       "      fill: #174EA6;\n",
       "    }\n",
       "\n",
       "    [theme=dark] .colab-df-convert {\n",
       "      background-color: #3B4455;\n",
       "      fill: #D2E3FC;\n",
       "    }\n",
       "\n",
       "    [theme=dark] .colab-df-convert:hover {\n",
       "      background-color: #434B5C;\n",
       "      box-shadow: 0px 1px 3px 1px rgba(0, 0, 0, 0.15);\n",
       "      filter: drop-shadow(0px 1px 2px rgba(0, 0, 0, 0.3));\n",
       "      fill: #FFFFFF;\n",
       "    }\n",
       "  </style>\n",
       "\n",
       "      <script>\n",
       "        const buttonEl =\n",
       "          document.querySelector('#df-ef5cf026-875a-4e1f-95aa-a6a721e2ab27 button.colab-df-convert');\n",
       "        buttonEl.style.display =\n",
       "          google.colab.kernel.accessAllowed ? 'block' : 'none';\n",
       "\n",
       "        async function convertToInteractive(key) {\n",
       "          const element = document.querySelector('#df-ef5cf026-875a-4e1f-95aa-a6a721e2ab27');\n",
       "          const dataTable =\n",
       "            await google.colab.kernel.invokeFunction('convertToInteractive',\n",
       "                                                     [key], {});\n",
       "          if (!dataTable) return;\n",
       "\n",
       "          const docLinkHtml = 'Like what you see? Visit the ' +\n",
       "            '<a target=\"_blank\" href=https://colab.research.google.com/notebooks/data_table.ipynb>data table notebook</a>'\n",
       "            + ' to learn more about interactive tables.';\n",
       "          element.innerHTML = '';\n",
       "          dataTable['output_type'] = 'display_data';\n",
       "          await google.colab.output.renderOutput(dataTable, element);\n",
       "          const docLink = document.createElement('div');\n",
       "          docLink.innerHTML = docLinkHtml;\n",
       "          element.appendChild(docLink);\n",
       "        }\n",
       "      </script>\n",
       "    </div>\n",
       "  </div>\n",
       "  "
      ],
      "text/plain": [
       "      ATP Round          Player WRank LRank Day Month  Year  Rank  Win\n",
       "0       1     1      Dosedel S.    63    77   3     1  2000    63    1\n",
       "1       1     1     Ljubicic I.    63    77   3     1  2000    77    0\n",
       "2       3     1       Kiefer N.     6    59   3     1  2000     6    1\n",
       "3       3     1      Tarango J.     6    59   3     1  2000    59    0\n",
       "4       3     1       Gaudio G.    73   174   3     1  2000    73    1\n",
       "...    ..   ...             ...   ...   ...  ..   ...   ...   ...  ...\n",
       "86025  18     6     Zeballos H.    73    69   3     3  2018    69    0\n",
       "86026  16     7  Del Potro J.M.     9     8   4     3  2018     9    1\n",
       "86027  16     7     Anderson K.     9     8   4     3  2018     8    0\n",
       "86028  18     7      Fognini F.    20    73   4     3  2018    20    1\n",
       "86029  18     7        Jarry N.    20    73   4     3  2018    73    0\n",
       "\n",
       "[86030 rows x 10 columns]"
      ]
     },
     "execution_count": 27,
     "metadata": {},
     "output_type": "execute_result"
    }
   ],
   "source": [
    "df2"
   ]
  },
  {
   "cell_type": "markdown",
   "metadata": {
    "id": "oU4gTupBRnV8"
   },
   "source": [
    "On se crée  une table de correspondance : nom joueur/rank avant de supprimer les colonnes Player, WRank, LRank qui ne nous sont plus utiles."
   ]
  },
  {
   "cell_type": "code",
   "execution_count": 28,
   "metadata": {
    "colab": {
     "base_uri": "https://localhost:8080/",
     "height": 424
    },
    "executionInfo": {
     "elapsed": 16,
     "status": "ok",
     "timestamp": 1657186773786,
     "user": {
      "displayName": "Mayeul de Rougé",
      "userId": "12836380890528998156"
     },
     "user_tz": -120
    },
    "id": "VLVHn_wvF_1e",
    "outputId": "414a709c-7884-4ea2-d480-4a9b71465d1d"
   },
   "outputs": [
    {
     "data": {
      "text/html": [
       "\n",
       "  <div id=\"df-3ce1c9d5-51d2-4439-bd92-65f579a4bbfa\">\n",
       "    <div class=\"colab-df-container\">\n",
       "      <div>\n",
       "<style scoped>\n",
       "    .dataframe tbody tr th:only-of-type {\n",
       "        vertical-align: middle;\n",
       "    }\n",
       "\n",
       "    .dataframe tbody tr th {\n",
       "        vertical-align: top;\n",
       "    }\n",
       "\n",
       "    .dataframe thead th {\n",
       "        text-align: right;\n",
       "    }\n",
       "</style>\n",
       "<table border=\"1\" class=\"dataframe\">\n",
       "  <thead>\n",
       "    <tr style=\"text-align: right;\">\n",
       "      <th></th>\n",
       "      <th>ATP</th>\n",
       "      <th>Round</th>\n",
       "      <th>Day</th>\n",
       "      <th>Month</th>\n",
       "      <th>Year</th>\n",
       "      <th>Rank</th>\n",
       "      <th>Win</th>\n",
       "    </tr>\n",
       "  </thead>\n",
       "  <tbody>\n",
       "    <tr>\n",
       "      <th>0</th>\n",
       "      <td>1</td>\n",
       "      <td>1</td>\n",
       "      <td>3</td>\n",
       "      <td>1</td>\n",
       "      <td>2000</td>\n",
       "      <td>63</td>\n",
       "      <td>1</td>\n",
       "    </tr>\n",
       "    <tr>\n",
       "      <th>1</th>\n",
       "      <td>1</td>\n",
       "      <td>1</td>\n",
       "      <td>3</td>\n",
       "      <td>1</td>\n",
       "      <td>2000</td>\n",
       "      <td>77</td>\n",
       "      <td>0</td>\n",
       "    </tr>\n",
       "    <tr>\n",
       "      <th>2</th>\n",
       "      <td>3</td>\n",
       "      <td>1</td>\n",
       "      <td>3</td>\n",
       "      <td>1</td>\n",
       "      <td>2000</td>\n",
       "      <td>6</td>\n",
       "      <td>1</td>\n",
       "    </tr>\n",
       "    <tr>\n",
       "      <th>3</th>\n",
       "      <td>3</td>\n",
       "      <td>1</td>\n",
       "      <td>3</td>\n",
       "      <td>1</td>\n",
       "      <td>2000</td>\n",
       "      <td>59</td>\n",
       "      <td>0</td>\n",
       "    </tr>\n",
       "    <tr>\n",
       "      <th>4</th>\n",
       "      <td>3</td>\n",
       "      <td>1</td>\n",
       "      <td>3</td>\n",
       "      <td>1</td>\n",
       "      <td>2000</td>\n",
       "      <td>73</td>\n",
       "      <td>1</td>\n",
       "    </tr>\n",
       "    <tr>\n",
       "      <th>...</th>\n",
       "      <td>...</td>\n",
       "      <td>...</td>\n",
       "      <td>...</td>\n",
       "      <td>...</td>\n",
       "      <td>...</td>\n",
       "      <td>...</td>\n",
       "      <td>...</td>\n",
       "    </tr>\n",
       "    <tr>\n",
       "      <th>86025</th>\n",
       "      <td>18</td>\n",
       "      <td>6</td>\n",
       "      <td>3</td>\n",
       "      <td>3</td>\n",
       "      <td>2018</td>\n",
       "      <td>69</td>\n",
       "      <td>0</td>\n",
       "    </tr>\n",
       "    <tr>\n",
       "      <th>86026</th>\n",
       "      <td>16</td>\n",
       "      <td>7</td>\n",
       "      <td>4</td>\n",
       "      <td>3</td>\n",
       "      <td>2018</td>\n",
       "      <td>9</td>\n",
       "      <td>1</td>\n",
       "    </tr>\n",
       "    <tr>\n",
       "      <th>86027</th>\n",
       "      <td>16</td>\n",
       "      <td>7</td>\n",
       "      <td>4</td>\n",
       "      <td>3</td>\n",
       "      <td>2018</td>\n",
       "      <td>8</td>\n",
       "      <td>0</td>\n",
       "    </tr>\n",
       "    <tr>\n",
       "      <th>86028</th>\n",
       "      <td>18</td>\n",
       "      <td>7</td>\n",
       "      <td>4</td>\n",
       "      <td>3</td>\n",
       "      <td>2018</td>\n",
       "      <td>20</td>\n",
       "      <td>1</td>\n",
       "    </tr>\n",
       "    <tr>\n",
       "      <th>86029</th>\n",
       "      <td>18</td>\n",
       "      <td>7</td>\n",
       "      <td>4</td>\n",
       "      <td>3</td>\n",
       "      <td>2018</td>\n",
       "      <td>73</td>\n",
       "      <td>0</td>\n",
       "    </tr>\n",
       "  </tbody>\n",
       "</table>\n",
       "<p>86030 rows × 7 columns</p>\n",
       "</div>\n",
       "      <button class=\"colab-df-convert\" onclick=\"convertToInteractive('df-3ce1c9d5-51d2-4439-bd92-65f579a4bbfa')\"\n",
       "              title=\"Convert this dataframe to an interactive table.\"\n",
       "              style=\"display:none;\">\n",
       "        \n",
       "  <svg xmlns=\"http://www.w3.org/2000/svg\" height=\"24px\"viewBox=\"0 0 24 24\"\n",
       "       width=\"24px\">\n",
       "    <path d=\"M0 0h24v24H0V0z\" fill=\"none\"/>\n",
       "    <path d=\"M18.56 5.44l.94 2.06.94-2.06 2.06-.94-2.06-.94-.94-2.06-.94 2.06-2.06.94zm-11 1L8.5 8.5l.94-2.06 2.06-.94-2.06-.94L8.5 2.5l-.94 2.06-2.06.94zm10 10l.94 2.06.94-2.06 2.06-.94-2.06-.94-.94-2.06-.94 2.06-2.06.94z\"/><path d=\"M17.41 7.96l-1.37-1.37c-.4-.4-.92-.59-1.43-.59-.52 0-1.04.2-1.43.59L10.3 9.45l-7.72 7.72c-.78.78-.78 2.05 0 2.83L4 21.41c.39.39.9.59 1.41.59.51 0 1.02-.2 1.41-.59l7.78-7.78 2.81-2.81c.8-.78.8-2.07 0-2.86zM5.41 20L4 18.59l7.72-7.72 1.47 1.35L5.41 20z\"/>\n",
       "  </svg>\n",
       "      </button>\n",
       "      \n",
       "  <style>\n",
       "    .colab-df-container {\n",
       "      display:flex;\n",
       "      flex-wrap:wrap;\n",
       "      gap: 12px;\n",
       "    }\n",
       "\n",
       "    .colab-df-convert {\n",
       "      background-color: #E8F0FE;\n",
       "      border: none;\n",
       "      border-radius: 50%;\n",
       "      cursor: pointer;\n",
       "      display: none;\n",
       "      fill: #1967D2;\n",
       "      height: 32px;\n",
       "      padding: 0 0 0 0;\n",
       "      width: 32px;\n",
       "    }\n",
       "\n",
       "    .colab-df-convert:hover {\n",
       "      background-color: #E2EBFA;\n",
       "      box-shadow: 0px 1px 2px rgba(60, 64, 67, 0.3), 0px 1px 3px 1px rgba(60, 64, 67, 0.15);\n",
       "      fill: #174EA6;\n",
       "    }\n",
       "\n",
       "    [theme=dark] .colab-df-convert {\n",
       "      background-color: #3B4455;\n",
       "      fill: #D2E3FC;\n",
       "    }\n",
       "\n",
       "    [theme=dark] .colab-df-convert:hover {\n",
       "      background-color: #434B5C;\n",
       "      box-shadow: 0px 1px 3px 1px rgba(0, 0, 0, 0.15);\n",
       "      filter: drop-shadow(0px 1px 2px rgba(0, 0, 0, 0.3));\n",
       "      fill: #FFFFFF;\n",
       "    }\n",
       "  </style>\n",
       "\n",
       "      <script>\n",
       "        const buttonEl =\n",
       "          document.querySelector('#df-3ce1c9d5-51d2-4439-bd92-65f579a4bbfa button.colab-df-convert');\n",
       "        buttonEl.style.display =\n",
       "          google.colab.kernel.accessAllowed ? 'block' : 'none';\n",
       "\n",
       "        async function convertToInteractive(key) {\n",
       "          const element = document.querySelector('#df-3ce1c9d5-51d2-4439-bd92-65f579a4bbfa');\n",
       "          const dataTable =\n",
       "            await google.colab.kernel.invokeFunction('convertToInteractive',\n",
       "                                                     [key], {});\n",
       "          if (!dataTable) return;\n",
       "\n",
       "          const docLinkHtml = 'Like what you see? Visit the ' +\n",
       "            '<a target=\"_blank\" href=https://colab.research.google.com/notebooks/data_table.ipynb>data table notebook</a>'\n",
       "            + ' to learn more about interactive tables.';\n",
       "          element.innerHTML = '';\n",
       "          dataTable['output_type'] = 'display_data';\n",
       "          await google.colab.output.renderOutput(dataTable, element);\n",
       "          const docLink = document.createElement('div');\n",
       "          docLink.innerHTML = docLinkHtml;\n",
       "          element.appendChild(docLink);\n",
       "        }\n",
       "      </script>\n",
       "    </div>\n",
       "  </div>\n",
       "  "
      ],
      "text/plain": [
       "      ATP Round Day Month  Year  Rank  Win\n",
       "0       1     1   3     1  2000    63    1\n",
       "1       1     1   3     1  2000    77    0\n",
       "2       3     1   3     1  2000     6    1\n",
       "3       3     1   3     1  2000    59    0\n",
       "4       3     1   3     1  2000    73    1\n",
       "...    ..   ...  ..   ...   ...   ...  ...\n",
       "86025  18     6   3     3  2018    69    0\n",
       "86026  16     7   4     3  2018     9    1\n",
       "86027  16     7   4     3  2018     8    0\n",
       "86028  18     7   4     3  2018    20    1\n",
       "86029  18     7   4     3  2018    73    0\n",
       "\n",
       "[86030 rows x 7 columns]"
      ]
     },
     "execution_count": 28,
     "metadata": {},
     "output_type": "execute_result"
    }
   ],
   "source": [
    "df_player = df2[['Player','Rank']]\n",
    "df = df2.drop(['Player','WRank','LRank'], axis=1)\n",
    "df"
   ]
  },
  {
   "cell_type": "markdown",
   "metadata": {
    "id": "rRpiB2Sgb4bK"
   },
   "source": [
    "Notre dataset comporte 86030 lignes et 7 colonnes. Toutes les les colonnes sont au format 'object'. Transformons-les en variables numériques :"
   ]
  },
  {
   "cell_type": "code",
   "execution_count": 29,
   "metadata": {
    "colab": {
     "base_uri": "https://localhost:8080/"
    },
    "executionInfo": {
     "elapsed": 16,
     "status": "ok",
     "timestamp": 1657186773787,
     "user": {
      "displayName": "Mayeul de Rougé",
      "userId": "12836380890528998156"
     },
     "user_tz": -120
    },
    "id": "8Ilv16VPmHTn",
    "outputId": "63e16a16-b4b5-4315-fca7-156cd43b70fb"
   },
   "outputs": [
    {
     "name": "stdout",
     "output_type": "stream",
     "text": [
      "<class 'pandas.core.frame.DataFrame'>\n",
      "RangeIndex: 86030 entries, 0 to 86029\n",
      "Data columns (total 7 columns):\n",
      " #   Column  Non-Null Count  Dtype\n",
      "---  ------  --------------  -----\n",
      " 0   ATP     86030 non-null  int64\n",
      " 1   Round   86030 non-null  int64\n",
      " 2   Day     86030 non-null  int64\n",
      " 3   Month   86030 non-null  int64\n",
      " 4   Year    86030 non-null  int64\n",
      " 5   Rank    86030 non-null  int64\n",
      " 6   Win     86030 non-null  int64\n",
      "dtypes: int64(7)\n",
      "memory usage: 4.6 MB\n"
     ]
    }
   ],
   "source": [
    "df = df.astype(int)\n",
    "df.info()"
   ]
  },
  {
   "cell_type": "markdown",
   "metadata": {
    "id": "6YU1vcM-lYnw"
   },
   "source": [
    "Au final, voici à quoi ressemble le dataframe que nous exploiterons pour mettre en place nos modèles :\n"
   ]
  },
  {
   "cell_type": "code",
   "execution_count": 30,
   "metadata": {
    "colab": {
     "base_uri": "https://localhost:8080/",
     "height": 424
    },
    "executionInfo": {
     "elapsed": 13,
     "status": "ok",
     "timestamp": 1657186773788,
     "user": {
      "displayName": "Mayeul de Rougé",
      "userId": "12836380890528998156"
     },
     "user_tz": -120
    },
    "id": "gvPHuTE2mjuV",
    "outputId": "a4e0684c-cec0-4463-92ef-8162ec2077ae"
   },
   "outputs": [
    {
     "data": {
      "text/html": [
       "\n",
       "  <div id=\"df-13422847-91b7-4903-ba3c-99761970efd3\">\n",
       "    <div class=\"colab-df-container\">\n",
       "      <div>\n",
       "<style scoped>\n",
       "    .dataframe tbody tr th:only-of-type {\n",
       "        vertical-align: middle;\n",
       "    }\n",
       "\n",
       "    .dataframe tbody tr th {\n",
       "        vertical-align: top;\n",
       "    }\n",
       "\n",
       "    .dataframe thead th {\n",
       "        text-align: right;\n",
       "    }\n",
       "</style>\n",
       "<table border=\"1\" class=\"dataframe\">\n",
       "  <thead>\n",
       "    <tr style=\"text-align: right;\">\n",
       "      <th></th>\n",
       "      <th>ATP</th>\n",
       "      <th>Round</th>\n",
       "      <th>Day</th>\n",
       "      <th>Month</th>\n",
       "      <th>Year</th>\n",
       "      <th>Rank</th>\n",
       "      <th>Win</th>\n",
       "    </tr>\n",
       "  </thead>\n",
       "  <tbody>\n",
       "    <tr>\n",
       "      <th>0</th>\n",
       "      <td>1</td>\n",
       "      <td>1</td>\n",
       "      <td>3</td>\n",
       "      <td>1</td>\n",
       "      <td>2000</td>\n",
       "      <td>63</td>\n",
       "      <td>1</td>\n",
       "    </tr>\n",
       "    <tr>\n",
       "      <th>1</th>\n",
       "      <td>1</td>\n",
       "      <td>1</td>\n",
       "      <td>3</td>\n",
       "      <td>1</td>\n",
       "      <td>2000</td>\n",
       "      <td>77</td>\n",
       "      <td>0</td>\n",
       "    </tr>\n",
       "    <tr>\n",
       "      <th>2</th>\n",
       "      <td>3</td>\n",
       "      <td>1</td>\n",
       "      <td>3</td>\n",
       "      <td>1</td>\n",
       "      <td>2000</td>\n",
       "      <td>6</td>\n",
       "      <td>1</td>\n",
       "    </tr>\n",
       "    <tr>\n",
       "      <th>3</th>\n",
       "      <td>3</td>\n",
       "      <td>1</td>\n",
       "      <td>3</td>\n",
       "      <td>1</td>\n",
       "      <td>2000</td>\n",
       "      <td>59</td>\n",
       "      <td>0</td>\n",
       "    </tr>\n",
       "    <tr>\n",
       "      <th>4</th>\n",
       "      <td>3</td>\n",
       "      <td>1</td>\n",
       "      <td>3</td>\n",
       "      <td>1</td>\n",
       "      <td>2000</td>\n",
       "      <td>73</td>\n",
       "      <td>1</td>\n",
       "    </tr>\n",
       "    <tr>\n",
       "      <th>...</th>\n",
       "      <td>...</td>\n",
       "      <td>...</td>\n",
       "      <td>...</td>\n",
       "      <td>...</td>\n",
       "      <td>...</td>\n",
       "      <td>...</td>\n",
       "      <td>...</td>\n",
       "    </tr>\n",
       "    <tr>\n",
       "      <th>86025</th>\n",
       "      <td>18</td>\n",
       "      <td>6</td>\n",
       "      <td>3</td>\n",
       "      <td>3</td>\n",
       "      <td>2018</td>\n",
       "      <td>69</td>\n",
       "      <td>0</td>\n",
       "    </tr>\n",
       "    <tr>\n",
       "      <th>86026</th>\n",
       "      <td>16</td>\n",
       "      <td>7</td>\n",
       "      <td>4</td>\n",
       "      <td>3</td>\n",
       "      <td>2018</td>\n",
       "      <td>9</td>\n",
       "      <td>1</td>\n",
       "    </tr>\n",
       "    <tr>\n",
       "      <th>86027</th>\n",
       "      <td>16</td>\n",
       "      <td>7</td>\n",
       "      <td>4</td>\n",
       "      <td>3</td>\n",
       "      <td>2018</td>\n",
       "      <td>8</td>\n",
       "      <td>0</td>\n",
       "    </tr>\n",
       "    <tr>\n",
       "      <th>86028</th>\n",
       "      <td>18</td>\n",
       "      <td>7</td>\n",
       "      <td>4</td>\n",
       "      <td>3</td>\n",
       "      <td>2018</td>\n",
       "      <td>20</td>\n",
       "      <td>1</td>\n",
       "    </tr>\n",
       "    <tr>\n",
       "      <th>86029</th>\n",
       "      <td>18</td>\n",
       "      <td>7</td>\n",
       "      <td>4</td>\n",
       "      <td>3</td>\n",
       "      <td>2018</td>\n",
       "      <td>73</td>\n",
       "      <td>0</td>\n",
       "    </tr>\n",
       "  </tbody>\n",
       "</table>\n",
       "<p>86030 rows × 7 columns</p>\n",
       "</div>\n",
       "      <button class=\"colab-df-convert\" onclick=\"convertToInteractive('df-13422847-91b7-4903-ba3c-99761970efd3')\"\n",
       "              title=\"Convert this dataframe to an interactive table.\"\n",
       "              style=\"display:none;\">\n",
       "        \n",
       "  <svg xmlns=\"http://www.w3.org/2000/svg\" height=\"24px\"viewBox=\"0 0 24 24\"\n",
       "       width=\"24px\">\n",
       "    <path d=\"M0 0h24v24H0V0z\" fill=\"none\"/>\n",
       "    <path d=\"M18.56 5.44l.94 2.06.94-2.06 2.06-.94-2.06-.94-.94-2.06-.94 2.06-2.06.94zm-11 1L8.5 8.5l.94-2.06 2.06-.94-2.06-.94L8.5 2.5l-.94 2.06-2.06.94zm10 10l.94 2.06.94-2.06 2.06-.94-2.06-.94-.94-2.06-.94 2.06-2.06.94z\"/><path d=\"M17.41 7.96l-1.37-1.37c-.4-.4-.92-.59-1.43-.59-.52 0-1.04.2-1.43.59L10.3 9.45l-7.72 7.72c-.78.78-.78 2.05 0 2.83L4 21.41c.39.39.9.59 1.41.59.51 0 1.02-.2 1.41-.59l7.78-7.78 2.81-2.81c.8-.78.8-2.07 0-2.86zM5.41 20L4 18.59l7.72-7.72 1.47 1.35L5.41 20z\"/>\n",
       "  </svg>\n",
       "      </button>\n",
       "      \n",
       "  <style>\n",
       "    .colab-df-container {\n",
       "      display:flex;\n",
       "      flex-wrap:wrap;\n",
       "      gap: 12px;\n",
       "    }\n",
       "\n",
       "    .colab-df-convert {\n",
       "      background-color: #E8F0FE;\n",
       "      border: none;\n",
       "      border-radius: 50%;\n",
       "      cursor: pointer;\n",
       "      display: none;\n",
       "      fill: #1967D2;\n",
       "      height: 32px;\n",
       "      padding: 0 0 0 0;\n",
       "      width: 32px;\n",
       "    }\n",
       "\n",
       "    .colab-df-convert:hover {\n",
       "      background-color: #E2EBFA;\n",
       "      box-shadow: 0px 1px 2px rgba(60, 64, 67, 0.3), 0px 1px 3px 1px rgba(60, 64, 67, 0.15);\n",
       "      fill: #174EA6;\n",
       "    }\n",
       "\n",
       "    [theme=dark] .colab-df-convert {\n",
       "      background-color: #3B4455;\n",
       "      fill: #D2E3FC;\n",
       "    }\n",
       "\n",
       "    [theme=dark] .colab-df-convert:hover {\n",
       "      background-color: #434B5C;\n",
       "      box-shadow: 0px 1px 3px 1px rgba(0, 0, 0, 0.15);\n",
       "      filter: drop-shadow(0px 1px 2px rgba(0, 0, 0, 0.3));\n",
       "      fill: #FFFFFF;\n",
       "    }\n",
       "  </style>\n",
       "\n",
       "      <script>\n",
       "        const buttonEl =\n",
       "          document.querySelector('#df-13422847-91b7-4903-ba3c-99761970efd3 button.colab-df-convert');\n",
       "        buttonEl.style.display =\n",
       "          google.colab.kernel.accessAllowed ? 'block' : 'none';\n",
       "\n",
       "        async function convertToInteractive(key) {\n",
       "          const element = document.querySelector('#df-13422847-91b7-4903-ba3c-99761970efd3');\n",
       "          const dataTable =\n",
       "            await google.colab.kernel.invokeFunction('convertToInteractive',\n",
       "                                                     [key], {});\n",
       "          if (!dataTable) return;\n",
       "\n",
       "          const docLinkHtml = 'Like what you see? Visit the ' +\n",
       "            '<a target=\"_blank\" href=https://colab.research.google.com/notebooks/data_table.ipynb>data table notebook</a>'\n",
       "            + ' to learn more about interactive tables.';\n",
       "          element.innerHTML = '';\n",
       "          dataTable['output_type'] = 'display_data';\n",
       "          await google.colab.output.renderOutput(dataTable, element);\n",
       "          const docLink = document.createElement('div');\n",
       "          docLink.innerHTML = docLinkHtml;\n",
       "          element.appendChild(docLink);\n",
       "        }\n",
       "      </script>\n",
       "    </div>\n",
       "  </div>\n",
       "  "
      ],
      "text/plain": [
       "       ATP  Round  Day  Month  Year  Rank  Win\n",
       "0        1      1    3      1  2000    63    1\n",
       "1        1      1    3      1  2000    77    0\n",
       "2        3      1    3      1  2000     6    1\n",
       "3        3      1    3      1  2000    59    0\n",
       "4        3      1    3      1  2000    73    1\n",
       "...    ...    ...  ...    ...   ...   ...  ...\n",
       "86025   18      6    3      3  2018    69    0\n",
       "86026   16      7    4      3  2018     9    1\n",
       "86027   16      7    4      3  2018     8    0\n",
       "86028   18      7    4      3  2018    20    1\n",
       "86029   18      7    4      3  2018    73    0\n",
       "\n",
       "[86030 rows x 7 columns]"
      ]
     },
     "execution_count": 30,
     "metadata": {},
     "output_type": "execute_result"
    }
   ],
   "source": [
    "df"
   ]
  },
  {
   "cell_type": "markdown",
   "metadata": {
    "id": "1s0m834KR8JN"
   },
   "source": [
    "---\n",
    "## Modèles de Machine Learning\n",
    "----"
   ]
  },
  {
   "cell_type": "markdown",
   "metadata": {
    "id": "Xa8abUtrR3Kt"
   },
   "source": [
    "On sépare df en deux dataFrames, \"features\" et \"target\", contenant respectivement les variables explicatives et la variable Win à prédire.<br>N.B. : Compte tenu de nos données, il ne sera pas nécessaire de faire une normalisation avec l'utilisation d'un scaler."
   ]
  },
  {
   "cell_type": "code",
   "execution_count": 31,
   "metadata": {
    "executionInfo": {
     "elapsed": 12,
     "status": "ok",
     "timestamp": 1657186773788,
     "user": {
      "displayName": "Mayeul de Rougé",
      "userId": "12836380890528998156"
     },
     "user_tz": -120
    },
    "id": "q2dR5vuhJy6y"
   },
   "outputs": [],
   "source": [
    "#variable cible :\n",
    "target = df['Win']\n",
    "features = df.drop('Win', axis=1)"
   ]
  },
  {
   "cell_type": "markdown",
   "metadata": {
    "id": "uiPsii3aQsVR"
   },
   "source": [
    "On crée à partir de features et target, un ensemble d'apprentissage contenant 80% des données (X_train, y_train) et un ensemble de test contenant les 20% de données restantes (X_test, y_test)."
   ]
  },
  {
   "cell_type": "markdown",
   "metadata": {
    "id": "ixhkxsp9Kt5V"
   },
   "source": [
    "Aussi, nous utilisons dans notre méthode train_test_split le paramètre shuffle à False. En effet, ce paramètre est indispensable pour la cohérence de notre modèle. Notre dataset ne peut être mélangé n'importe comment dans la mesure où chaque \"paire\" de ligne représente un match."
   ]
  },
  {
   "cell_type": "code",
   "execution_count": 32,
   "metadata": {
    "executionInfo": {
     "elapsed": 610,
     "status": "ok",
     "timestamp": 1657186774386,
     "user": {
      "displayName": "Mayeul de Rougé",
      "userId": "12836380890528998156"
     },
     "user_tz": -120
    },
    "id": "_JZFrwqYWUcn"
   },
   "outputs": [],
   "source": [
    "from sklearn.model_selection import train_test_split\n",
    "from sklearn.neighbors import KNeighborsClassifier\n",
    "\n",
    "X_train, X_test, y_train, y_test = train_test_split(features, target, test_size=0.2, random_state=789, shuffle=False)\n"
   ]
  },
  {
   "cell_type": "markdown",
   "metadata": {
    "id": "65Iy5JGVOK1z"
   },
   "source": [
    "### Modèle des K plus proches voisins"
   ]
  },
  {
   "cell_type": "code",
   "execution_count": 33,
   "metadata": {
    "executionInfo": {
     "elapsed": 131121,
     "status": "ok",
     "timestamp": 1657186905505,
     "user": {
      "displayName": "Mayeul de Rougé",
      "userId": "12836380890528998156"
     },
     "user_tz": -120
    },
    "id": "UXvfNk66pB6D"
   },
   "outputs": [],
   "source": [
    "from sklearn import neighbors\n",
    "\n",
    "# Insérez votre code ici\n",
    "score_minko = []\n",
    "score_man = []\n",
    "score_cheb = []\n",
    "\n",
    "for k in range(1, 41):\n",
    "    knn = neighbors.KNeighborsClassifier(n_neighbors=k, metric='minkowski')\n",
    "    knn.fit(X_train, y_train)\n",
    "    score_minko.append(knn.score(X_test, y_test))\n",
    "\n",
    "for k in range(1, 41):\n",
    "    knn = neighbors.KNeighborsClassifier(n_neighbors=k, metric='manhattan')\n",
    "    knn.fit(X_train, y_train)\n",
    "    score_man.append(knn.score(X_test, y_test))\n",
    "    \n",
    "for k in range(1, 41):\n",
    "    knn = neighbors.KNeighborsClassifier(n_neighbors=k, metric='chebyshev')\n",
    "    knn.fit(X_train, y_train)\n",
    "    score_cheb.append(knn.score(X_test, y_test))"
   ]
  },
  {
   "cell_type": "code",
   "execution_count": 34,
   "metadata": {
    "colab": {
     "base_uri": "https://localhost:8080/",
     "height": 301
    },
    "executionInfo": {
     "elapsed": 526,
     "status": "ok",
     "timestamp": 1657186906020,
     "user": {
      "displayName": "Mayeul de Rougé",
      "userId": "12836380890528998156"
     },
     "user_tz": -120
    },
    "id": "E2iKIt33pB_m",
    "outputId": "f0091b86-07e4-4a33-9829-81e2df022097"
   },
   "outputs": [
    {
     "data": {
      "image/png": "[encoded data removed]",
      "text/plain": [
       "<Figure size 432x288 with 1 Axes>"
      ]
     },
     "metadata": {
      "needs_background": "light"
     },
     "output_type": "display_data"
    }
   ],
   "source": [
    "import matplotlib.pyplot as plt\n",
    "%matplotlib inline\n",
    "\n",
    "plt.plot(range(1, 41), score_minko, color='blue', linestyle='dashed', lw=2, label='Minkowski')\n",
    "plt.plot(range(1, 41), score_man, color='orange', linestyle='dashed', lw=2, label='Manhattan')\n",
    "plt.plot(range(1, 41), score_cheb, color='red', linestyle='dashed', lw=2, label='Chebyshev')\n",
    "plt.title('Score - valeur de K')  \n",
    "plt.xlabel('Valeur de K')  \n",
    "plt.ylabel('Accuracy') \n",
    "plt.legend();"
   ]
  },
  {
   "cell_type": "markdown",
   "metadata": {
    "id": "LtirGhyNtq20"
   },
   "source": [
    "La précision du modèle converge vers une précision de 0.61 valeur de k proche de k=28.\n",
    "\n",
    "```\n",
    "# Ce texte est au format code\n",
    "```\n",
    "\n"
   ]
  },
  {
   "cell_type": "code",
   "execution_count": 35,
   "metadata": {
    "colab": {
     "base_uri": "https://localhost:8080/"
    },
    "executionInfo": {
     "elapsed": 723,
     "status": "ok",
     "timestamp": 1657186906739,
     "user": {
      "displayName": "Mayeul de Rougé",
      "userId": "12836380890528998156"
     },
     "user_tz": -120
    },
    "id": "i52oJltDMBR5",
    "outputId": "4f04bef7-1111-4d43-a4b8-1ec01fd85add"
   },
   "outputs": [
    {
     "data": {
      "text/plain": [
       "0.6082761827269557"
      ]
     },
     "execution_count": 35,
     "metadata": {},
     "output_type": "execute_result"
    }
   ],
   "source": [
    "#parametres que l'on peut choisir : manhattan et k=28. Le modele converge vers une accuracy de 0.60\n",
    "knn = neighbors.KNeighborsClassifier(n_neighbors=28, metric='manhattan')\n",
    "knn.fit(X_train, y_train)\n",
    "knn.score(X_test, y_test)"
   ]
  },
  {
   "cell_type": "markdown",
   "metadata": {
    "id": "aGDQgCWqUZht"
   },
   "source": [
    "### Algorithme de Régression logistique"
   ]
  },
  {
   "cell_type": "markdown",
   "metadata": {
    "id": "7LQi-YjqLhcW"
   },
   "source": [
    "Testons un algorithme de régression logistique :"
   ]
  },
  {
   "cell_type": "code",
   "execution_count": 103,
   "metadata": {
    "colab": {
     "base_uri": "https://localhost:8080/"
    },
    "executionInfo": {
     "elapsed": 2500,
     "status": "ok",
     "timestamp": 1657193045492,
     "user": {
      "displayName": "Mayeul de Rougé",
      "userId": "12836380890528998156"
     },
     "user_tz": -120
    },
    "id": "ramCSEDhMB0s",
    "outputId": "adab02a1-d377-4331-95c8-c49b47fd677d"
   },
   "outputs": [
    {
     "data": {
      "text/plain": [
       "LogisticRegression()"
      ]
     },
     "execution_count": 103,
     "metadata": {},
     "output_type": "execute_result"
    }
   ],
   "source": [
    "from sklearn import linear_model\n",
    "clf_reg = linear_model.LogisticRegression()\n",
    "clf_reg.fit(X_train, y_train)"
   ]
  },
  {
   "cell_type": "code",
   "execution_count": 104,
   "metadata": {
    "colab": {
     "base_uri": "https://localhost:8080/"
    },
    "executionInfo": {
     "elapsed": 185,
     "status": "ok",
     "timestamp": 1657193046414,
     "user": {
      "displayName": "Mayeul de Rougé",
      "userId": "12836380890528998156"
     },
     "user_tz": -120
    },
    "id": "nC2NmsaaMCPn",
    "outputId": "3a5ef21e-3d04-4933-ff7e-a25dd2cabb7c"
   },
   "outputs": [
    {
     "data": {
      "text/plain": [
       "0.5921771475066837"
      ]
     },
     "execution_count": 104,
     "metadata": {},
     "output_type": "execute_result"
    }
   ],
   "source": [
    "clf_reg.score(X_test,y_test)"
   ]
  },
  {
   "cell_type": "code",
   "execution_count": 105,
   "metadata": {
    "colab": {
     "base_uri": "https://localhost:8080/"
    },
    "executionInfo": {
     "elapsed": 178,
     "status": "ok",
     "timestamp": 1657193051597,
     "user": {
      "displayName": "Mayeul de Rougé",
      "userId": "12836380890528998156"
     },
     "user_tz": -120
    },
    "id": "1CNrlJLFNhtE",
    "outputId": "100717d5-45aa-4d4f-e451-7c5d8d332b47"
   },
   "outputs": [
    {
     "name": "stdout",
     "output_type": "stream",
     "text": [
      "[[3681 4922]\n",
      " [2095 6508]]\n"
     ]
    }
   ],
   "source": [
    "y_pred  = clf_reg.predict(X_test)\n",
    "\n",
    "from sklearn.metrics import confusion_matrix \n",
    "cm = confusion_matrix(y_test,y_pred)\n",
    "print(cm)"
   ]
  },
  {
   "cell_type": "markdown",
   "metadata": {
    "id": "t7X1W1qOTWLA"
   },
   "source": [
    "### Algorithme de Random forest"
   ]
  },
  {
   "cell_type": "code",
   "execution_count": 39,
   "metadata": {
    "colab": {
     "base_uri": "https://localhost:8080/"
    },
    "executionInfo": {
     "elapsed": 6445,
     "status": "ok",
     "timestamp": 1657186914140,
     "user": {
      "displayName": "Mayeul de Rougé",
      "userId": "12836380890528998156"
     },
     "user_tz": -120
    },
    "id": "LbbY7jvLTS6N",
    "outputId": "6acd3fdc-5f43-4fa3-c5bf-04ae69b4d4bf"
   },
   "outputs": [
    {
     "data": {
      "text/plain": [
       "RandomForestClassifier(n_jobs=-1, random_state=321)"
      ]
     },
     "execution_count": 39,
     "metadata": {},
     "output_type": "execute_result"
    }
   ],
   "source": [
    "#Random forest\n",
    "from sklearn import ensemble\n",
    "\n",
    "clf = ensemble.RandomForestClassifier(n_jobs=-1, random_state=321)\n",
    "\n",
    "clf.fit(X_train, y_train)"
   ]
  },
  {
   "cell_type": "code",
   "execution_count": 40,
   "metadata": {
    "colab": {
     "base_uri": "https://localhost:8080/",
     "height": 143
    },
    "executionInfo": {
     "elapsed": 318,
     "status": "ok",
     "timestamp": 1657186914447,
     "user": {
      "displayName": "Mayeul de Rougé",
      "userId": "12836380890528998156"
     },
     "user_tz": -120
    },
    "id": "-yd3QVw7TlP1",
    "outputId": "ef15a47a-be10-424b-ac39-176f92f05891"
   },
   "outputs": [
    {
     "data": {
      "text/html": [
       "\n",
       "  <div id=\"df-207fea64-276e-49cb-a55d-1b9fe44d467f\">\n",
       "    <div class=\"colab-df-container\">\n",
       "      <div>\n",
       "<style scoped>\n",
       "    .dataframe tbody tr th:only-of-type {\n",
       "        vertical-align: middle;\n",
       "    }\n",
       "\n",
       "    .dataframe tbody tr th {\n",
       "        vertical-align: top;\n",
       "    }\n",
       "\n",
       "    .dataframe thead th {\n",
       "        text-align: right;\n",
       "    }\n",
       "</style>\n",
       "<table border=\"1\" class=\"dataframe\">\n",
       "  <thead>\n",
       "    <tr style=\"text-align: right;\">\n",
       "      <th>Classe prédite</th>\n",
       "      <th>0</th>\n",
       "      <th>1</th>\n",
       "    </tr>\n",
       "    <tr>\n",
       "      <th>Classe réelle</th>\n",
       "      <th></th>\n",
       "      <th></th>\n",
       "    </tr>\n",
       "  </thead>\n",
       "  <tbody>\n",
       "    <tr>\n",
       "      <th>0</th>\n",
       "      <td>5591</td>\n",
       "      <td>3012</td>\n",
       "    </tr>\n",
       "    <tr>\n",
       "      <th>1</th>\n",
       "      <td>4020</td>\n",
       "      <td>4583</td>\n",
       "    </tr>\n",
       "  </tbody>\n",
       "</table>\n",
       "</div>\n",
       "      <button class=\"colab-df-convert\" onclick=\"convertToInteractive('df-207fea64-276e-49cb-a55d-1b9fe44d467f')\"\n",
       "              title=\"Convert this dataframe to an interactive table.\"\n",
       "              style=\"display:none;\">\n",
       "        \n",
       "  <svg xmlns=\"http://www.w3.org/2000/svg\" height=\"24px\"viewBox=\"0 0 24 24\"\n",
       "       width=\"24px\">\n",
       "    <path d=\"M0 0h24v24H0V0z\" fill=\"none\"/>\n",
       "    <path d=\"M18.56 5.44l.94 2.06.94-2.06 2.06-.94-2.06-.94-.94-2.06-.94 2.06-2.06.94zm-11 1L8.5 8.5l.94-2.06 2.06-.94-2.06-.94L8.5 2.5l-.94 2.06-2.06.94zm10 10l.94 2.06.94-2.06 2.06-.94-2.06-.94-.94-2.06-.94 2.06-2.06.94z\"/><path d=\"M17.41 7.96l-1.37-1.37c-.4-.4-.92-.59-1.43-.59-.52 0-1.04.2-1.43.59L10.3 9.45l-7.72 7.72c-.78.78-.78 2.05 0 2.83L4 21.41c.39.39.9.59 1.41.59.51 0 1.02-.2 1.41-.59l7.78-7.78 2.81-2.81c.8-.78.8-2.07 0-2.86zM5.41 20L4 18.59l7.72-7.72 1.47 1.35L5.41 20z\"/>\n",
       "  </svg>\n",
       "      </button>\n",
       "      \n",
       "  <style>\n",
       "    .colab-df-container {\n",
       "      display:flex;\n",
       "      flex-wrap:wrap;\n",
       "      gap: 12px;\n",
       "    }\n",
       "\n",
       "    .colab-df-convert {\n",
       "      background-color: #E8F0FE;\n",
       "      border: none;\n",
       "      border-radius: 50%;\n",
       "      cursor: pointer;\n",
       "      display: none;\n",
       "      fill: #1967D2;\n",
       "      height: 32px;\n",
       "      padding: 0 0 0 0;\n",
       "      width: 32px;\n",
       "    }\n",
       "\n",
       "    .colab-df-convert:hover {\n",
       "      background-color: #E2EBFA;\n",
       "      box-shadow: 0px 1px 2px rgba(60, 64, 67, 0.3), 0px 1px 3px 1px rgba(60, 64, 67, 0.15);\n",
       "      fill: #174EA6;\n",
       "    }\n",
       "\n",
       "    [theme=dark] .colab-df-convert {\n",
       "      background-color: #3B4455;\n",
       "      fill: #D2E3FC;\n",
       "    }\n",
       "\n",
       "    [theme=dark] .colab-df-convert:hover {\n",
       "      background-color: #434B5C;\n",
       "      box-shadow: 0px 1px 3px 1px rgba(0, 0, 0, 0.15);\n",
       "      filter: drop-shadow(0px 1px 2px rgba(0, 0, 0, 0.3));\n",
       "      fill: #FFFFFF;\n",
       "    }\n",
       "  </style>\n",
       "\n",
       "      <script>\n",
       "        const buttonEl =\n",
       "          document.querySelector('#df-207fea64-276e-49cb-a55d-1b9fe44d467f button.colab-df-convert');\n",
       "        buttonEl.style.display =\n",
       "          google.colab.kernel.accessAllowed ? 'block' : 'none';\n",
       "\n",
       "        async function convertToInteractive(key) {\n",
       "          const element = document.querySelector('#df-207fea64-276e-49cb-a55d-1b9fe44d467f');\n",
       "          const dataTable =\n",
       "            await google.colab.kernel.invokeFunction('convertToInteractive',\n",
       "                                                     [key], {});\n",
       "          if (!dataTable) return;\n",
       "\n",
       "          const docLinkHtml = 'Like what you see? Visit the ' +\n",
       "            '<a target=\"_blank\" href=https://colab.research.google.com/notebooks/data_table.ipynb>data table notebook</a>'\n",
       "            + ' to learn more about interactive tables.';\n",
       "          element.innerHTML = '';\n",
       "          dataTable['output_type'] = 'display_data';\n",
       "          await google.colab.output.renderOutput(dataTable, element);\n",
       "          const docLink = document.createElement('div');\n",
       "          docLink.innerHTML = docLinkHtml;\n",
       "          element.appendChild(docLink);\n",
       "        }\n",
       "      </script>\n",
       "    </div>\n",
       "  </div>\n",
       "  "
      ],
      "text/plain": [
       "Classe prédite     0     1\n",
       "Classe réelle             \n",
       "0               5591  3012\n",
       "1               4020  4583"
      ]
     },
     "execution_count": 40,
     "metadata": {},
     "output_type": "execute_result"
    }
   ],
   "source": [
    "y_pred = clf.predict(X_test)\n",
    "\n",
    "pd.crosstab(y_test, y_pred, rownames=['Classe réelle'], colnames = ['Classe prédite']) "
   ]
  },
  {
   "cell_type": "code",
   "execution_count": 41,
   "metadata": {
    "colab": {
     "base_uri": "https://localhost:8080/"
    },
    "executionInfo": {
     "elapsed": 230,
     "status": "ok",
     "timestamp": 1657186914674,
     "user": {
      "displayName": "Mayeul de Rougé",
      "userId": "12836380890528998156"
     },
     "user_tz": -120
    },
    "id": "t3ziKi38Tqdx",
    "outputId": "57870de1-94ca-405b-c8b7-62431d259cd8"
   },
   "outputs": [
    {
     "data": {
      "text/plain": [
       "0.5913053585958387"
      ]
     },
     "execution_count": 41,
     "metadata": {},
     "output_type": "execute_result"
    }
   ],
   "source": [
    "clf.score(X_test, y_test)"
   ]
  },
  {
   "cell_type": "markdown",
   "metadata": {
    "id": "-i5kNpokRBHi"
   },
   "source": [
    "### XGBoost"
   ]
  },
  {
   "cell_type": "code",
   "execution_count": 42,
   "metadata": {
    "executionInfo": {
     "elapsed": 200,
     "status": "ok",
     "timestamp": 1657186914872,
     "user": {
      "displayName": "Mayeul de Rougé",
      "userId": "12836380890528998156"
     },
     "user_tz": -120
    },
    "id": "FKPJuOUMNipH"
   },
   "outputs": [],
   "source": [
    "import xgboost as xgb\n",
    "# on cree un ensemble de validation , de test, et dentrainement\n",
    "\n",
    "X, X_valid, y, y_valid = train_test_split(features, target, test_size=0.2, shuffle=False)\n",
    "X_train, X_test, y_train, y_test = train_test_split(features, target, test_size=0.2, shuffle=False)"
   ]
  },
  {
   "cell_type": "markdown",
   "metadata": {
    "id": "elTrflZvOksQ"
   },
   "source": [
    "Utilisons les DMatrix pour la suite de l'implémentation de notre algorithme XGBoost. DMatrix est une structure interne utilisée par XGBoost, qui est optimisée à la fois pour la performance de mémoire ainsi que pour la vitesse d'entrainement."
   ]
  },
  {
   "cell_type": "code",
   "execution_count": 69,
   "metadata": {
    "executionInfo": {
     "elapsed": 206,
     "status": "ok",
     "timestamp": 1657190119682,
     "user": {
      "displayName": "Mayeul de Rougé",
      "userId": "12836380890528998156"
     },
     "user_tz": -120
    },
    "id": "PgFQGGlMRJhj"
   },
   "outputs": [],
   "source": [
    "train = xgb.DMatrix(data=X_train, label=y_train)\n",
    "test = xgb.DMatrix(data=X_test, label=y_test)\n",
    "valid = xgb.DMatrix(data=X_valid, label=y_valid)"
   ]
  },
  {
   "cell_type": "code",
   "execution_count": 44,
   "metadata": {
    "colab": {
     "base_uri": "https://localhost:8080/"
    },
    "executionInfo": {
     "elapsed": 1411,
     "status": "ok",
     "timestamp": 1657186916279,
     "user": {
      "displayName": "Mayeul de Rougé",
      "userId": "12836380890528998156"
     },
     "user_tz": -120
    },
    "id": "nhYfuLy6RJsv",
    "outputId": "013cee79-9421-45d4-f1ff-5bd586ec08be"
   },
   "outputs": [
    {
     "name": "stdout",
     "output_type": "stream",
     "text": [
      "[0]\ttrain-error:0.387452\teval-error:0.384982\n",
      "Multiple eval metrics have been passed: 'eval-error' will be used for early stopping.\n",
      "\n",
      "Will train until eval-error hasn't improved in 10 rounds.\n",
      "[1]\ttrain-error:0.3869\teval-error:0.384982\n",
      "[2]\ttrain-error:0.386784\teval-error:0.384866\n",
      "[3]\ttrain-error:0.386784\teval-error:0.383413\n",
      "[4]\ttrain-error:0.386653\teval-error:0.383878\n",
      "[5]\ttrain-error:0.386653\teval-error:0.383878\n",
      "[6]\ttrain-error:0.386696\teval-error:0.383413\n",
      "[7]\ttrain-error:0.38613\teval-error:0.383413\n",
      "[8]\ttrain-error:0.385912\teval-error:0.383297\n",
      "[9]\ttrain-error:0.386479\teval-error:0.383297\n",
      "[10]\ttrain-error:0.386217\teval-error:0.38382\n",
      "[11]\ttrain-error:0.385505\teval-error:0.38382\n",
      "[12]\ttrain-error:0.385461\teval-error:0.384633\n",
      "[13]\ttrain-error:0.385752\teval-error:0.384691\n",
      "[14]\ttrain-error:0.385214\teval-error:0.383936\n",
      "[15]\ttrain-error:0.38565\teval-error:0.38411\n",
      "[16]\ttrain-error:0.385767\teval-error:0.38411\n",
      "[17]\ttrain-error:0.385767\teval-error:0.38411\n",
      "[18]\ttrain-error:0.385578\teval-error:0.384982\n",
      "Stopping. Best iteration:\n",
      "[8]\ttrain-error:0.385912\teval-error:0.383297\n",
      "\n"
     ]
    }
   ],
   "source": [
    "# Commençons avec des paramètres standard par défaut. Il s'agit d'un problème de classification : \"objective\" devrait être donc égal à \"binary:logistic\"\n",
    "params = {\"booster\":\"gbtree\",\"learning_rate\":0.01,\"objective\":\"binary:logistic\" }\n",
    "xgb1 = xgb.train(params=params,dtrain=train,num_boost_round = 50, early_stopping_rounds= 10, evals= [(train, 'train'), (test, 'eval')])\n"
   ]
  },
  {
   "cell_type": "code",
   "execution_count": 45,
   "metadata": {
    "colab": {
     "base_uri": "https://localhost:8080/"
    },
    "executionInfo": {
     "elapsed": 12,
     "status": "ok",
     "timestamp": 1657186916280,
     "user": {
      "displayName": "Mayeul de Rougé",
      "userId": "12836380890528998156"
     },
     "user_tz": -120
    },
    "id": "WAFBraqxRJ2J",
    "outputId": "e442b289-e9f8-435e-9aca-8af7a005d993"
   },
   "outputs": [
    {
     "name": "stdout",
     "output_type": "stream",
     "text": [
      "best score (taux de bonne prédiction):  0.616703\n",
      "best iteration :  8\n",
      "best  n tree limit :  9\n"
     ]
    }
   ],
   "source": [
    "print(\"best score (taux de bonne prédiction): \",(1 - xgb1.best_score))\n",
    "print(\"best iteration : \",xgb1.best_iteration)\n",
    "print(\"best  n tree limit : \",xgb1.best_ntree_limit)"
   ]
  },
  {
   "cell_type": "markdown",
   "metadata": {
    "id": "fljSriw7Oses"
   },
   "source": [
    "Affichons l'importance des caractéristiques du modèles :"
   ]
  },
  {
   "cell_type": "code",
   "execution_count": 46,
   "metadata": {
    "colab": {
     "base_uri": "https://localhost:8080/",
     "height": 301
    },
    "executionInfo": {
     "elapsed": 549,
     "status": "ok",
     "timestamp": 1657186916824,
     "user": {
      "displayName": "Mayeul de Rougé",
      "userId": "12836380890528998156"
     },
     "user_tz": -120
    },
    "id": "ffc1fqaBRci9",
    "outputId": "91dcaefa-9c45-41c9-9109-756ff48007f4"
   },
   "outputs": [
    {
     "data": {
      "image/png": "[encoded data removed]",
      "text/plain": [
       "<Figure size 432x288 with 1 Axes>"
      ]
     },
     "metadata": {
      "needs_background": "light"
     },
     "output_type": "display_data"
    }
   ],
   "source": [
    "xgb.plot_importance(xgb1);"
   ]
  },
  {
   "cell_type": "code",
   "execution_count": 47,
   "metadata": {
    "colab": {
     "base_uri": "https://localhost:8080/"
    },
    "executionInfo": {
     "elapsed": 13,
     "status": "ok",
     "timestamp": 1657186916826,
     "user": {
      "displayName": "Mayeul de Rougé",
      "userId": "12836380890528998156"
     },
     "user_tz": -120
    },
    "id": "GVC5y2XAXbC6",
    "outputId": "ff8b44f2-5dd7-4e38-b8fe-6f9eb99b304f"
   },
   "outputs": [
    {
     "name": "stdout",
     "output_type": "stream",
     "text": [
      "[0.48843804 0.48843804 0.546489   ... 0.50879    0.49557126 0.47787014]\n"
     ]
    }
   ],
   "source": [
    "predictions = xgb1.predict(test)\n",
    "print(predictions) "
   ]
  },
  {
   "cell_type": "code",
   "execution_count": 48,
   "metadata": {
    "executionInfo": {
     "elapsed": 10,
     "status": "ok",
     "timestamp": 1657186916826,
     "user": {
      "displayName": "Mayeul de Rougé",
      "userId": "12836380890528998156"
     },
     "user_tz": -120
    },
    "id": "osbkfiObRcmR"
   },
   "outputs": [],
   "source": [
    "# cela ne va pas. Le paramètre \"objective\":\"binary:logistic\" doit être modifié pour que nos prédictions soient 1 ou 0."
   ]
  },
  {
   "cell_type": "markdown",
   "metadata": {
    "id": "75GE2PRVMO6G"
   },
   "source": [
    "Ces prédictions n'ont pas de sens pour notre problème de classification ... Le paramètre \"objective\":\"binary:logistic\" doit être modifié pour que nos prédictions soient 1 ou 0."
   ]
  },
  {
   "cell_type": "code",
   "execution_count": 94,
   "metadata": {
    "colab": {
     "base_uri": "https://localhost:8080/"
    },
    "executionInfo": {
     "elapsed": 39709,
     "status": "ok",
     "timestamp": 1657191652597,
     "user": {
      "displayName": "Mayeul de Rougé",
      "userId": "12836380890528998156"
     },
     "user_tz": -120
    },
    "id": "bMNA0wvpRcqr",
    "outputId": "b2199e5e-3189-49aa-e1fe-b25fdb9fa74a"
   },
   "outputs": [
    {
     "name": "stdout",
     "output_type": "stream",
     "text": [
      "[0]\ttrain-merror:0.39123\teval-merror:0.386784\n",
      "[1]\ttrain-merror:0.39123\teval-merror:0.386784\n",
      "[2]\ttrain-merror:0.39123\teval-merror:0.386784\n",
      "[3]\ttrain-merror:0.39123\teval-merror:0.386784\n",
      "[4]\ttrain-merror:0.39123\teval-merror:0.386784\n",
      "[5]\ttrain-merror:0.39123\teval-merror:0.386784\n",
      "[6]\ttrain-merror:0.39123\teval-merror:0.386784\n",
      "[7]\ttrain-merror:0.39123\teval-merror:0.386784\n",
      "[8]\ttrain-merror:0.39123\teval-merror:0.386784\n",
      "[9]\ttrain-merror:0.39123\teval-merror:0.386784\n",
      "[10]\ttrain-merror:0.39123\teval-merror:0.386784\n",
      "[11]\ttrain-merror:0.39123\teval-merror:0.386784\n",
      "[12]\ttrain-merror:0.39123\teval-merror:0.386784\n",
      "[13]\ttrain-merror:0.39123\teval-merror:0.386784\n",
      "[14]\ttrain-merror:0.39123\teval-merror:0.386784\n",
      "[15]\ttrain-merror:0.39123\teval-merror:0.386784\n",
      "[16]\ttrain-merror:0.39123\teval-merror:0.386784\n",
      "[17]\ttrain-merror:0.39123\teval-merror:0.386784\n",
      "[18]\ttrain-merror:0.39123\teval-merror:0.386784\n",
      "[19]\ttrain-merror:0.39123\teval-merror:0.386784\n",
      "[20]\ttrain-merror:0.39123\teval-merror:0.386784\n",
      "[21]\ttrain-merror:0.39123\teval-merror:0.386784\n",
      "[22]\ttrain-merror:0.39123\teval-merror:0.386784\n",
      "[23]\ttrain-merror:0.39123\teval-merror:0.386784\n",
      "[24]\ttrain-merror:0.39123\teval-merror:0.386784\n",
      "[25]\ttrain-merror:0.39123\teval-merror:0.386784\n",
      "[26]\ttrain-merror:0.39123\teval-merror:0.386784\n",
      "[27]\ttrain-merror:0.39123\teval-merror:0.386784\n",
      "[28]\ttrain-merror:0.39123\teval-merror:0.386784\n",
      "[29]\ttrain-merror:0.39123\teval-merror:0.386784\n",
      "[30]\ttrain-merror:0.39123\teval-merror:0.386784\n",
      "[31]\ttrain-merror:0.39123\teval-merror:0.386784\n",
      "[32]\ttrain-merror:0.39123\teval-merror:0.386784\n",
      "[33]\ttrain-merror:0.39123\teval-merror:0.386784\n",
      "[34]\ttrain-merror:0.39123\teval-merror:0.386784\n",
      "[35]\ttrain-merror:0.39123\teval-merror:0.386784\n",
      "[36]\ttrain-merror:0.39123\teval-merror:0.386784\n",
      "[37]\ttrain-merror:0.39123\teval-merror:0.386784\n",
      "[38]\ttrain-merror:0.39123\teval-merror:0.386784\n",
      "[39]\ttrain-merror:0.39123\teval-merror:0.386784\n",
      "[40]\ttrain-merror:0.39123\teval-merror:0.386784\n",
      "[41]\ttrain-merror:0.39123\teval-merror:0.386784\n",
      "[42]\ttrain-merror:0.39123\teval-merror:0.386784\n",
      "[43]\ttrain-merror:0.39123\teval-merror:0.386784\n",
      "[44]\ttrain-merror:0.39123\teval-merror:0.386784\n",
      "[45]\ttrain-merror:0.39123\teval-merror:0.386784\n",
      "[46]\ttrain-merror:0.39123\teval-merror:0.386784\n",
      "[47]\ttrain-merror:0.39123\teval-merror:0.386784\n",
      "[48]\ttrain-merror:0.39123\teval-merror:0.386784\n",
      "[49]\ttrain-merror:0.39123\teval-merror:0.386784\n",
      "[50]\ttrain-merror:0.39123\teval-merror:0.386784\n",
      "[51]\ttrain-merror:0.39123\teval-merror:0.386784\n",
      "[52]\ttrain-merror:0.39123\teval-merror:0.386784\n",
      "[53]\ttrain-merror:0.39123\teval-merror:0.386784\n",
      "[54]\ttrain-merror:0.39123\teval-merror:0.386784\n",
      "[55]\ttrain-merror:0.39123\teval-merror:0.386784\n",
      "[56]\ttrain-merror:0.39123\teval-merror:0.386784\n",
      "[57]\ttrain-merror:0.39123\teval-merror:0.386784\n",
      "[58]\ttrain-merror:0.39123\teval-merror:0.386784\n",
      "[59]\ttrain-merror:0.39123\teval-merror:0.386784\n",
      "[60]\ttrain-merror:0.39123\teval-merror:0.386784\n",
      "[61]\ttrain-merror:0.39123\teval-merror:0.386784\n",
      "[62]\ttrain-merror:0.39123\teval-merror:0.386784\n",
      "[63]\ttrain-merror:0.39123\teval-merror:0.386784\n",
      "[64]\ttrain-merror:0.39123\teval-merror:0.386784\n",
      "[65]\ttrain-merror:0.39123\teval-merror:0.386784\n",
      "[66]\ttrain-merror:0.39123\teval-merror:0.386784\n",
      "[67]\ttrain-merror:0.39123\teval-merror:0.386784\n",
      "[68]\ttrain-merror:0.39123\teval-merror:0.386784\n",
      "[69]\ttrain-merror:0.39123\teval-merror:0.386784\n",
      "[70]\ttrain-merror:0.39123\teval-merror:0.386784\n",
      "[71]\ttrain-merror:0.39123\teval-merror:0.386784\n",
      "[72]\ttrain-merror:0.39123\teval-merror:0.386784\n",
      "[73]\ttrain-merror:0.39123\teval-merror:0.386784\n",
      "[74]\ttrain-merror:0.39123\teval-merror:0.386784\n",
      "[75]\ttrain-merror:0.39123\teval-merror:0.386784\n",
      "[76]\ttrain-merror:0.39123\teval-merror:0.386784\n",
      "[77]\ttrain-merror:0.39123\teval-merror:0.386784\n",
      "[78]\ttrain-merror:0.39123\teval-merror:0.386784\n",
      "[79]\ttrain-merror:0.39123\teval-merror:0.386784\n",
      "[80]\ttrain-merror:0.39123\teval-merror:0.386784\n",
      "[81]\ttrain-merror:0.39123\teval-merror:0.386784\n",
      "[82]\ttrain-merror:0.39123\teval-merror:0.386784\n",
      "[83]\ttrain-merror:0.39123\teval-merror:0.386784\n",
      "[84]\ttrain-merror:0.39123\teval-merror:0.386784\n",
      "[85]\ttrain-merror:0.39123\teval-merror:0.386784\n",
      "[86]\ttrain-merror:0.39123\teval-merror:0.386784\n",
      "[87]\ttrain-merror:0.39123\teval-merror:0.386784\n",
      "[88]\ttrain-merror:0.39123\teval-merror:0.386784\n",
      "[89]\ttrain-merror:0.39123\teval-merror:0.386784\n",
      "[90]\ttrain-merror:0.39123\teval-merror:0.386784\n",
      "[91]\ttrain-merror:0.39123\teval-merror:0.386784\n",
      "[92]\ttrain-merror:0.39123\teval-merror:0.386784\n",
      "[93]\ttrain-merror:0.39123\teval-merror:0.386784\n",
      "[94]\ttrain-merror:0.39123\teval-merror:0.386784\n",
      "[95]\ttrain-merror:0.39123\teval-merror:0.386784\n",
      "[96]\ttrain-merror:0.39123\teval-merror:0.386784\n",
      "[97]\ttrain-merror:0.39123\teval-merror:0.386784\n",
      "[98]\ttrain-merror:0.39123\teval-merror:0.386784\n",
      "[99]\ttrain-merror:0.39123\teval-merror:0.386784\n",
      "[100]\ttrain-merror:0.39123\teval-merror:0.386784\n",
      "[101]\ttrain-merror:0.39123\teval-merror:0.386784\n",
      "[102]\ttrain-merror:0.39123\teval-merror:0.386784\n",
      "[103]\ttrain-merror:0.39123\teval-merror:0.386784\n",
      "[104]\ttrain-merror:0.391317\teval-merror:0.386784\n",
      "[105]\ttrain-merror:0.39123\teval-merror:0.386784\n",
      "[106]\ttrain-merror:0.391317\teval-merror:0.386784\n",
      "[107]\ttrain-merror:0.391317\teval-merror:0.386784\n",
      "[108]\ttrain-merror:0.391317\teval-merror:0.386784\n",
      "[109]\ttrain-merror:0.391317\teval-merror:0.386784\n",
      "[110]\ttrain-merror:0.391317\teval-merror:0.386784\n",
      "[111]\ttrain-merror:0.391317\teval-merror:0.386784\n",
      "[112]\ttrain-merror:0.391317\teval-merror:0.386784\n",
      "[113]\ttrain-merror:0.391317\teval-merror:0.386784\n",
      "[114]\ttrain-merror:0.391317\teval-merror:0.386784\n",
      "[115]\ttrain-merror:0.391317\teval-merror:0.386784\n",
      "[116]\ttrain-merror:0.391317\teval-merror:0.386784\n",
      "[117]\ttrain-merror:0.391317\teval-merror:0.386784\n",
      "[118]\ttrain-merror:0.391317\teval-merror:0.386784\n",
      "[119]\ttrain-merror:0.391317\teval-merror:0.386784\n",
      "[120]\ttrain-merror:0.391317\teval-merror:0.386784\n",
      "[121]\ttrain-merror:0.391317\teval-merror:0.386784\n",
      "[122]\ttrain-merror:0.391317\teval-merror:0.386784\n",
      "[123]\ttrain-merror:0.391317\teval-merror:0.386784\n",
      "[124]\ttrain-merror:0.391317\teval-merror:0.386784\n",
      "[125]\ttrain-merror:0.391317\teval-merror:0.386784\n",
      "[126]\ttrain-merror:0.391317\teval-merror:0.386784\n",
      "[127]\ttrain-merror:0.391317\teval-merror:0.386784\n",
      "[128]\ttrain-merror:0.391317\teval-merror:0.386784\n",
      "[129]\ttrain-merror:0.391317\teval-merror:0.386784\n",
      "[130]\ttrain-merror:0.391317\teval-merror:0.386784\n",
      "[131]\ttrain-merror:0.391317\teval-merror:0.386784\n",
      "[132]\ttrain-merror:0.391317\teval-merror:0.386784\n",
      "[133]\ttrain-merror:0.391317\teval-merror:0.386784\n",
      "[134]\ttrain-merror:0.391317\teval-merror:0.386784\n",
      "[135]\ttrain-merror:0.391317\teval-merror:0.386784\n",
      "[136]\ttrain-merror:0.391317\teval-merror:0.386784\n",
      "[137]\ttrain-merror:0.391317\teval-merror:0.386784\n",
      "[138]\ttrain-merror:0.391317\teval-merror:0.386784\n",
      "[139]\ttrain-merror:0.391317\teval-merror:0.386784\n",
      "[140]\ttrain-merror:0.391317\teval-merror:0.386784\n",
      "[141]\ttrain-merror:0.391317\teval-merror:0.386784\n",
      "[142]\ttrain-merror:0.391317\teval-merror:0.386784\n",
      "[143]\ttrain-merror:0.390954\teval-merror:0.386377\n",
      "[144]\ttrain-merror:0.390954\teval-merror:0.386377\n",
      "[145]\ttrain-merror:0.390954\teval-merror:0.386377\n",
      "[146]\ttrain-merror:0.390954\teval-merror:0.386377\n",
      "[147]\ttrain-merror:0.390954\teval-merror:0.386377\n",
      "[148]\ttrain-merror:0.390954\teval-merror:0.386377\n",
      "[149]\ttrain-merror:0.390954\teval-merror:0.386377\n",
      "[150]\ttrain-merror:0.390954\teval-merror:0.386377\n",
      "[151]\ttrain-merror:0.390954\teval-merror:0.386377\n",
      "[152]\ttrain-merror:0.390954\teval-merror:0.386377\n",
      "[153]\ttrain-merror:0.390954\teval-merror:0.386377\n",
      "[154]\ttrain-merror:0.390954\teval-merror:0.386377\n",
      "[155]\ttrain-merror:0.390954\teval-merror:0.386377\n",
      "[156]\ttrain-merror:0.390954\teval-merror:0.386377\n",
      "[157]\ttrain-merror:0.390954\teval-merror:0.386377\n",
      "[158]\ttrain-merror:0.390954\teval-merror:0.386377\n",
      "[159]\ttrain-merror:0.390954\teval-merror:0.386377\n",
      "[160]\ttrain-merror:0.390954\teval-merror:0.386377\n",
      "[161]\ttrain-merror:0.390954\teval-merror:0.386377\n",
      "[162]\ttrain-merror:0.390954\teval-merror:0.386377\n",
      "[163]\ttrain-merror:0.390954\teval-merror:0.386377\n",
      "[164]\ttrain-merror:0.390954\teval-merror:0.386377\n",
      "[165]\ttrain-merror:0.390954\teval-merror:0.386377\n",
      "[166]\ttrain-merror:0.390954\teval-merror:0.386377\n",
      "[167]\ttrain-merror:0.390954\teval-merror:0.386377\n",
      "[168]\ttrain-merror:0.390954\teval-merror:0.386377\n",
      "[169]\ttrain-merror:0.390954\teval-merror:0.386377\n",
      "[170]\ttrain-merror:0.390954\teval-merror:0.386377\n",
      "[171]\ttrain-merror:0.390954\teval-merror:0.386377\n",
      "[172]\ttrain-merror:0.390954\teval-merror:0.386377\n",
      "[173]\ttrain-merror:0.390954\teval-merror:0.386377\n",
      "[174]\ttrain-merror:0.390954\teval-merror:0.386377\n",
      "[175]\ttrain-merror:0.390954\teval-merror:0.386377\n",
      "[176]\ttrain-merror:0.390954\teval-merror:0.386377\n",
      "[177]\ttrain-merror:0.390954\teval-merror:0.386377\n",
      "[178]\ttrain-merror:0.390954\teval-merror:0.386377\n",
      "[179]\ttrain-merror:0.390954\teval-merror:0.386377\n",
      "[180]\ttrain-merror:0.390954\teval-merror:0.386377\n",
      "[181]\ttrain-merror:0.390954\teval-merror:0.386377\n",
      "[182]\ttrain-merror:0.390954\teval-merror:0.386377\n",
      "[183]\ttrain-merror:0.390954\teval-merror:0.386377\n",
      "[184]\ttrain-merror:0.390954\teval-merror:0.386377\n",
      "[185]\ttrain-merror:0.390954\teval-merror:0.386377\n",
      "[186]\ttrain-merror:0.390954\teval-merror:0.386377\n",
      "[187]\ttrain-merror:0.390954\teval-merror:0.386377\n",
      "[188]\ttrain-merror:0.390954\teval-merror:0.386377\n",
      "[189]\ttrain-merror:0.390954\teval-merror:0.386377\n",
      "[190]\ttrain-merror:0.390954\teval-merror:0.386377\n",
      "[191]\ttrain-merror:0.390954\teval-merror:0.386377\n",
      "[192]\ttrain-merror:0.390954\teval-merror:0.386377\n",
      "[193]\ttrain-merror:0.390954\teval-merror:0.386377\n",
      "[194]\ttrain-merror:0.390954\teval-merror:0.386377\n",
      "[195]\ttrain-merror:0.390954\teval-merror:0.386377\n",
      "[196]\ttrain-merror:0.390954\teval-merror:0.386377\n",
      "[197]\ttrain-merror:0.390954\teval-merror:0.386377\n",
      "[198]\ttrain-merror:0.390954\teval-merror:0.386377\n",
      "[199]\ttrain-merror:0.390954\teval-merror:0.386377\n",
      "[200]\ttrain-merror:0.390954\teval-merror:0.386377\n",
      "[201]\ttrain-merror:0.390925\teval-merror:0.386435\n",
      "[202]\ttrain-merror:0.390925\teval-merror:0.386435\n",
      "[203]\ttrain-merror:0.390925\teval-merror:0.386435\n",
      "[204]\ttrain-merror:0.390925\teval-merror:0.386435\n",
      "[205]\ttrain-merror:0.390925\teval-merror:0.386435\n",
      "[206]\ttrain-merror:0.390925\teval-merror:0.386435\n",
      "[207]\ttrain-merror:0.390925\teval-merror:0.386435\n",
      "[208]\ttrain-merror:0.390925\teval-merror:0.386435\n",
      "[209]\ttrain-merror:0.390925\teval-merror:0.386435\n",
      "[210]\ttrain-merror:0.390925\teval-merror:0.386435\n",
      "[211]\ttrain-merror:0.390925\teval-merror:0.386435\n",
      "[212]\ttrain-merror:0.390925\teval-merror:0.386435\n",
      "[213]\ttrain-merror:0.390925\teval-merror:0.386435\n",
      "[214]\ttrain-merror:0.390925\teval-merror:0.386435\n",
      "[215]\ttrain-merror:0.390925\teval-merror:0.386435\n",
      "[216]\ttrain-merror:0.390925\teval-merror:0.386435\n",
      "[217]\ttrain-merror:0.390925\teval-merror:0.386435\n",
      "[218]\ttrain-merror:0.390925\teval-merror:0.386435\n",
      "[219]\ttrain-merror:0.390925\teval-merror:0.386435\n",
      "[220]\ttrain-merror:0.390925\teval-merror:0.386435\n",
      "[221]\ttrain-merror:0.390925\teval-merror:0.386435\n",
      "[222]\ttrain-merror:0.390925\teval-merror:0.386435\n",
      "[223]\ttrain-merror:0.390925\teval-merror:0.386435\n",
      "[224]\ttrain-merror:0.390925\teval-merror:0.386435\n",
      "[225]\ttrain-merror:0.390925\teval-merror:0.386435\n",
      "[226]\ttrain-merror:0.390925\teval-merror:0.386435\n",
      "[227]\ttrain-merror:0.390925\teval-merror:0.386435\n",
      "[228]\ttrain-merror:0.390925\teval-merror:0.386435\n",
      "[229]\ttrain-merror:0.390663\teval-merror:0.386435\n",
      "[230]\ttrain-merror:0.390663\teval-merror:0.386435\n",
      "[231]\ttrain-merror:0.390663\teval-merror:0.386435\n",
      "[232]\ttrain-merror:0.390663\teval-merror:0.386435\n",
      "[233]\ttrain-merror:0.390663\teval-merror:0.386435\n",
      "[234]\ttrain-merror:0.390663\teval-merror:0.386435\n",
      "[235]\ttrain-merror:0.390663\teval-merror:0.386435\n",
      "[236]\ttrain-merror:0.390663\teval-merror:0.386435\n",
      "[237]\ttrain-merror:0.390663\teval-merror:0.386435\n",
      "[238]\ttrain-merror:0.390663\teval-merror:0.386435\n",
      "[239]\ttrain-merror:0.390663\teval-merror:0.386435\n",
      "[240]\ttrain-merror:0.390663\teval-merror:0.386435\n",
      "[241]\ttrain-merror:0.390663\teval-merror:0.386435\n",
      "[242]\ttrain-merror:0.390663\teval-merror:0.386435\n",
      "[243]\ttrain-merror:0.390663\teval-merror:0.386435\n",
      "[244]\ttrain-merror:0.390663\teval-merror:0.386435\n",
      "[245]\ttrain-merror:0.390663\teval-merror:0.386435\n",
      "[246]\ttrain-merror:0.390663\teval-merror:0.386435\n",
      "[247]\ttrain-merror:0.390663\teval-merror:0.386435\n",
      "[248]\ttrain-merror:0.390663\teval-merror:0.386435\n",
      "[249]\ttrain-merror:0.390663\teval-merror:0.386435\n",
      "[250]\ttrain-merror:0.390663\teval-merror:0.386435\n",
      "[251]\ttrain-merror:0.390663\teval-merror:0.386435\n",
      "[252]\ttrain-merror:0.390663\teval-merror:0.386435\n",
      "[253]\ttrain-merror:0.390663\teval-merror:0.386435\n",
      "[254]\ttrain-merror:0.390634\teval-merror:0.386435\n",
      "[255]\ttrain-merror:0.390634\teval-merror:0.386435\n",
      "[256]\ttrain-merror:0.390634\teval-merror:0.386435\n",
      "[257]\ttrain-merror:0.390634\teval-merror:0.386435\n",
      "[258]\ttrain-merror:0.390634\teval-merror:0.386435\n",
      "[259]\ttrain-merror:0.390634\teval-merror:0.386435\n",
      "[260]\ttrain-merror:0.390634\teval-merror:0.386435\n",
      "[261]\ttrain-merror:0.390634\teval-merror:0.386435\n",
      "[262]\ttrain-merror:0.390634\teval-merror:0.386435\n",
      "[263]\ttrain-merror:0.390634\teval-merror:0.386435\n",
      "[264]\ttrain-merror:0.390634\teval-merror:0.386435\n",
      "[265]\ttrain-merror:0.390634\teval-merror:0.386435\n",
      "[266]\ttrain-merror:0.390634\teval-merror:0.386435\n",
      "[267]\ttrain-merror:0.390634\teval-merror:0.386435\n",
      "[268]\ttrain-merror:0.390634\teval-merror:0.386435\n",
      "[269]\ttrain-merror:0.390634\teval-merror:0.386435\n",
      "[270]\ttrain-merror:0.390634\teval-merror:0.386435\n",
      "[271]\ttrain-merror:0.390634\teval-merror:0.386435\n",
      "[272]\ttrain-merror:0.390634\teval-merror:0.386435\n",
      "[273]\ttrain-merror:0.390634\teval-merror:0.386435\n",
      "[274]\ttrain-merror:0.390634\teval-merror:0.386435\n",
      "[275]\ttrain-merror:0.390634\teval-merror:0.386435\n",
      "[276]\ttrain-merror:0.390634\teval-merror:0.386435\n",
      "[277]\ttrain-merror:0.390634\teval-merror:0.386435\n",
      "[278]\ttrain-merror:0.390634\teval-merror:0.386435\n",
      "[279]\ttrain-merror:0.390634\teval-merror:0.386435\n",
      "[280]\ttrain-merror:0.390634\teval-merror:0.386435\n",
      "[281]\ttrain-merror:0.390634\teval-merror:0.386435\n",
      "[282]\ttrain-merror:0.390634\teval-merror:0.386435\n",
      "[283]\ttrain-merror:0.390634\teval-merror:0.386435\n",
      "[284]\ttrain-merror:0.390634\teval-merror:0.386435\n",
      "[285]\ttrain-merror:0.390634\teval-merror:0.386435\n",
      "[286]\ttrain-merror:0.390634\teval-merror:0.386435\n",
      "[287]\ttrain-merror:0.390634\teval-merror:0.386435\n",
      "[288]\ttrain-merror:0.390634\teval-merror:0.386435\n",
      "[289]\ttrain-merror:0.390634\teval-merror:0.386435\n",
      "[290]\ttrain-merror:0.390634\teval-merror:0.386435\n",
      "[291]\ttrain-merror:0.390634\teval-merror:0.386435\n",
      "[292]\ttrain-merror:0.390634\teval-merror:0.386435\n",
      "[293]\ttrain-merror:0.390634\teval-merror:0.386435\n",
      "[294]\ttrain-merror:0.390634\teval-merror:0.386435\n",
      "[295]\ttrain-merror:0.390634\teval-merror:0.386435\n",
      "[296]\ttrain-merror:0.390634\teval-merror:0.386435\n",
      "[297]\ttrain-merror:0.390634\teval-merror:0.386435\n",
      "[298]\ttrain-merror:0.390634\teval-merror:0.386435\n",
      "[299]\ttrain-merror:0.390634\teval-merror:0.386435\n",
      "[300]\ttrain-merror:0.390634\teval-merror:0.386435\n",
      "[301]\ttrain-merror:0.390634\teval-merror:0.386435\n",
      "[302]\ttrain-merror:0.390634\teval-merror:0.386435\n",
      "[303]\ttrain-merror:0.390634\teval-merror:0.386435\n",
      "[304]\ttrain-merror:0.390634\teval-merror:0.386435\n",
      "[305]\ttrain-merror:0.390634\teval-merror:0.386435\n",
      "[306]\ttrain-merror:0.390634\teval-merror:0.386435\n",
      "[307]\ttrain-merror:0.390634\teval-merror:0.386435\n",
      "[308]\ttrain-merror:0.390634\teval-merror:0.386435\n",
      "[309]\ttrain-merror:0.390634\teval-merror:0.386435\n",
      "[310]\ttrain-merror:0.390634\teval-merror:0.386435\n",
      "[311]\ttrain-merror:0.390634\teval-merror:0.386435\n",
      "[312]\ttrain-merror:0.390634\teval-merror:0.386435\n",
      "[313]\ttrain-merror:0.390634\teval-merror:0.386435\n",
      "[314]\ttrain-merror:0.390634\teval-merror:0.386435\n",
      "[315]\ttrain-merror:0.390634\teval-merror:0.386435\n",
      "[316]\ttrain-merror:0.390634\teval-merror:0.386435\n",
      "[317]\ttrain-merror:0.390634\teval-merror:0.386435\n",
      "[318]\ttrain-merror:0.390634\teval-merror:0.386435\n",
      "[319]\ttrain-merror:0.390634\teval-merror:0.386435\n",
      "[320]\ttrain-merror:0.390634\teval-merror:0.386435\n",
      "[321]\ttrain-merror:0.390634\teval-merror:0.386435\n",
      "[322]\ttrain-merror:0.390634\teval-merror:0.386435\n",
      "[323]\ttrain-merror:0.390634\teval-merror:0.386435\n",
      "[324]\ttrain-merror:0.390518\teval-merror:0.385563\n",
      "[325]\ttrain-merror:0.390518\teval-merror:0.385563\n",
      "[326]\ttrain-merror:0.390518\teval-merror:0.385563\n",
      "[327]\ttrain-merror:0.390518\teval-merror:0.385563\n",
      "[328]\ttrain-merror:0.390518\teval-merror:0.385563\n",
      "[329]\ttrain-merror:0.390518\teval-merror:0.385563\n",
      "[330]\ttrain-merror:0.390518\teval-merror:0.385563\n",
      "[331]\ttrain-merror:0.390518\teval-merror:0.385563\n",
      "[332]\ttrain-merror:0.390518\teval-merror:0.385563\n",
      "[333]\ttrain-merror:0.390518\teval-merror:0.385563\n",
      "[334]\ttrain-merror:0.390518\teval-merror:0.385563\n",
      "[335]\ttrain-merror:0.390518\teval-merror:0.385563\n",
      "[336]\ttrain-merror:0.390518\teval-merror:0.385563\n",
      "[337]\ttrain-merror:0.390518\teval-merror:0.385563\n",
      "[338]\ttrain-merror:0.390518\teval-merror:0.385563\n",
      "[339]\ttrain-merror:0.390518\teval-merror:0.385563\n",
      "[340]\ttrain-merror:0.390518\teval-merror:0.385563\n",
      "[341]\ttrain-merror:0.390518\teval-merror:0.385563\n",
      "[342]\ttrain-merror:0.390518\teval-merror:0.385563\n",
      "[343]\ttrain-merror:0.390518\teval-merror:0.385563\n",
      "[344]\ttrain-merror:0.390518\teval-merror:0.385563\n",
      "[345]\ttrain-merror:0.390518\teval-merror:0.385563\n",
      "[346]\ttrain-merror:0.390518\teval-merror:0.385563\n",
      "[347]\ttrain-merror:0.390518\teval-merror:0.385563\n",
      "[348]\ttrain-merror:0.390518\teval-merror:0.385563\n",
      "[349]\ttrain-merror:0.390518\teval-merror:0.385563\n",
      "[350]\ttrain-merror:0.390518\teval-merror:0.385563\n",
      "[351]\ttrain-merror:0.390518\teval-merror:0.385563\n",
      "[352]\ttrain-merror:0.390518\teval-merror:0.385563\n",
      "[353]\ttrain-merror:0.390518\teval-merror:0.385563\n",
      "[354]\ttrain-merror:0.390518\teval-merror:0.385563\n",
      "[355]\ttrain-merror:0.390518\teval-merror:0.385563\n",
      "[356]\ttrain-merror:0.390518\teval-merror:0.385563\n",
      "[357]\ttrain-merror:0.390518\teval-merror:0.385563\n",
      "[358]\ttrain-merror:0.390518\teval-merror:0.385563\n",
      "[359]\ttrain-merror:0.390518\teval-merror:0.385563\n",
      "[360]\ttrain-merror:0.390518\teval-merror:0.385563\n",
      "[361]\ttrain-merror:0.390518\teval-merror:0.385563\n",
      "[362]\ttrain-merror:0.390518\teval-merror:0.385563\n",
      "[363]\ttrain-merror:0.390373\teval-merror:0.385796\n",
      "[364]\ttrain-merror:0.390373\teval-merror:0.385796\n",
      "[365]\ttrain-merror:0.390373\teval-merror:0.385796\n",
      "[366]\ttrain-merror:0.390373\teval-merror:0.385796\n",
      "[367]\ttrain-merror:0.390373\teval-merror:0.385796\n",
      "[368]\ttrain-merror:0.390373\teval-merror:0.385796\n",
      "[369]\ttrain-merror:0.390373\teval-merror:0.385796\n",
      "[370]\ttrain-merror:0.390373\teval-merror:0.385796\n",
      "[371]\ttrain-merror:0.390373\teval-merror:0.385796\n",
      "[372]\ttrain-merror:0.390373\teval-merror:0.385796\n",
      "[373]\ttrain-merror:0.390373\teval-merror:0.385796\n",
      "[374]\ttrain-merror:0.390373\teval-merror:0.385796\n",
      "[375]\ttrain-merror:0.390373\teval-merror:0.385796\n",
      "[376]\ttrain-merror:0.390373\teval-merror:0.385796\n",
      "[377]\ttrain-merror:0.390373\teval-merror:0.385796\n",
      "[378]\ttrain-merror:0.390373\teval-merror:0.385796\n",
      "[379]\ttrain-merror:0.390373\teval-merror:0.385796\n",
      "[380]\ttrain-merror:0.390373\teval-merror:0.385796\n",
      "[381]\ttrain-merror:0.390373\teval-merror:0.385796\n",
      "[382]\ttrain-merror:0.390373\teval-merror:0.385796\n",
      "[383]\ttrain-merror:0.390373\teval-merror:0.385796\n",
      "[384]\ttrain-merror:0.390373\teval-merror:0.385796\n",
      "[385]\ttrain-merror:0.390271\teval-merror:0.386202\n",
      "[386]\ttrain-merror:0.390271\teval-merror:0.386202\n",
      "[387]\ttrain-merror:0.390271\teval-merror:0.386202\n",
      "[388]\ttrain-merror:0.390271\teval-merror:0.386202\n",
      "[389]\ttrain-merror:0.390271\teval-merror:0.386202\n",
      "[390]\ttrain-merror:0.390271\teval-merror:0.386202\n",
      "[391]\ttrain-merror:0.390271\teval-merror:0.386202\n",
      "[392]\ttrain-merror:0.390271\teval-merror:0.386202\n",
      "[393]\ttrain-merror:0.390271\teval-merror:0.386202\n",
      "[394]\ttrain-merror:0.390271\teval-merror:0.386202\n",
      "[395]\ttrain-merror:0.390271\teval-merror:0.386202\n",
      "[396]\ttrain-merror:0.390271\teval-merror:0.386202\n",
      "[397]\ttrain-merror:0.390271\teval-merror:0.386202\n",
      "[398]\ttrain-merror:0.390271\teval-merror:0.386202\n",
      "[399]\ttrain-merror:0.390271\teval-merror:0.386202\n",
      "[400]\ttrain-merror:0.390271\teval-merror:0.386202\n",
      "[401]\ttrain-merror:0.390271\teval-merror:0.386202\n",
      "[402]\ttrain-merror:0.390271\teval-merror:0.386202\n",
      "[403]\ttrain-merror:0.390271\teval-merror:0.386202\n",
      "[404]\ttrain-merror:0.390271\teval-merror:0.386202\n",
      "[405]\ttrain-merror:0.390271\teval-merror:0.386202\n",
      "[406]\ttrain-merror:0.390271\teval-merror:0.386202\n",
      "[407]\ttrain-merror:0.390271\teval-merror:0.386202\n",
      "[408]\ttrain-merror:0.390271\teval-merror:0.386202\n",
      "[409]\ttrain-merror:0.390271\teval-merror:0.386202\n",
      "[410]\ttrain-merror:0.390271\teval-merror:0.386202\n",
      "[411]\ttrain-merror:0.390271\teval-merror:0.386202\n",
      "[412]\ttrain-merror:0.390271\teval-merror:0.386202\n",
      "[413]\ttrain-merror:0.390271\teval-merror:0.386202\n",
      "[414]\ttrain-merror:0.390271\teval-merror:0.386202\n",
      "[415]\ttrain-merror:0.390271\teval-merror:0.386202\n",
      "[416]\ttrain-merror:0.390271\teval-merror:0.386202\n",
      "[417]\ttrain-merror:0.390271\teval-merror:0.386202\n",
      "[418]\ttrain-merror:0.390271\teval-merror:0.386202\n",
      "[419]\ttrain-merror:0.390271\teval-merror:0.386202\n",
      "[420]\ttrain-merror:0.390271\teval-merror:0.386202\n",
      "[421]\ttrain-merror:0.390271\teval-merror:0.386202\n",
      "[422]\ttrain-merror:0.390271\teval-merror:0.386202\n",
      "[423]\ttrain-merror:0.390271\teval-merror:0.386202\n",
      "[424]\ttrain-merror:0.390271\teval-merror:0.386202\n",
      "[425]\ttrain-merror:0.390271\teval-merror:0.386202\n",
      "[426]\ttrain-merror:0.390271\teval-merror:0.386202\n",
      "[427]\ttrain-merror:0.390271\teval-merror:0.386202\n",
      "[428]\ttrain-merror:0.390271\teval-merror:0.386202\n",
      "[429]\ttrain-merror:0.390271\teval-merror:0.386202\n",
      "[430]\ttrain-merror:0.390271\teval-merror:0.386202\n",
      "[431]\ttrain-merror:0.390271\teval-merror:0.386202\n",
      "[432]\ttrain-merror:0.390271\teval-merror:0.386202\n",
      "[433]\ttrain-merror:0.390271\teval-merror:0.386202\n",
      "[434]\ttrain-merror:0.390271\teval-merror:0.386202\n",
      "[435]\ttrain-merror:0.390271\teval-merror:0.386202\n",
      "[436]\ttrain-merror:0.390271\teval-merror:0.386202\n",
      "[437]\ttrain-merror:0.390271\teval-merror:0.386202\n",
      "[438]\ttrain-merror:0.390271\teval-merror:0.386202\n",
      "[439]\ttrain-merror:0.390271\teval-merror:0.386202\n",
      "[440]\ttrain-merror:0.390271\teval-merror:0.386202\n",
      "[441]\ttrain-merror:0.390271\teval-merror:0.386202\n",
      "[442]\ttrain-merror:0.390271\teval-merror:0.386202\n",
      "[443]\ttrain-merror:0.390271\teval-merror:0.386202\n",
      "[444]\ttrain-merror:0.390271\teval-merror:0.386202\n",
      "[445]\ttrain-merror:0.390271\teval-merror:0.386202\n",
      "[446]\ttrain-merror:0.390271\teval-merror:0.386202\n",
      "[447]\ttrain-merror:0.390271\teval-merror:0.386202\n",
      "[448]\ttrain-merror:0.390271\teval-merror:0.386202\n",
      "[449]\ttrain-merror:0.390271\teval-merror:0.386202\n",
      "[450]\ttrain-merror:0.390271\teval-merror:0.386202\n",
      "[451]\ttrain-merror:0.390271\teval-merror:0.386202\n",
      "[452]\ttrain-merror:0.390271\teval-merror:0.386202\n",
      "[453]\ttrain-merror:0.390271\teval-merror:0.386202\n",
      "[454]\ttrain-merror:0.390271\teval-merror:0.386202\n",
      "[455]\ttrain-merror:0.390271\teval-merror:0.386202\n",
      "[456]\ttrain-merror:0.390271\teval-merror:0.386202\n",
      "[457]\ttrain-merror:0.390271\teval-merror:0.386202\n",
      "[458]\ttrain-merror:0.390271\teval-merror:0.386202\n",
      "[459]\ttrain-merror:0.390271\teval-merror:0.386202\n",
      "[460]\ttrain-merror:0.390271\teval-merror:0.386202\n",
      "[461]\ttrain-merror:0.390271\teval-merror:0.386202\n",
      "[462]\ttrain-merror:0.390271\teval-merror:0.386202\n",
      "[463]\ttrain-merror:0.390271\teval-merror:0.386202\n",
      "[464]\ttrain-merror:0.390271\teval-merror:0.386202\n",
      "[465]\ttrain-merror:0.390271\teval-merror:0.386202\n",
      "[466]\ttrain-merror:0.390271\teval-merror:0.386202\n",
      "[467]\ttrain-merror:0.390271\teval-merror:0.386202\n",
      "[468]\ttrain-merror:0.390271\teval-merror:0.386202\n",
      "[469]\ttrain-merror:0.390271\teval-merror:0.386202\n",
      "[470]\ttrain-merror:0.390271\teval-merror:0.386202\n",
      "[471]\ttrain-merror:0.390271\teval-merror:0.386202\n",
      "[472]\ttrain-merror:0.390271\teval-merror:0.386202\n",
      "[473]\ttrain-merror:0.390271\teval-merror:0.386202\n",
      "[474]\ttrain-merror:0.390271\teval-merror:0.386202\n",
      "[475]\ttrain-merror:0.390271\teval-merror:0.386202\n",
      "[476]\ttrain-merror:0.390271\teval-merror:0.386202\n",
      "[477]\ttrain-merror:0.390271\teval-merror:0.386202\n",
      "[478]\ttrain-merror:0.390271\teval-merror:0.386202\n",
      "[479]\ttrain-merror:0.390271\teval-merror:0.386202\n",
      "[480]\ttrain-merror:0.390271\teval-merror:0.386202\n",
      "[481]\ttrain-merror:0.390271\teval-merror:0.386202\n",
      "[482]\ttrain-merror:0.390271\teval-merror:0.386202\n",
      "[483]\ttrain-merror:0.390271\teval-merror:0.386202\n",
      "[484]\ttrain-merror:0.390271\teval-merror:0.386202\n",
      "[485]\ttrain-merror:0.390271\teval-merror:0.386202\n",
      "[486]\ttrain-merror:0.390271\teval-merror:0.386202\n",
      "[487]\ttrain-merror:0.390271\teval-merror:0.386202\n",
      "[488]\ttrain-merror:0.390271\teval-merror:0.386202\n",
      "[489]\ttrain-merror:0.390271\teval-merror:0.386202\n",
      "[490]\ttrain-merror:0.390271\teval-merror:0.386202\n",
      "[491]\ttrain-merror:0.390271\teval-merror:0.386202\n",
      "[492]\ttrain-merror:0.390271\teval-merror:0.386202\n",
      "[493]\ttrain-merror:0.390271\teval-merror:0.386202\n",
      "[494]\ttrain-merror:0.390271\teval-merror:0.386202\n",
      "[495]\ttrain-merror:0.390271\teval-merror:0.386202\n",
      "[496]\ttrain-merror:0.390271\teval-merror:0.386202\n",
      "[497]\ttrain-merror:0.390271\teval-merror:0.386202\n",
      "[498]\ttrain-merror:0.390271\teval-merror:0.386202\n",
      "[499]\ttrain-merror:0.390271\teval-merror:0.386202\n"
     ]
    }
   ],
   "source": [
    "# on choisi multi:softmax\n",
    "param = {\n",
    "    \"max_depth\":4,\n",
    "    \"eta\":0.3,\n",
    "    \"objective\":\"multi:softmax\",\n",
    "    \"booster\":\"gbtree\",\n",
    "    \"learning_rate\":0.001,\n",
    "    'num_class':2,\n",
    "    'num_boost_round':200\n",
    "}\n",
    "\n",
    "xgb2 = xgb.train(params=param, dtrain=train,num_boost_round = 500, evals= [(train, 'train'), (test, 'eval')])\n"
   ]
  },
  {
   "cell_type": "code",
   "execution_count": 95,
   "metadata": {
    "colab": {
     "base_uri": "https://localhost:8080/",
     "height": 301
    },
    "executionInfo": {
     "elapsed": 31,
     "status": "ok",
     "timestamp": 1657191652598,
     "user": {
      "displayName": "Mayeul de Rougé",
      "userId": "12836380890528998156"
     },
     "user_tz": -120
    },
    "id": "7ndeprKippFX",
    "outputId": "4a16dffd-6394-4f5b-caf7-8076eff3f8c9"
   },
   "outputs": [
    {
     "data": {
      "image/png": "[encoded data removed]",
      "text/plain": [
       "<Figure size 432x288 with 1 Axes>"
      ]
     },
     "metadata": {
      "needs_background": "light"
     },
     "output_type": "display_data"
    }
   ],
   "source": [
    "xgb.plot_importance(xgb2, max_num_features=6);"
   ]
  },
  {
   "cell_type": "code",
   "execution_count": 96,
   "metadata": {
    "colab": {
     "base_uri": "https://localhost:8080/"
    },
    "executionInfo": {
     "elapsed": 29,
     "status": "ok",
     "timestamp": 1657191652598,
     "user": {
      "displayName": "Mayeul de Rougé",
      "userId": "12836380890528998156"
     },
     "user_tz": -120
    },
    "id": "yv6eiIz02npS",
    "outputId": "9a5bbf7d-db2e-4e3f-8918-9f39725363cc"
   },
   "outputs": [
    {
     "name": "stdout",
     "output_type": "stream",
     "text": [
      "[0. 0. 1. ... 1. 0. 0.]\n"
     ]
    }
   ],
   "source": [
    "predictions = xgb2.predict(test)\n",
    "print(predictions)"
   ]
  },
  {
   "cell_type": "code",
   "execution_count": 97,
   "metadata": {
    "colab": {
     "base_uri": "https://localhost:8080/"
    },
    "executionInfo": {
     "elapsed": 18,
     "status": "ok",
     "timestamp": 1657191652599,
     "user": {
      "displayName": "Mayeul de Rougé",
      "userId": "12836380890528998156"
     },
     "user_tz": -120
    },
    "id": "LaHmEYtI2n6l",
    "outputId": "e597a3f1-29f3-4588-cc9e-b567c9cd56f5"
   },
   "outputs": [
    {
     "name": "stdout",
     "output_type": "stream",
     "text": [
      "accuracy score :  0.6137975124956411\n",
      "precision score :  0.6337066375307293\n",
      "recall score :  0.5393467395094734\n",
      "f1 score :  0.5827315541601257\n"
     ]
    }
   ],
   "source": [
    "from sklearn.metrics import accuracy_score, precision_score,recall_score,f1_score\n",
    "print('accuracy score : ', accuracy_score(y_test, predictions))\n",
    "print('precision score : ', precision_score(y_test, predictions))\n",
    "print('recall score : ', recall_score(y_test, predictions))\n",
    "print('f1 score : ', f1_score(y_test, predictions))\n",
    "\n"
   ]
  },
  {
   "cell_type": "markdown",
   "metadata": {
    "id": "zyzSI3GPNr79"
   },
   "source": [
    "Réglons certains paramètres pour optimiser la performance.  Après avoir fait différent essais, on choisit :"
   ]
  },
  {
   "cell_type": "code",
   "execution_count": 98,
   "metadata": {
    "colab": {
     "base_uri": "https://localhost:8080/"
    },
    "executionInfo": {
     "elapsed": 22935,
     "status": "ok",
     "timestamp": 1657191675519,
     "user": {
      "displayName": "Mayeul de Rougé",
      "userId": "12836380890528998156"
     },
     "user_tz": -120
    },
    "id": "74A3Krzhx2kt",
    "outputId": "07f26439-f7e9-48b6-fb0b-5837450e359b"
   },
   "outputs": [
    {
     "name": "stdout",
     "output_type": "stream",
     "text": [
      "[0]\ttrain-merror:0.400747\teval-merror:0.398001\n",
      "[1]\ttrain-merror:0.398945\teval-merror:0.399686\n",
      "[2]\ttrain-merror:0.398945\teval-merror:0.399686\n",
      "[3]\ttrain-merror:0.398945\teval-merror:0.399686\n",
      "[4]\ttrain-merror:0.398945\teval-merror:0.399686\n",
      "[5]\ttrain-merror:0.398161\teval-merror:0.398989\n",
      "[6]\ttrain-merror:0.398161\teval-merror:0.398989\n",
      "[7]\ttrain-merror:0.398161\teval-merror:0.398989\n",
      "[8]\ttrain-merror:0.398161\teval-merror:0.398989\n",
      "[9]\ttrain-merror:0.398161\teval-merror:0.398989\n",
      "[10]\ttrain-merror:0.398161\teval-merror:0.398989\n",
      "[11]\ttrain-merror:0.397449\teval-merror:0.397536\n",
      "[12]\ttrain-merror:0.398161\teval-merror:0.398989\n",
      "[13]\ttrain-merror:0.396373\teval-merror:0.395792\n",
      "[14]\ttrain-merror:0.396373\teval-merror:0.395792\n",
      "[15]\ttrain-merror:0.396373\teval-merror:0.395792\n",
      "[16]\ttrain-merror:0.396766\teval-merror:0.396199\n",
      "[17]\ttrain-merror:0.395792\teval-merror:0.394572\n",
      "[18]\ttrain-merror:0.395763\teval-merror:0.394572\n",
      "[19]\ttrain-merror:0.395749\teval-merror:0.393932\n",
      "[20]\ttrain-merror:0.395807\teval-merror:0.394688\n",
      "[21]\ttrain-merror:0.395778\teval-merror:0.393932\n",
      "[22]\ttrain-merror:0.395734\teval-merror:0.393932\n",
      "[23]\ttrain-merror:0.395734\teval-merror:0.393932\n",
      "[24]\ttrain-merror:0.395734\teval-merror:0.393932\n",
      "[25]\ttrain-merror:0.394702\teval-merror:0.391084\n",
      "[26]\ttrain-merror:0.394702\teval-merror:0.391084\n",
      "[27]\ttrain-merror:0.393322\teval-merror:0.390096\n",
      "[28]\ttrain-merror:0.393322\teval-merror:0.390096\n",
      "[29]\ttrain-merror:0.392712\teval-merror:0.389341\n",
      "[30]\ttrain-merror:0.39309\teval-merror:0.390155\n",
      "[31]\ttrain-merror:0.392508\teval-merror:0.389399\n",
      "[32]\ttrain-merror:0.392508\teval-merror:0.389399\n",
      "[33]\ttrain-merror:0.392378\teval-merror:0.388992\n",
      "[34]\ttrain-merror:0.39232\teval-merror:0.388527\n",
      "[35]\ttrain-merror:0.391855\teval-merror:0.387714\n",
      "[36]\ttrain-merror:0.391884\teval-merror:0.387597\n",
      "[37]\ttrain-merror:0.391884\teval-merror:0.387597\n",
      "[38]\ttrain-merror:0.391855\teval-merror:0.387655\n",
      "[39]\ttrain-merror:0.391855\teval-merror:0.387655\n",
      "[40]\ttrain-merror:0.391535\teval-merror:0.388004\n",
      "[41]\ttrain-merror:0.391259\teval-merror:0.387772\n",
      "[42]\ttrain-merror:0.391143\teval-merror:0.387888\n",
      "[43]\ttrain-merror:0.391143\teval-merror:0.387888\n",
      "[44]\ttrain-merror:0.391143\teval-merror:0.387888\n",
      "[45]\ttrain-merror:0.391535\teval-merror:0.388004\n",
      "[46]\ttrain-merror:0.391026\teval-merror:0.387423\n",
      "[47]\ttrain-merror:0.391026\teval-merror:0.387423\n",
      "[48]\ttrain-merror:0.391157\teval-merror:0.386958\n",
      "[49]\ttrain-merror:0.391026\teval-merror:0.387191\n",
      "[50]\ttrain-merror:0.389951\teval-merror:0.385912\n",
      "[51]\ttrain-merror:0.389922\teval-merror:0.38597\n",
      "[52]\ttrain-merror:0.390867\teval-merror:0.388179\n",
      "[53]\ttrain-merror:0.390997\teval-merror:0.387365\n",
      "[54]\ttrain-merror:0.391012\teval-merror:0.387307\n",
      "[55]\ttrain-merror:0.389733\teval-merror:0.387539\n",
      "[56]\ttrain-merror:0.389995\teval-merror:0.387888\n",
      "[57]\ttrain-merror:0.390024\teval-merror:0.387888\n",
      "[58]\ttrain-merror:0.390024\teval-merror:0.387655\n",
      "[59]\ttrain-merror:0.390009\teval-merror:0.387714\n",
      "[60]\ttrain-merror:0.389995\teval-merror:0.387714\n",
      "[61]\ttrain-merror:0.389385\teval-merror:0.385854\n",
      "[62]\ttrain-merror:0.389341\teval-merror:0.385854\n",
      "[63]\ttrain-merror:0.388992\teval-merror:0.38504\n",
      "[64]\ttrain-merror:0.389007\teval-merror:0.384982\n",
      "[65]\ttrain-merror:0.389181\teval-merror:0.38597\n",
      "[66]\ttrain-merror:0.389254\teval-merror:0.385796\n",
      "[67]\ttrain-merror:0.389065\teval-merror:0.38597\n",
      "[68]\ttrain-merror:0.38905\teval-merror:0.386028\n",
      "[69]\ttrain-merror:0.389181\teval-merror:0.385796\n",
      "[70]\ttrain-merror:0.389007\teval-merror:0.386086\n",
      "[71]\ttrain-merror:0.388934\teval-merror:0.386086\n",
      "[72]\ttrain-merror:0.388614\teval-merror:0.38411\n",
      "[73]\ttrain-merror:0.389312\teval-merror:0.385912\n",
      "[74]\ttrain-merror:0.389341\teval-merror:0.385854\n",
      "[75]\ttrain-merror:0.389385\teval-merror:0.385854\n",
      "[76]\ttrain-merror:0.389152\teval-merror:0.385621\n",
      "[77]\ttrain-merror:0.389079\teval-merror:0.385447\n",
      "[78]\ttrain-merror:0.389196\teval-merror:0.385738\n",
      "[79]\ttrain-merror:0.389094\teval-merror:0.38597\n",
      "[80]\ttrain-merror:0.389094\teval-merror:0.385912\n",
      "[81]\ttrain-merror:0.388934\teval-merror:0.385389\n",
      "[82]\ttrain-merror:0.389152\teval-merror:0.386144\n",
      "[83]\ttrain-merror:0.388949\teval-merror:0.385389\n",
      "[84]\ttrain-merror:0.388949\teval-merror:0.385447\n",
      "[85]\ttrain-merror:0.388978\teval-merror:0.385389\n",
      "[86]\ttrain-merror:0.388978\teval-merror:0.385389\n",
      "[87]\ttrain-merror:0.388673\teval-merror:0.385679\n",
      "[88]\ttrain-merror:0.388745\teval-merror:0.385738\n",
      "[89]\ttrain-merror:0.388803\teval-merror:0.385447\n",
      "[90]\ttrain-merror:0.3886\teval-merror:0.385796\n",
      "[91]\ttrain-merror:0.388571\teval-merror:0.385738\n",
      "[92]\ttrain-merror:0.388469\teval-merror:0.385214\n",
      "[93]\ttrain-merror:0.38812\teval-merror:0.385563\n",
      "[94]\ttrain-merror:0.387961\teval-merror:0.385156\n",
      "[95]\ttrain-merror:0.387801\teval-merror:0.385156\n",
      "[96]\ttrain-merror:0.38783\teval-merror:0.384691\n",
      "[97]\ttrain-merror:0.38783\teval-merror:0.384575\n",
      "[98]\ttrain-merror:0.38783\teval-merror:0.384575\n",
      "[99]\ttrain-merror:0.387786\teval-merror:0.384575\n",
      "[100]\ttrain-merror:0.387772\teval-merror:0.384575\n",
      "[101]\ttrain-merror:0.38751\teval-merror:0.384285\n",
      "[102]\ttrain-merror:0.387568\teval-merror:0.384401\n",
      "[103]\ttrain-merror:0.387568\teval-merror:0.384401\n",
      "[104]\ttrain-merror:0.387612\teval-merror:0.384401\n",
      "[105]\ttrain-merror:0.387496\teval-merror:0.384285\n",
      "[106]\ttrain-merror:0.387496\teval-merror:0.384691\n",
      "[107]\ttrain-merror:0.387496\teval-merror:0.384691\n",
      "[108]\ttrain-merror:0.387525\teval-merror:0.384691\n",
      "[109]\ttrain-merror:0.387249\teval-merror:0.384285\n",
      "[110]\ttrain-merror:0.387234\teval-merror:0.383878\n",
      "[111]\ttrain-merror:0.387205\teval-merror:0.384052\n",
      "[112]\ttrain-merror:0.38706\teval-merror:0.383645\n",
      "[113]\ttrain-merror:0.387002\teval-merror:0.383355\n",
      "[114]\ttrain-merror:0.387016\teval-merror:0.383238\n",
      "[115]\ttrain-merror:0.386653\teval-merror:0.38289\n",
      "[116]\ttrain-merror:0.386566\teval-merror:0.383006\n",
      "[117]\ttrain-merror:0.386391\teval-merror:0.383122\n",
      "[118]\ttrain-merror:0.386391\teval-merror:0.383122\n",
      "[119]\ttrain-merror:0.386406\teval-merror:0.383122\n",
      "[120]\ttrain-merror:0.386624\teval-merror:0.383297\n",
      "[121]\ttrain-merror:0.386667\teval-merror:0.383297\n",
      "[122]\ttrain-merror:0.386551\teval-merror:0.383238\n",
      "[123]\ttrain-merror:0.386566\teval-merror:0.382948\n",
      "[124]\ttrain-merror:0.386319\teval-merror:0.382541\n",
      "[125]\ttrain-merror:0.386348\teval-merror:0.382599\n",
      "[126]\ttrain-merror:0.386464\teval-merror:0.382541\n",
      "[127]\ttrain-merror:0.386275\teval-merror:0.382134\n",
      "[128]\ttrain-merror:0.386246\teval-merror:0.382308\n",
      "[129]\ttrain-merror:0.386217\teval-merror:0.382308\n",
      "[130]\ttrain-merror:0.386246\teval-merror:0.382483\n",
      "[131]\ttrain-merror:0.386261\teval-merror:0.382425\n",
      "[132]\ttrain-merror:0.386348\teval-merror:0.382599\n",
      "[133]\ttrain-merror:0.386261\teval-merror:0.382483\n",
      "[134]\ttrain-merror:0.38629\teval-merror:0.382367\n",
      "[135]\ttrain-merror:0.386304\teval-merror:0.38225\n",
      "[136]\ttrain-merror:0.385955\teval-merror:0.38225\n",
      "[137]\ttrain-merror:0.385854\teval-merror:0.382599\n",
      "[138]\ttrain-merror:0.385781\teval-merror:0.382657\n",
      "[139]\ttrain-merror:0.385752\teval-merror:0.383064\n",
      "[140]\ttrain-merror:0.385825\teval-merror:0.382948\n",
      "[141]\ttrain-merror:0.385738\teval-merror:0.382483\n",
      "[142]\ttrain-merror:0.385738\teval-merror:0.382483\n",
      "[143]\ttrain-merror:0.385738\teval-merror:0.383413\n",
      "[144]\ttrain-merror:0.385825\teval-merror:0.382948\n",
      "[145]\ttrain-merror:0.385796\teval-merror:0.382948\n",
      "[146]\ttrain-merror:0.385796\teval-merror:0.382948\n",
      "[147]\ttrain-merror:0.385868\teval-merror:0.382715\n",
      "[148]\ttrain-merror:0.385955\teval-merror:0.38225\n",
      "[149]\ttrain-merror:0.385679\teval-merror:0.382308\n",
      "[150]\ttrain-merror:0.385723\teval-merror:0.382948\n",
      "[151]\ttrain-merror:0.385563\teval-merror:0.38289\n",
      "[152]\ttrain-merror:0.385534\teval-merror:0.382541\n",
      "[153]\ttrain-merror:0.385476\teval-merror:0.382657\n",
      "[154]\ttrain-merror:0.385418\teval-merror:0.382657\n",
      "[155]\ttrain-merror:0.385345\teval-merror:0.38289\n",
      "[156]\ttrain-merror:0.385055\teval-merror:0.383122\n",
      "[157]\ttrain-merror:0.384953\teval-merror:0.382948\n",
      "[158]\ttrain-merror:0.385055\teval-merror:0.383471\n",
      "[159]\ttrain-merror:0.385142\teval-merror:0.382715\n",
      "[160]\ttrain-merror:0.385098\teval-merror:0.382715\n",
      "[161]\ttrain-merror:0.384982\teval-merror:0.382715\n",
      "[162]\ttrain-merror:0.384967\teval-merror:0.382541\n",
      "[163]\ttrain-merror:0.38475\teval-merror:0.382599\n",
      "[164]\ttrain-merror:0.384706\teval-merror:0.382657\n",
      "[165]\ttrain-merror:0.384735\teval-merror:0.382367\n",
      "[166]\ttrain-merror:0.384808\teval-merror:0.382308\n",
      "[167]\ttrain-merror:0.384735\teval-merror:0.382134\n",
      "[168]\ttrain-merror:0.384415\teval-merror:0.382192\n",
      "[169]\ttrain-merror:0.384444\teval-merror:0.382134\n",
      "[170]\ttrain-merror:0.38443\teval-merror:0.382134\n",
      "[171]\ttrain-merror:0.384415\teval-merror:0.382367\n",
      "[172]\ttrain-merror:0.384444\teval-merror:0.382308\n",
      "[173]\ttrain-merror:0.384357\teval-merror:0.38225\n",
      "[174]\ttrain-merror:0.38443\teval-merror:0.382541\n",
      "[175]\ttrain-merror:0.384372\teval-merror:0.382541\n",
      "[176]\ttrain-merror:0.384285\teval-merror:0.382599\n",
      "[177]\ttrain-merror:0.384415\teval-merror:0.38225\n",
      "[178]\ttrain-merror:0.384415\teval-merror:0.38225\n",
      "[179]\ttrain-merror:0.384473\teval-merror:0.38225\n",
      "[180]\ttrain-merror:0.38443\teval-merror:0.382192\n",
      "[181]\ttrain-merror:0.384517\teval-merror:0.382308\n",
      "[182]\ttrain-merror:0.384299\teval-merror:0.38196\n",
      "[183]\ttrain-merror:0.384372\teval-merror:0.381902\n",
      "[184]\ttrain-merror:0.384633\teval-merror:0.382076\n",
      "[185]\ttrain-merror:0.384372\teval-merror:0.38225\n",
      "[186]\ttrain-merror:0.384328\teval-merror:0.382076\n",
      "[187]\ttrain-merror:0.384328\teval-merror:0.382076\n",
      "[188]\ttrain-merror:0.384343\teval-merror:0.382076\n",
      "[189]\ttrain-merror:0.38427\teval-merror:0.382076\n",
      "[190]\ttrain-merror:0.384285\teval-merror:0.382076\n",
      "[191]\ttrain-merror:0.384328\teval-merror:0.382076\n",
      "[192]\ttrain-merror:0.384401\teval-merror:0.382657\n",
      "[193]\ttrain-merror:0.384386\teval-merror:0.382599\n",
      "[194]\ttrain-merror:0.384183\teval-merror:0.382715\n",
      "[195]\ttrain-merror:0.384183\teval-merror:0.382715\n",
      "[196]\ttrain-merror:0.384125\teval-merror:0.382773\n",
      "[197]\ttrain-merror:0.384197\teval-merror:0.382773\n",
      "[198]\ttrain-merror:0.384081\teval-merror:0.382599\n",
      "[199]\ttrain-merror:0.383994\teval-merror:0.382541\n",
      "[200]\ttrain-merror:0.383979\teval-merror:0.382483\n",
      "[201]\ttrain-merror:0.384023\teval-merror:0.382425\n",
      "[202]\ttrain-merror:0.384067\teval-merror:0.382425\n",
      "[203]\ttrain-merror:0.38411\teval-merror:0.382425\n",
      "[204]\ttrain-merror:0.384008\teval-merror:0.382483\n",
      "[205]\ttrain-merror:0.383965\teval-merror:0.382134\n",
      "[206]\ttrain-merror:0.384081\teval-merror:0.382425\n",
      "[207]\ttrain-merror:0.384096\teval-merror:0.382425\n",
      "[208]\ttrain-merror:0.384096\teval-merror:0.382541\n",
      "[209]\ttrain-merror:0.384038\teval-merror:0.382425\n",
      "[210]\ttrain-merror:0.383979\teval-merror:0.382657\n",
      "[211]\ttrain-merror:0.383834\teval-merror:0.383006\n",
      "[212]\ttrain-merror:0.383747\teval-merror:0.383238\n",
      "[213]\ttrain-merror:0.383747\teval-merror:0.383238\n",
      "[214]\ttrain-merror:0.383761\teval-merror:0.38318\n",
      "[215]\ttrain-merror:0.383747\teval-merror:0.38318\n",
      "[216]\ttrain-merror:0.383703\teval-merror:0.383238\n",
      "[217]\ttrain-merror:0.383805\teval-merror:0.383238\n",
      "[218]\ttrain-merror:0.383718\teval-merror:0.383587\n",
      "[219]\ttrain-merror:0.383747\teval-merror:0.38318\n",
      "[220]\ttrain-merror:0.383761\teval-merror:0.383122\n",
      "[221]\ttrain-merror:0.383631\teval-merror:0.383006\n",
      "[222]\ttrain-merror:0.383718\teval-merror:0.383064\n",
      "[223]\ttrain-merror:0.383674\teval-merror:0.383122\n",
      "[224]\ttrain-merror:0.383674\teval-merror:0.38318\n",
      "[225]\ttrain-merror:0.383631\teval-merror:0.383122\n",
      "[226]\ttrain-merror:0.383558\teval-merror:0.383355\n",
      "[227]\ttrain-merror:0.383529\teval-merror:0.383064\n",
      "[228]\ttrain-merror:0.383544\teval-merror:0.383006\n",
      "[229]\ttrain-merror:0.383587\teval-merror:0.38318\n",
      "[230]\ttrain-merror:0.383442\teval-merror:0.383413\n",
      "[231]\ttrain-merror:0.383442\teval-merror:0.383587\n",
      "[232]\ttrain-merror:0.383471\teval-merror:0.383703\n",
      "[233]\ttrain-merror:0.383311\teval-merror:0.383529\n",
      "[234]\ttrain-merror:0.383209\teval-merror:0.383413\n",
      "[235]\ttrain-merror:0.383369\teval-merror:0.383471\n",
      "[236]\ttrain-merror:0.383485\teval-merror:0.383471\n",
      "[237]\ttrain-merror:0.383369\teval-merror:0.383529\n",
      "[238]\ttrain-merror:0.383282\teval-merror:0.38318\n",
      "[239]\ttrain-merror:0.383267\teval-merror:0.38318\n",
      "[240]\ttrain-merror:0.383384\teval-merror:0.38289\n",
      "[241]\ttrain-merror:0.383413\teval-merror:0.38318\n",
      "[242]\ttrain-merror:0.38334\teval-merror:0.383355\n",
      "[243]\ttrain-merror:0.383238\teval-merror:0.383355\n",
      "[244]\ttrain-merror:0.383253\teval-merror:0.38289\n",
      "[245]\ttrain-merror:0.383253\teval-merror:0.38289\n",
      "[246]\ttrain-merror:0.383311\teval-merror:0.383064\n",
      "[247]\ttrain-merror:0.383326\teval-merror:0.383064\n",
      "[248]\ttrain-merror:0.383282\teval-merror:0.382948\n",
      "[249]\ttrain-merror:0.383267\teval-merror:0.383064\n",
      "[250]\ttrain-merror:0.383442\teval-merror:0.383006\n",
      "[251]\ttrain-merror:0.383442\teval-merror:0.383006\n",
      "[252]\ttrain-merror:0.383267\teval-merror:0.383006\n",
      "[253]\ttrain-merror:0.383209\teval-merror:0.382599\n",
      "[254]\ttrain-merror:0.383108\teval-merror:0.382657\n",
      "[255]\ttrain-merror:0.383108\teval-merror:0.382657\n",
      "[256]\ttrain-merror:0.383122\teval-merror:0.382541\n",
      "[257]\ttrain-merror:0.383166\teval-merror:0.382541\n",
      "[258]\ttrain-merror:0.383195\teval-merror:0.382715\n",
      "[259]\ttrain-merror:0.383166\teval-merror:0.383006\n",
      "[260]\ttrain-merror:0.383137\teval-merror:0.382948\n",
      "[261]\ttrain-merror:0.383166\teval-merror:0.382541\n",
      "[262]\ttrain-merror:0.382948\teval-merror:0.382657\n",
      "[263]\ttrain-merror:0.38302\teval-merror:0.382715\n",
      "[264]\ttrain-merror:0.383064\teval-merror:0.382715\n",
      "[265]\ttrain-merror:0.383108\teval-merror:0.38289\n",
      "[266]\ttrain-merror:0.38305\teval-merror:0.383006\n",
      "[267]\ttrain-merror:0.38305\teval-merror:0.38289\n",
      "[268]\ttrain-merror:0.382933\teval-merror:0.38289\n",
      "[269]\ttrain-merror:0.382933\teval-merror:0.382773\n",
      "[270]\ttrain-merror:0.382933\teval-merror:0.382541\n",
      "[271]\ttrain-merror:0.382904\teval-merror:0.382367\n",
      "[272]\ttrain-merror:0.382817\teval-merror:0.382541\n",
      "[273]\ttrain-merror:0.38289\teval-merror:0.38225\n",
      "[274]\ttrain-merror:0.382933\teval-merror:0.382076\n",
      "[275]\ttrain-merror:0.382919\teval-merror:0.382308\n",
      "[276]\ttrain-merror:0.382788\teval-merror:0.382367\n",
      "[277]\ttrain-merror:0.382773\teval-merror:0.382367\n",
      "[278]\ttrain-merror:0.382773\teval-merror:0.382367\n",
      "[279]\ttrain-merror:0.382948\teval-merror:0.382483\n",
      "[280]\ttrain-merror:0.382759\teval-merror:0.382657\n",
      "[281]\ttrain-merror:0.382759\teval-merror:0.382657\n",
      "[282]\ttrain-merror:0.382759\teval-merror:0.382541\n",
      "[283]\ttrain-merror:0.382773\teval-merror:0.382657\n",
      "[284]\ttrain-merror:0.382715\teval-merror:0.382541\n",
      "[285]\ttrain-merror:0.382614\teval-merror:0.382483\n",
      "[286]\ttrain-merror:0.382628\teval-merror:0.382541\n",
      "[287]\ttrain-merror:0.382686\teval-merror:0.382599\n",
      "[288]\ttrain-merror:0.382686\teval-merror:0.382599\n",
      "[289]\ttrain-merror:0.382701\teval-merror:0.382599\n",
      "[290]\ttrain-merror:0.382672\teval-merror:0.382367\n",
      "[291]\ttrain-merror:0.382672\teval-merror:0.382367\n",
      "[292]\ttrain-merror:0.382672\teval-merror:0.382367\n",
      "[293]\ttrain-merror:0.382585\teval-merror:0.382367\n",
      "[294]\ttrain-merror:0.382672\teval-merror:0.382367\n",
      "[295]\ttrain-merror:0.382817\teval-merror:0.38225\n",
      "[296]\ttrain-merror:0.382628\teval-merror:0.382076\n",
      "[297]\ttrain-merror:0.382497\teval-merror:0.382832\n",
      "[298]\ttrain-merror:0.382614\teval-merror:0.382715\n",
      "[299]\ttrain-merror:0.382628\teval-merror:0.382832\n",
      "[300]\ttrain-merror:0.382599\teval-merror:0.382773\n",
      "[301]\ttrain-merror:0.382308\teval-merror:0.382715\n",
      "[302]\ttrain-merror:0.382221\teval-merror:0.382715\n",
      "[303]\ttrain-merror:0.382163\teval-merror:0.382715\n",
      "[304]\ttrain-merror:0.382236\teval-merror:0.382773\n",
      "[305]\ttrain-merror:0.382236\teval-merror:0.382541\n",
      "[306]\ttrain-merror:0.382236\teval-merror:0.382541\n",
      "[307]\ttrain-merror:0.382192\teval-merror:0.382599\n",
      "[308]\ttrain-merror:0.382178\teval-merror:0.382599\n",
      "[309]\ttrain-merror:0.382207\teval-merror:0.382541\n",
      "[310]\ttrain-merror:0.382076\teval-merror:0.382425\n",
      "[311]\ttrain-merror:0.382076\teval-merror:0.382483\n",
      "[312]\ttrain-merror:0.382134\teval-merror:0.382425\n",
      "[313]\ttrain-merror:0.381931\teval-merror:0.382308\n",
      "[314]\ttrain-merror:0.381814\teval-merror:0.381844\n",
      "[315]\ttrain-merror:0.381887\teval-merror:0.382134\n",
      "[316]\ttrain-merror:0.381785\teval-merror:0.382134\n",
      "[317]\ttrain-merror:0.381814\teval-merror:0.382134\n",
      "[318]\ttrain-merror:0.381887\teval-merror:0.382134\n",
      "[319]\ttrain-merror:0.381887\teval-merror:0.382134\n",
      "[320]\ttrain-merror:0.381742\teval-merror:0.382018\n",
      "[321]\ttrain-merror:0.381916\teval-merror:0.382076\n",
      "[322]\ttrain-merror:0.381974\teval-merror:0.38196\n",
      "[323]\ttrain-merror:0.382061\teval-merror:0.381379\n",
      "[324]\ttrain-merror:0.38196\teval-merror:0.381379\n",
      "[325]\ttrain-merror:0.381989\teval-merror:0.381379\n",
      "[326]\ttrain-merror:0.38196\teval-merror:0.381379\n",
      "[327]\ttrain-merror:0.382076\teval-merror:0.381495\n",
      "[328]\ttrain-merror:0.38212\teval-merror:0.381495\n",
      "[329]\ttrain-merror:0.382163\teval-merror:0.381437\n",
      "[330]\ttrain-merror:0.38212\teval-merror:0.381262\n",
      "[331]\ttrain-merror:0.382178\teval-merror:0.381088\n",
      "[332]\ttrain-merror:0.382236\teval-merror:0.380856\n",
      "[333]\ttrain-merror:0.382236\teval-merror:0.380856\n",
      "[334]\ttrain-merror:0.38225\teval-merror:0.380914\n",
      "[335]\ttrain-merror:0.382236\teval-merror:0.380856\n",
      "[336]\ttrain-merror:0.38225\teval-merror:0.380856\n",
      "[337]\ttrain-merror:0.38225\teval-merror:0.380856\n",
      "[338]\ttrain-merror:0.38225\teval-merror:0.380856\n",
      "[339]\ttrain-merror:0.382192\teval-merror:0.380972\n",
      "[340]\ttrain-merror:0.382221\teval-merror:0.380972\n",
      "[341]\ttrain-merror:0.382178\teval-merror:0.380914\n",
      "[342]\ttrain-merror:0.382149\teval-merror:0.380914\n",
      "[343]\ttrain-merror:0.382425\teval-merror:0.380797\n",
      "[344]\ttrain-merror:0.382381\teval-merror:0.381088\n",
      "[345]\ttrain-merror:0.382367\teval-merror:0.381379\n",
      "[346]\ttrain-merror:0.382323\teval-merror:0.38132\n",
      "[347]\ttrain-merror:0.382279\teval-merror:0.381262\n",
      "[348]\ttrain-merror:0.382279\teval-merror:0.381146\n",
      "[349]\ttrain-merror:0.382308\teval-merror:0.381146\n",
      "[350]\ttrain-merror:0.382265\teval-merror:0.381262\n",
      "[351]\ttrain-merror:0.382221\teval-merror:0.381262\n",
      "[352]\ttrain-merror:0.382236\teval-merror:0.38132\n",
      "[353]\ttrain-merror:0.382134\teval-merror:0.381379\n",
      "[354]\ttrain-merror:0.382134\teval-merror:0.381379\n",
      "[355]\ttrain-merror:0.38212\teval-merror:0.381379\n",
      "[356]\ttrain-merror:0.382091\teval-merror:0.381844\n",
      "[357]\ttrain-merror:0.382105\teval-merror:0.381611\n",
      "[358]\ttrain-merror:0.382032\teval-merror:0.381611\n",
      "[359]\ttrain-merror:0.382091\teval-merror:0.381669\n",
      "[360]\ttrain-merror:0.382003\teval-merror:0.381437\n",
      "[361]\ttrain-merror:0.382018\teval-merror:0.381437\n",
      "[362]\ttrain-merror:0.382265\teval-merror:0.381611\n",
      "[363]\ttrain-merror:0.382149\teval-merror:0.381611\n",
      "[364]\ttrain-merror:0.382091\teval-merror:0.381204\n",
      "[365]\ttrain-merror:0.382076\teval-merror:0.381379\n",
      "[366]\ttrain-merror:0.382047\teval-merror:0.381495\n",
      "[367]\ttrain-merror:0.381916\teval-merror:0.381902\n",
      "[368]\ttrain-merror:0.381916\teval-merror:0.38196\n",
      "[369]\ttrain-merror:0.381974\teval-merror:0.381902\n",
      "[370]\ttrain-merror:0.38212\teval-merror:0.381727\n",
      "[371]\ttrain-merror:0.38212\teval-merror:0.381727\n",
      "[372]\ttrain-merror:0.38212\teval-merror:0.381727\n",
      "[373]\ttrain-merror:0.38212\teval-merror:0.381727\n",
      "[374]\ttrain-merror:0.38212\teval-merror:0.381727\n",
      "[375]\ttrain-merror:0.38212\teval-merror:0.381727\n",
      "[376]\ttrain-merror:0.382061\teval-merror:0.38132\n",
      "[377]\ttrain-merror:0.382003\teval-merror:0.38132\n",
      "[378]\ttrain-merror:0.381887\teval-merror:0.381204\n",
      "[379]\ttrain-merror:0.381873\teval-merror:0.381204\n",
      "[380]\ttrain-merror:0.381844\teval-merror:0.380914\n",
      "[381]\ttrain-merror:0.382047\teval-merror:0.381379\n",
      "[382]\ttrain-merror:0.382047\teval-merror:0.381379\n",
      "[383]\ttrain-merror:0.382032\teval-merror:0.381262\n",
      "[384]\ttrain-merror:0.381974\teval-merror:0.380972\n",
      "[385]\ttrain-merror:0.381931\teval-merror:0.380856\n",
      "[386]\ttrain-merror:0.381902\teval-merror:0.380797\n",
      "[387]\ttrain-merror:0.381873\teval-merror:0.380797\n",
      "[388]\ttrain-merror:0.381902\teval-merror:0.381088\n",
      "[389]\ttrain-merror:0.381873\teval-merror:0.380797\n",
      "[390]\ttrain-merror:0.381945\teval-merror:0.381204\n",
      "[391]\ttrain-merror:0.381931\teval-merror:0.381088\n",
      "[392]\ttrain-merror:0.381902\teval-merror:0.381204\n",
      "[393]\ttrain-merror:0.382236\teval-merror:0.381437\n",
      "[394]\ttrain-merror:0.382221\teval-merror:0.38132\n",
      "[395]\ttrain-merror:0.382047\teval-merror:0.380739\n",
      "[396]\ttrain-merror:0.382207\teval-merror:0.380449\n",
      "[397]\ttrain-merror:0.382236\teval-merror:0.380972\n",
      "[398]\ttrain-merror:0.382236\teval-merror:0.381204\n",
      "[399]\ttrain-merror:0.382279\teval-merror:0.380972\n",
      "[400]\ttrain-merror:0.382149\teval-merror:0.38103\n",
      "[401]\ttrain-merror:0.382047\teval-merror:0.380914\n",
      "[402]\ttrain-merror:0.382047\teval-merror:0.380914\n",
      "[403]\ttrain-merror:0.382061\teval-merror:0.380856\n",
      "[404]\ttrain-merror:0.382149\teval-merror:0.380914\n",
      "[405]\ttrain-merror:0.382134\teval-merror:0.380914\n",
      "[406]\ttrain-merror:0.382134\teval-merror:0.380972\n",
      "[407]\ttrain-merror:0.382134\teval-merror:0.380972\n",
      "[408]\ttrain-merror:0.38212\teval-merror:0.380972\n",
      "[409]\ttrain-merror:0.382003\teval-merror:0.380797\n",
      "[410]\ttrain-merror:0.382178\teval-merror:0.380565\n",
      "[411]\ttrain-merror:0.382149\teval-merror:0.380623\n",
      "[412]\ttrain-merror:0.382207\teval-merror:0.380507\n",
      "[413]\ttrain-merror:0.382265\teval-merror:0.380565\n",
      "[414]\ttrain-merror:0.382178\teval-merror:0.380623\n",
      "[415]\ttrain-merror:0.382105\teval-merror:0.380449\n",
      "[416]\ttrain-merror:0.382178\teval-merror:0.380565\n",
      "[417]\ttrain-merror:0.382178\teval-merror:0.380507\n",
      "[418]\ttrain-merror:0.382178\teval-merror:0.380507\n",
      "[419]\ttrain-merror:0.382178\teval-merror:0.380507\n",
      "[420]\ttrain-merror:0.382163\teval-merror:0.380507\n",
      "[421]\ttrain-merror:0.382265\teval-merror:0.380449\n",
      "[422]\ttrain-merror:0.38225\teval-merror:0.380449\n",
      "[423]\ttrain-merror:0.382265\teval-merror:0.380449\n",
      "[424]\ttrain-merror:0.382352\teval-merror:0.380623\n",
      "[425]\ttrain-merror:0.382163\teval-merror:0.380914\n",
      "[426]\ttrain-merror:0.382163\teval-merror:0.380681\n",
      "[427]\ttrain-merror:0.382047\teval-merror:0.380681\n",
      "[428]\ttrain-merror:0.382047\teval-merror:0.380681\n",
      "[429]\ttrain-merror:0.382105\teval-merror:0.380623\n",
      "[430]\ttrain-merror:0.381931\teval-merror:0.380797\n",
      "[431]\ttrain-merror:0.381945\teval-merror:0.380856\n",
      "[432]\ttrain-merror:0.382018\teval-merror:0.380681\n",
      "[433]\ttrain-merror:0.382032\teval-merror:0.380623\n",
      "[434]\ttrain-merror:0.381931\teval-merror:0.380507\n",
      "[435]\ttrain-merror:0.381945\teval-merror:0.380565\n",
      "[436]\ttrain-merror:0.382018\teval-merror:0.380565\n",
      "[437]\ttrain-merror:0.382061\teval-merror:0.380507\n",
      "[438]\ttrain-merror:0.382091\teval-merror:0.381088\n",
      "[439]\ttrain-merror:0.382076\teval-merror:0.381262\n",
      "[440]\ttrain-merror:0.382105\teval-merror:0.381379\n",
      "[441]\ttrain-merror:0.381989\teval-merror:0.381379\n",
      "[442]\ttrain-merror:0.381974\teval-merror:0.381379\n",
      "[443]\ttrain-merror:0.38196\teval-merror:0.381379\n",
      "[444]\ttrain-merror:0.382003\teval-merror:0.381379\n",
      "[445]\ttrain-merror:0.382003\teval-merror:0.381379\n",
      "[446]\ttrain-merror:0.381873\teval-merror:0.381204\n",
      "[447]\ttrain-merror:0.381771\teval-merror:0.381262\n",
      "[448]\ttrain-merror:0.381844\teval-merror:0.381146\n",
      "[449]\ttrain-merror:0.381844\teval-merror:0.381146\n",
      "[450]\ttrain-merror:0.381814\teval-merror:0.381146\n",
      "[451]\ttrain-merror:0.381814\teval-merror:0.381146\n",
      "[452]\ttrain-merror:0.381844\teval-merror:0.381379\n",
      "[453]\ttrain-merror:0.381887\teval-merror:0.381553\n",
      "[454]\ttrain-merror:0.381771\teval-merror:0.38132\n",
      "[455]\ttrain-merror:0.381713\teval-merror:0.380914\n",
      "[456]\ttrain-merror:0.381684\teval-merror:0.38103\n",
      "[457]\ttrain-merror:0.381597\teval-merror:0.381088\n",
      "[458]\ttrain-merror:0.38164\teval-merror:0.381088\n",
      "[459]\ttrain-merror:0.381655\teval-merror:0.381088\n",
      "[460]\ttrain-merror:0.381669\teval-merror:0.380972\n",
      "[461]\ttrain-merror:0.381684\teval-merror:0.38103\n",
      "[462]\ttrain-merror:0.381669\teval-merror:0.380972\n",
      "[463]\ttrain-merror:0.381611\teval-merror:0.38103\n",
      "[464]\ttrain-merror:0.381611\teval-merror:0.38103\n",
      "[465]\ttrain-merror:0.381684\teval-merror:0.380972\n",
      "[466]\ttrain-merror:0.381684\teval-merror:0.380972\n",
      "[467]\ttrain-merror:0.381727\teval-merror:0.380972\n",
      "[468]\ttrain-merror:0.381669\teval-merror:0.380972\n",
      "[469]\ttrain-merror:0.381684\teval-merror:0.380972\n",
      "[470]\ttrain-merror:0.381756\teval-merror:0.380797\n",
      "[471]\ttrain-merror:0.381713\teval-merror:0.381146\n",
      "[472]\ttrain-merror:0.38164\teval-merror:0.381262\n",
      "[473]\ttrain-merror:0.381785\teval-merror:0.380681\n",
      "[474]\ttrain-merror:0.381785\teval-merror:0.380681\n",
      "[475]\ttrain-merror:0.3818\teval-merror:0.380332\n",
      "[476]\ttrain-merror:0.3818\teval-merror:0.380332\n",
      "[477]\ttrain-merror:0.3818\teval-merror:0.380332\n",
      "[478]\ttrain-merror:0.381887\teval-merror:0.380797\n",
      "[479]\ttrain-merror:0.38196\teval-merror:0.380739\n",
      "[480]\ttrain-merror:0.3818\teval-merror:0.380797\n",
      "[481]\ttrain-merror:0.381785\teval-merror:0.380681\n",
      "[482]\ttrain-merror:0.3818\teval-merror:0.380565\n",
      "[483]\ttrain-merror:0.381742\teval-merror:0.380856\n",
      "[484]\ttrain-merror:0.381814\teval-merror:0.380797\n",
      "[485]\ttrain-merror:0.381771\teval-merror:0.380914\n",
      "[486]\ttrain-merror:0.381698\teval-merror:0.380797\n",
      "[487]\ttrain-merror:0.381553\teval-merror:0.380565\n",
      "[488]\ttrain-merror:0.381611\teval-merror:0.380565\n",
      "[489]\ttrain-merror:0.381509\teval-merror:0.380507\n",
      "[490]\ttrain-merror:0.381684\teval-merror:0.380332\n",
      "[491]\ttrain-merror:0.38148\teval-merror:0.380391\n",
      "[492]\ttrain-merror:0.381538\teval-merror:0.380216\n",
      "[493]\ttrain-merror:0.381553\teval-merror:0.380216\n",
      "[494]\ttrain-merror:0.381553\teval-merror:0.380391\n",
      "[495]\ttrain-merror:0.381597\teval-merror:0.380391\n",
      "[496]\ttrain-merror:0.381538\teval-merror:0.380332\n",
      "[497]\ttrain-merror:0.381509\teval-merror:0.380623\n",
      "[498]\ttrain-merror:0.381437\teval-merror:0.380739\n",
      "[499]\ttrain-merror:0.381422\teval-merror:0.380681\n"
     ]
    }
   ],
   "source": [
    "param_2 = {\n",
    "    \"max_depth\":2,\n",
    "    \"eta\":0.3,\n",
    "    \"objective\":\"multi:softmax\",\n",
    "    \"booster\":\"gbtree\",\n",
    "    \"learning_rate\":0.1,\n",
    "    'num_class':2\n",
    "}\n",
    "\n",
    "xgb3 = xgb.train(params=param_2, dtrain=train,num_boost_round = 500, evals= [(train, 'train'), (test, 'eval')])\n"
   ]
  },
  {
   "cell_type": "code",
   "execution_count": 99,
   "metadata": {
    "colab": {
     "base_uri": "https://localhost:8080/"
    },
    "executionInfo": {
     "elapsed": 29,
     "status": "ok",
     "timestamp": 1657191675520,
     "user": {
      "displayName": "Mayeul de Rougé",
      "userId": "12836380890528998156"
     },
     "user_tz": -120
    },
    "id": "S0_Nj0iZx2th",
    "outputId": "fa2b887e-d7f4-4770-f678-1b333b360683"
   },
   "outputs": [
    {
     "name": "stdout",
     "output_type": "stream",
     "text": [
      "61.93 %\n"
     ]
    }
   ],
   "source": [
    "# Score de précision sur l'ensemble de validation\n",
    "predictions = xgb3.predict(test)\n",
    "\n",
    "print(np.round(accuracy_score(y_valid, predictions)*100, 2), '%')"
   ]
  },
  {
   "cell_type": "code",
   "execution_count": 100,
   "metadata": {
    "colab": {
     "base_uri": "https://localhost:8080/"
    },
    "executionInfo": {
     "elapsed": 16,
     "status": "ok",
     "timestamp": 1657191675520,
     "user": {
      "displayName": "Mayeul de Rougé",
      "userId": "12836380890528998156"
     },
     "user_tz": -120
    },
    "id": "lfxXSkO-x22S",
    "outputId": "47472a1f-32c0-450e-fbcd-0a51d50f113c"
   },
   "outputs": [
    {
     "name": "stdout",
     "output_type": "stream",
     "text": [
      "accuracy score :  0.6193188422643264\n",
      "precision score :  0.6383982742348658\n",
      "recall score :  0.5503893990468441\n",
      "f1 score :  0.5911360799001248\n"
     ]
    }
   ],
   "source": [
    "from sklearn.metrics import accuracy_score, precision_score,recall_score,f1_score\n",
    "print('accuracy score : ', accuracy_score(y_valid, predictions))\n",
    "print('precision score : ', precision_score(y_valid, predictions))\n",
    "print('recall score : ', recall_score(y_valid, predictions))\n",
    "print('f1 score : ', f1_score(y_valid, predictions))"
   ]
  },
  {
   "cell_type": "markdown",
   "metadata": {
    "id": "dAEv2wOrTeOt"
   },
   "source": [
    "Toutes les métriques de performances ont très légérement augmenté. Nous pouvons choisir cet algorithme qui présente de meilleures performances que les précedents."
   ]
  },
  {
   "cell_type": "markdown",
   "metadata": {
    "id": "77Nrr_DVV6jK"
   },
   "source": [
    "Cependant, dans notre projet, nous n'avons pas utilisé d'outil informatique existant pour chercher les meilleurs hyperparamètres. Utilisons l'outil GridSearchCV de la bibliothèque sklearn avec notre algorithme de régression logistique :"
   ]
  },
  {
   "cell_type": "markdown",
   "metadata": {
    "id": "m2li5UXwWqFA"
   },
   "source": [
    "### GridSearchCV"
   ]
  },
  {
   "cell_type": "code",
   "execution_count": 102,
   "metadata": {
    "executionInfo": {
     "elapsed": 197,
     "status": "ok",
     "timestamp": 1657192786813,
     "user": {
      "displayName": "Mayeul de Rougé",
      "userId": "12836380890528998156"
     },
     "user_tz": -120
    },
    "id": "Ips803lK4QkV"
   },
   "outputs": [],
   "source": [
    "from sklearn.model_selection import GridSearchCV"
   ]
  },
  {
   "cell_type": "code",
   "execution_count": 60,
   "metadata": {
    "executionInfo": {
     "elapsed": 181,
     "status": "ok",
     "timestamp": 1657187533844,
     "user": {
      "displayName": "Mayeul de Rougé",
      "userId": "12836380890528998156"
     },
     "user_tz": -120
    },
    "id": "LINvor9G4QO5"
   },
   "outputs": [],
   "source": [
    "grid={\"C\":np.logspace(-3,3,7), \"penalty\":[\"l1\",\"l2\"]}# l1 lasso l2 ridge\n"
   ]
  },
  {
   "cell_type": "code",
   "execution_count": 109,
   "metadata": {
    "colab": {
     "base_uri": "https://localhost:8080/"
    },
    "executionInfo": {
     "elapsed": 221492,
     "status": "ok",
     "timestamp": 1657195037572,
     "user": {
      "displayName": "Mayeul de Rougé",
      "userId": "12836380890528998156"
     },
     "user_tz": -120
    },
    "id": "Yc2pZh5P2h5g",
    "outputId": "90159391-9786-463f-d2dc-b574871502e2"
   },
   "outputs": [
    {
     "name": "stderr",
     "output_type": "stream",
     "text": [
      "/usr/local/lib/python3.7/dist-packages/sklearn/model_selection/_validation.py:372: FitFailedWarning: \n",
      "400 fits failed out of a total of 800.\n",
      "The score on these train-test partitions for these parameters will be set to nan.\n",
      "If these failures are not expected, you can try to debug them by setting error_score='raise'.\n",
      "\n",
      "Below are more details about the failures:\n",
      "--------------------------------------------------------------------------------\n",
      "400 fits failed with the following error:\n",
      "Traceback (most recent call last):\n",
      "  File \"/usr/local/lib/python3.7/dist-packages/sklearn/model_selection/_validation.py\", line 680, in _fit_and_score\n",
      "    estimator.fit(X_train, y_train, **fit_params)\n",
      "  File \"/usr/local/lib/python3.7/dist-packages/sklearn/linear_model/_logistic.py\", line 1461, in fit\n",
      "    solver = _check_solver(self.solver, self.penalty, self.dual)\n",
      "  File \"/usr/local/lib/python3.7/dist-packages/sklearn/linear_model/_logistic.py\", line 449, in _check_solver\n",
      "    % (solver, penalty)\n",
      "ValueError: Solver lbfgs supports only 'l2' or 'none' penalties, got l1 penalty.\n",
      "\n",
      "  warnings.warn(some_fits_failed_message, FitFailedWarning)\n",
      "/usr/local/lib/python3.7/dist-packages/sklearn/model_selection/_search.py:972: UserWarning: One or more of the test scores are non-finite: [           nan 6.66789455e-01            nan 6.67436650e-01\n",
      "            nan 6.68086889e-01            nan 6.68794762e-01\n",
      "            nan 6.69119872e-01            nan 6.69749956e-01\n",
      "            nan 6.70439764e-01            nan 6.70528382e-01\n",
      "            nan 6.68231681e-01            nan 6.55117498e-01\n",
      "            nan 5.83893985e-01            nan 3.06757671e-01\n",
      "            nan 1.21662027e-03            nan 2.90317898e-04\n",
      "            nan 0.00000000e+00            nan 0.00000000e+00\n",
      "            nan 0.00000000e+00            nan 0.00000000e+00\n",
      "            nan 0.00000000e+00            nan 0.00000000e+00\n",
      "            nan 6.66789455e-01            nan 6.67436650e-01\n",
      "            nan 6.68086889e-01            nan 6.68801224e-01\n",
      "            nan 6.69113329e-01            nan 6.69743358e-01\n",
      "            nan 6.70426534e-01            nan 6.70521644e-01\n",
      "            nan 6.68231681e-01            nan 6.55101729e-01\n",
      "            nan 5.83963036e-01            nan 3.06740836e-01\n",
      "            nan 1.21662027e-03            nan 4.64306442e-04\n",
      "            nan 0.00000000e+00            nan 0.00000000e+00\n",
      "            nan 0.00000000e+00            nan 0.00000000e+00\n",
      "            nan 0.00000000e+00            nan 0.00000000e+00\n",
      "            nan 6.66789455e-01            nan 6.67436650e-01\n",
      "            nan 6.68086889e-01            nan 6.68788243e-01\n",
      "            nan 6.69113329e-01            nan 6.69769713e-01\n",
      "            nan 6.70459819e-01            nan 6.70521562e-01\n",
      "            nan 6.68231681e-01            nan 6.55101834e-01\n",
      "            nan 5.83759042e-01            nan 3.06937498e-01\n",
      "            nan 1.21662027e-03            nan 4.64306442e-04\n",
      "            nan 0.00000000e+00            nan 0.00000000e+00\n",
      "            nan 0.00000000e+00            nan 0.00000000e+00\n",
      "            nan 0.00000000e+00            nan 0.00000000e+00\n",
      "            nan 6.66789455e-01            nan 6.67436650e-01\n",
      "            nan 6.68086889e-01            nan 6.68801224e-01\n",
      "            nan 6.69113329e-01            nan 6.69736663e-01\n",
      "            nan 6.70453063e-01            nan 6.70514882e-01\n",
      "            nan 6.68231681e-01            nan 6.55101834e-01\n",
      "            nan 5.83754591e-01            nan 3.06120207e-01\n",
      "            nan 1.21662027e-03            nan 4.64306442e-04\n",
      "            nan 0.00000000e+00            nan 0.00000000e+00\n",
      "            nan 0.00000000e+00            nan 0.00000000e+00\n",
      "            nan 0.00000000e+00            nan 0.00000000e+00]\n",
      "  category=UserWarning,\n",
      "/usr/local/lib/python3.7/dist-packages/sklearn/model_selection/_search.py:972: UserWarning: One or more of the train scores are non-finite: [       nan 0.66678778        nan 0.66741563        nan 0.66808839\n",
      "        nan 0.6687573         nan 0.66907521        nan 0.66985159\n",
      "        nan 0.67032173        nan 0.67056762        nan 0.66838667\n",
      "        nan 0.65527686        nan 0.58423564        nan 0.30802476\n",
      "        nan 0.000957          nan 0.                nan 0.\n",
      "        nan 0.                nan 0.                nan 0.\n",
      "        nan 0.                nan 0.                nan 0.66678778\n",
      "        nan 0.66741563        nan 0.66809164        nan 0.66875892\n",
      "        nan 0.6690801         nan 0.66984339        nan 0.6703218\n",
      "        nan 0.67056593        nan 0.66839554        nan 0.65529671\n",
      "        nan 0.58426586        nan 0.30804239        nan 0.00118931\n",
      "        nan 0.                nan 0.                nan 0.\n",
      "        nan 0.                nan 0.                nan 0.\n",
      "        nan 0.                nan 0.66678778        nan 0.66741563\n",
      "        nan 0.66809164        nan 0.66875892        nan 0.66907682\n",
      "        nan 0.66982679        nan 0.67032341        nan 0.67056091\n",
      "        nan 0.66838668        nan 0.65529275        nan 0.58437485\n",
      "        nan 0.30793569        nan 0.0009715         nan 0.\n",
      "        nan 0.                nan 0.                nan 0.\n",
      "        nan 0.                nan 0.                nan 0.\n",
      "        nan 0.66678778        nan 0.66741563        nan 0.66808839\n",
      "        nan 0.66875892        nan 0.66908176        nan 0.66983673\n",
      "        nan 0.67032341        nan 0.67056762        nan 0.66838667\n",
      "        nan 0.65529674        nan 0.58434924        nan 0.30788274\n",
      "        nan 0.0009715         nan 0.                nan 0.\n",
      "        nan 0.                nan 0.                nan 0.\n",
      "        nan 0.                nan 0.        ]\n",
      "  category=UserWarning,\n"
     ]
    },
    {
     "data": {
      "text/plain": [
       "GridSearchCV(cv=StratifiedKFold(n_splits=5, random_state=None, shuffle=False),\n",
       "             estimator=LogisticRegression(),\n",
       "             param_grid={'C': [0.1, 0.5, 1, 10],\n",
       "                         'class_weight': [{0: 0.01, 1: 0.99},\n",
       "                                          {0: 0.06210526315789474,\n",
       "                                           1: 0.9378947368421052},\n",
       "                                          {0: 0.11421052631578947,\n",
       "                                           1: 0.8857894736842106},\n",
       "                                          {0: 0.16631578947368422,\n",
       "                                           1: 0.8336842105263158},\n",
       "                                          {0: 0.21842105263157896,\n",
       "                                           1: 0.781578947368421},\n",
       "                                          {...\n",
       "                                           1: 0.36473684210526314},\n",
       "                                          {0: 0.6873684210526316,\n",
       "                                           1: 0.31263157894736837},\n",
       "                                          {0: 0.7394736842105263,\n",
       "                                           1: 0.2605263157894737},\n",
       "                                          {0: 0.791578947368421,\n",
       "                                           1: 0.20842105263157895},\n",
       "                                          {0: 0.8436842105263158,\n",
       "                                           1: 0.15631578947368419},\n",
       "                                          {0: 0.8957894736842106,\n",
       "                                           1: 0.10421052631578942},\n",
       "                                          {0: 0.9478947368421053,\n",
       "                                           1: 0.052105263157894655},\n",
       "                                          {0: 1.0, 1: 0.0}],\n",
       "                         'penalty': ['l1', 'l2']},\n",
       "             return_train_score=True, scoring='f1')"
      ]
     },
     "execution_count": 109,
     "metadata": {},
     "output_type": "execute_result"
    }
   ],
   "source": [
    "#Hyperparameter tuning\n",
    "\n",
    "from sklearn.model_selection import StratifiedKFold\n",
    "# define model/create instance\n",
    "lr=linear_model.LogisticRegression()\n",
    "#tuning weight for minority class then weight for majority class will be 1-weight of minority class\n",
    "#Setting the range for class weights\n",
    "weights = np.linspace(0.01,1,20)\n",
    "#specifying all hyperparameters with possible values\n",
    "param= {'C': [0.1, 0.5, 1,10], 'penalty': ['l1', 'l2'],\"class_weight\":[{0:x ,1:1.0 -x} for x in weights]}\n",
    "# create 5 folds\n",
    "folds = StratifiedKFold(n_splits = 5, shuffle = False)\n",
    "#Gridsearch for hyperparam tuning\n",
    "model= GridSearchCV(estimator= lr,param_grid=param,scoring=\"f1\",cv=folds,return_train_score=True)\n",
    "#train model to learn relationships between x and y\n",
    "model.fit(X_train,y_train)"
   ]
  },
  {
   "cell_type": "code",
   "execution_count": 110,
   "metadata": {
    "colab": {
     "base_uri": "https://localhost:8080/"
    },
    "executionInfo": {
     "elapsed": 212,
     "status": "ok",
     "timestamp": 1657195123737,
     "user": {
      "displayName": "Mayeul de Rougé",
      "userId": "12836380890528998156"
     },
     "user_tz": -120
    },
    "id": "9GUba1nR2id7",
    "outputId": "f6964c23-d6ab-4daa-b889-ae984823f141"
   },
   "outputs": [
    {
     "name": "stdout",
     "output_type": "stream",
     "text": [
      "Best F1 score:  0.6705283815946953\n",
      "Best hyperparameters:  {'C': 0.1, 'class_weight': {0: 0.37473684210526315, 1: 0.6252631578947369}, 'penalty': 'l2'}\n"
     ]
    }
   ],
   "source": [
    "# print best hyperparameters\n",
    "print(\"Best F1 score: \", model.best_score_)\n",
    "print(\"Best hyperparameters: \", model.best_params_)"
   ]
  },
  {
   "cell_type": "markdown",
   "metadata": {
    "id": "qlLl-mCCh76B"
   },
   "source": [
    "Grâce au \"tuning\" d'hyperparamètres, nous arrivons à obtenir un f1-score de 0.67 pour notre modèle de régression, qui est au supérieur au f1-score de 0.59 du modèle XGBoost. En l'état donc, il serait plus approprié d'utiliser ce dernier algorithme pour prédire le gagnant d'un match. Cependant, il est à noter que le paramétrage de l'algorithme XGBoost n'est pas optimal. Il serait intéressant de procéder à l'utilisation d'un GridSearchCV également, ce qui est assez délicat. "
   ]
  },
  {
   "cell_type": "code",
   "execution_count": 110,
   "metadata": {
    "executionInfo": {
     "elapsed": 214,
     "status": "ok",
     "timestamp": 1657196160518,
     "user": {
      "displayName": "Mayeul de Rougé",
      "userId": "12836380890528998156"
     },
     "user_tz": -120
    },
    "id": "V2-O0o6HztlN"
   },
   "outputs": [],
   "source": []
  },
  {
   "cell_type": "code",
   "execution_count": 59,
   "metadata": {
    "executionInfo": {
     "elapsed": 11,
     "status": "ok",
     "timestamp": 1657186919762,
     "user": {
      "displayName": "Mayeul de Rougé",
      "userId": "12836380890528998156"
     },
     "user_tz": -120
    },
    "id": "wSqACXiQzvqv"
   },
   "outputs": [],
   "source": []
  }
 ],
 "metadata": {
  "colab": {
   "collapsed_sections": [],
   "name": "projet_ML_tennis_V2.ipynb",
   "provenance": [
    {
     "file_id": "1ZVl_8ktjomCw3-50QcveWQi-ak42lg8v",
     "timestamp": 1657033429232
    }
   ],
   "toc_visible": true
  },
  "kernelspec": {
   "display_name": "Python 3 (ipykernel)",
   "language": "python",
   "name": "python3"
  },
  "language_info": {
   "codemirror_mode": {
    "name": "ipython",
    "version": 3
   },
   "file_extension": ".py",
   "mimetype": "text/x-python",
   "name": "python",
   "nbconvert_exporter": "python",
   "pygments_lexer": "ipython3",
   "version": "3.8.13"
  },
  "vscode": {
   "interpreter": {
    "hash": "5e708d97238d47ef312986913befbb3cc8c8006ccdd2ab942d49eebdc52c3642"
   }
  }
 },
 "nbformat": 4,
 "nbformat_minor": 1
}
